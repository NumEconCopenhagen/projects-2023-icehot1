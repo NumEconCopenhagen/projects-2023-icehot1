{
 "cells": [
  {
   "cell_type": "code",
<<<<<<< HEAD
   "execution_count": 1,
=======
<<<<<<< HEAD
   "execution_count": 188,
=======
   "execution_count": 7,
>>>>>>> d72960835358595a01b3c7834bf626102e251c6e
>>>>>>> 96460585080e36b99665b331efde598d6f6ac0c4
   "metadata": {},
   "outputs": [],
   "source": [
    "from types import SimpleNamespace\n",
    "\n",
    "import numpy as np\n",
    "import scipy as sc\n",
    "from scipy import optimize\n",
    "import sympy as sm\n",
    "import pandas as pd\n",
    "from tabulate import tabulate\n",
    "import matplotlib.pyplot as plt\n",
    "from sympy import *\n",
    "from sympy import Eq \n",
    "import ipywidgets as widgets\n",
    "from ipywidgets import interact\n",
    "from scipy.optimize import minimize\n",
    "\n",
    "\n",
    "# autoreload modules when code is run\n",
    "%load_ext autoreload\n",
    "%autoreload 2\n",
    "\n",
    "\n",
    "\n",
    "from scipy import interpolate"
   ]
  },
  {
   "attachments": {},
   "cell_type": "markdown",
   "metadata": {},
   "source": [
    "**Table of contents**<a id='toc0_'></a>    \n",
    "- 1. [Problem 1: Optimal taxation with government consumption](#toc1_)    \n",
    "- 2. [Problem 2: Labor adjustment costs](#toc2_)    \n",
    "- 3. [Problem 3: Global optimizer with refined multi-start](#toc3_)    \n",
    "\n",
    "<!-- vscode-jupyter-toc-config\n",
    "\tnumbering=true\n",
    "\tanchor=true\n",
    "\tflat=false\n",
    "\tminLevel=2\n",
    "\tmaxLevel=6\n",
    "\t/vscode-jupyter-toc-config -->\n",
    "<!-- THIS CELL WILL BE REPLACED ON TOC UPDATE. DO NOT WRITE YOUR TEXT IN THIS CELL -->"
   ]
  },
  {
   "attachments": {},
   "cell_type": "markdown",
   "metadata": {},
   "source": [
    "## 1. <a id='toc1_'></a>[Problem 1: Optimal taxation with government consumption](#toc0_)"
   ]
  },
  {
   "attachments": {},
   "cell_type": "markdown",
   "metadata": {},
   "source": [
    "\n",
    "Consider a worker choosing hours of labor, $L\\in[0,24]$, to maximize utility: \n",
    "\n",
    "$$\n",
    "\\begin{align*}\n",
    "V(w,\\tau,G)&=\\max_{L\\in[0,24]}\\ln\\left(C^{\\alpha}G^{1-\\alpha}\\right)-\\nu\\frac{L^{2}}{2}\\\\&\\text{s.t.}\\\\&C=\\kappa+(1-\\tau)wL\n",
    "\\end{align*}\n",
    "$$\n",
    "\n",
    "where \n",
    "\n",
    "* $C$ is *private* consumption with weight $\\alpha\\in(0,1)$.\n",
    "* $\\kappa > 0$ is the *free private* consumption component.\n",
    "* $(1-\\tau)wL$ is the *costly private* consumption component.\n",
    "* $w > 0 $ is the real wage.\n",
    "* $\\tau \\in (0,1)$ is the labor-income tax rate.\n",
    "* $G > 0 $ is *government* consumption with weight $1-\\alpha$.\n",
    "* $\\nu > 0$ is the disutility of labor scaling factor"
   ]
  },
  {
   "attachments": {},
   "cell_type": "markdown",
   "metadata": {},
   "source": [
    "\n",
    "The baseline parameters are:\n",
    "\n",
    "$$\n",
    "\\begin{align*}\n",
    "\\alpha &= 0.5\\\\\n",
    "\\kappa &= 1.0\\\\\n",
    "\\nu &= \\frac{1}{2\\cdot16^2} \\\\\n",
    "w &= 1.0 \\\\ \n",
    "\\tau &= 0.30 \\\\\n",
    "\\end{align*}\n",
    "$$"
   ]
  },
  {
   "attachments": {},
   "cell_type": "markdown",
   "metadata": {},
   "source": [
    "**Question 1:** Verify that the optimal labor supply choice is $L^{\\star}(\\tilde{w}) =\\frac{-\\kappa+\\sqrt{\\kappa^{2}+4\\frac{\\alpha}{\\nu}\\tilde{w}^2}}{2\\tilde{w}}$, where $\\tilde{w} = (1-\\tau)w$, for $G\\in\\left\\{1.0 , 2.0\\right\\}$."
   ]
  },
  {
   "attachments": {},
   "cell_type": "markdown",
   "metadata": {},
   "source": [
    " First, we want to see how the $L^*(\\tilde{w})$ comes out using math solvers without any use of parameters-values. We start by defining all our symbols and then taking the first order conditions and solve for $L^*(\\tilde{w})$. We see that the results we get can be simplified, by deviding and multiplying, to the version provided in the question, and therefore have verified symbolically that the optimal labor supply choice is $L^{\\star}(\\tilde{w}) =\\frac{-\\kappa+\\sqrt{\\kappa^{2}+4\\frac{\\alpha}{\\nu}\\tilde{w}^2}}{2\\tilde{w}}$, where $\\tilde{w} = (1-\\tau)w$, for $G\\in\\left\\{1.0 , 2.0\\right\\}$."
   ]
  },
  {
   "cell_type": "code",
<<<<<<< HEAD
   "execution_count": 2,
=======
<<<<<<< HEAD
   "execution_count": 189,
=======
   "execution_count": 8,
>>>>>>> d72960835358595a01b3c7834bf626102e251c6e
>>>>>>> 96460585080e36b99665b331efde598d6f6ac0c4
   "metadata": {},
   "outputs": [
    {
     "name": "stdout",
     "output_type": "stream",
     "text": [
      "         __________________________________________\n",
      "        ╱   ⎛     2  2          2        2    2  ⎞ \n",
      "κ⋅ν + ╲╱  ν⋅⎝4⋅α⋅τ ⋅w  - 8⋅α⋅τ⋅w  + 4⋅α⋅w  + κ ⋅ν⎠ \n",
      "───────────────────────────────────────────────────\n",
      "                   2⋅ν⋅w⋅(τ - 1)                   \n"
     ]
    }
   ],
   "source": [
    "# Define the symbols\n",
    "L, w, tau, alpha, nu, kappa, G = symbols('L w tau alpha nu kappa G')\n",
    "\n",
    "# Calculate w_tilde\n",
    "w_tilde = (1 - tau) * w\n",
    "\n",
    "# Define the utility function\n",
    "C = kappa + w_tilde * L\n",
    "V = log(C**alpha * G**(1-alpha)) - nu * L**2 / 2\n",
    "\n",
    "# Differentiate the utility function\n",
    "dV_dL = diff(V, L)\n",
    "\n",
    "# Set the derivative equal to zero and solve for L\n",
    "L_star_formula = solve([dV_dL], [L])\n",
    "L_star_formula_positive = L_star_formula[1][0]\n",
    "pprint(L_star_formula_positive)"
   ]
  },
  {
   "attachments": {},
   "cell_type": "markdown",
   "metadata": {},
   "source": [
    " We also want to see if the values from both the provided formula and the one gotten through optimization reach the same answers given the $\\tilde{w} = (1-\\tau)*w$, for $G\\in\\left\\{1.0 , 2.0\\right\\}$.\n",
    "\n",
    " We start by defining our baseline parameters, then we define the utility (using $\\tilde{w}$) and the values for G. Then we print out the values for $L^*$ given both G=1.0 and G=2.0 that are found through both optimization and the given formula. We found that the results are the same, and therefore conclude that we have verified the function for $L^*(\\tilde{w})$\n"
   ]
  },
  {
   "cell_type": "code",
<<<<<<< HEAD
   "execution_count": 3,
=======
<<<<<<< HEAD
   "execution_count": 190,
=======
   "execution_count": 12,
>>>>>>> d72960835358595a01b3c7834bf626102e251c6e
>>>>>>> 96460585080e36b99665b331efde598d6f6ac0c4
   "metadata": {},
   "outputs": [
    {
     "name": "stdout",
     "output_type": "stream",
     "text": [
      "For G = 1.0, L_star (optimized) = 15.30, L_star (formula) = 15.30\n",
      "For G = 2.0, L_star (optimized) = 15.30, L_star (formula) = 15.30\n"
     ]
    }
   ],
   "source": [
    "# Baseline parameters\n",
    "alpha = 0.5\n",
    "kappa = 1.0\n",
    "nu = 1/(2*16**2)\n",
    "w = 1.0\n",
    "tau = 0.30\n",
    "w_tilde = (1-tau)*w\n",
    "G_values = [1.0, 2.0]\n",
    "\n",
    "# Define the utility function\n",
    "def utility(L, w_tilde, G):\n",
    "    C = kappa + w_tilde*L\n",
    "    utility = np.log(C**alpha * G**(1-alpha)) - nu*L**2/2\n",
    "    return -utility  \n",
    "\n",
    "# Define the given formula to compare \n",
    "def L_star_formula(w_tilde):\n",
    "    return (-kappa + np.sqrt(kappa**2 + 4*alpha/nu*w_tilde**2)) / (2*w_tilde)\n",
    "\n",
    "for G in G_values:\n",
    "    # Calculate L_star using optimization\n",
    "    L_star_opt = optimize.minimize(utility, 1, args=(w_tilde, G), bounds=[(0, 24)]).x[0]\n",
    "    # Calculate L_star using the formula\n",
    "    L_star_formula_val = L_star_formula(w_tilde)\n",
    "    print(f\"For G = {G}, L_star (optimized) = {L_star_opt:.2f}, L_star (formula) = {L_star_formula_val:.2f}\")"
   ]
  },
  {
   "attachments": {},
   "cell_type": "markdown",
   "metadata": {},
   "source": [
    "**Question 2:** Illustrate how $L^{\\star}(\\tilde{w})$ depends on $w$."
   ]
  },
  {
   "cell_type": "code",
<<<<<<< HEAD
   "execution_count": 4,
=======
<<<<<<< HEAD
   "execution_count": 191,
=======
   "execution_count": 10,
>>>>>>> d72960835358595a01b3c7834bf626102e251c6e
>>>>>>> 96460585080e36b99665b331efde598d6f6ac0c4
   "metadata": {},
   "outputs": [
    {
     "data": {
      "image/png": "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",
      "text/plain": [
       "<Figure size 640x480 with 1 Axes>"
      ]
     },
     "metadata": {},
     "output_type": "display_data"
    }
   ],
   "source": [
    "# Define the baseline parameters\n",
    "alpha = 0.5\n",
    "kappa = 1.0\n",
    "nu = 1.0 / (2 * 16**2)\n",
    "w = 1.0\n",
    "tau = 0.30\n",
    "\n",
    "# Define the range of w values\n",
    "w_values = np.linspace(0.1, 2.0, 100)\n",
    "\n",
    "# Calculate the optimal labor supply for each w value\n",
    "L_star_values = (-kappa + np.sqrt(kappa**2 + 4 * alpha / nu * (1 - tau) * w_values**2)) / (2 * (1 - tau) * w_values)\n",
    "\n",
    "# Plot the results\n",
    "plt.plot(w_values, L_star_values)\n",
    "plt.xlabel('w')\n",
    "plt.ylabel('L*')\n",
    "plt.title('Optimal Labor Supply')\n",
    "plt.grid(True)\n",
    "plt.show()"
   ]
  },
  {
   "cell_type": "code",
<<<<<<< HEAD
   "execution_count": 5,
=======
<<<<<<< HEAD
   "execution_count": 192,
=======
   "execution_count": 13,
>>>>>>> d72960835358595a01b3c7834bf626102e251c6e
>>>>>>> 96460585080e36b99665b331efde598d6f6ac0c4
   "metadata": {},
   "outputs": [
    {
     "ename": "TypeError",
     "evalue": "L_star_formula() missing 3 required positional arguments: 'alpha', 'nu', and 'kappa'",
     "output_type": "error",
     "traceback": [
      "\u001b[0;31m---------------------------------------------------------------------------\u001b[0m",
      "\u001b[0;31mTypeError\u001b[0m                                 Traceback (most recent call last)",
      "\u001b[0;32m/var/folders/fs/cqlf3bqx62z617mdbh3sn8b00000gn/T/ipykernel_53619/4247890666.py\u001b[0m in \u001b[0;36m<module>\u001b[0;34m\u001b[0m\n\u001b[1;32m     10\u001b[0m \u001b[0;34m\u001b[0m\u001b[0m\n\u001b[1;32m     11\u001b[0m \u001b[0;31m# Calculate the optimal labor supply for each w value\u001b[0m\u001b[0;34m\u001b[0m\u001b[0;34m\u001b[0m\u001b[0m\n\u001b[0;32m---> 12\u001b[0;31m \u001b[0mL_star_values\u001b[0m \u001b[0;34m=\u001b[0m \u001b[0;34m[\u001b[0m\u001b[0mL_star_formula\u001b[0m\u001b[0;34m(\u001b[0m\u001b[0;34m(\u001b[0m\u001b[0;36m1\u001b[0m \u001b[0;34m-\u001b[0m \u001b[0mtau\u001b[0m\u001b[0;34m)\u001b[0m \u001b[0;34m*\u001b[0m \u001b[0mw\u001b[0m\u001b[0;34m)\u001b[0m \u001b[0;32mfor\u001b[0m \u001b[0mw\u001b[0m \u001b[0;32min\u001b[0m \u001b[0mw_values\u001b[0m\u001b[0;34m]\u001b[0m\u001b[0;34m\u001b[0m\u001b[0;34m\u001b[0m\u001b[0m\n\u001b[0m\u001b[1;32m     13\u001b[0m \u001b[0;34m\u001b[0m\u001b[0m\n\u001b[1;32m     14\u001b[0m \u001b[0;31m# Plot the results\u001b[0m\u001b[0;34m\u001b[0m\u001b[0;34m\u001b[0m\u001b[0m\n",
      "\u001b[0;32m/var/folders/fs/cqlf3bqx62z617mdbh3sn8b00000gn/T/ipykernel_53619/4247890666.py\u001b[0m in \u001b[0;36m<listcomp>\u001b[0;34m(.0)\u001b[0m\n\u001b[1;32m     10\u001b[0m \u001b[0;34m\u001b[0m\u001b[0m\n\u001b[1;32m     11\u001b[0m \u001b[0;31m# Calculate the optimal labor supply for each w value\u001b[0m\u001b[0;34m\u001b[0m\u001b[0;34m\u001b[0m\u001b[0m\n\u001b[0;32m---> 12\u001b[0;31m \u001b[0mL_star_values\u001b[0m \u001b[0;34m=\u001b[0m \u001b[0;34m[\u001b[0m\u001b[0mL_star_formula\u001b[0m\u001b[0;34m(\u001b[0m\u001b[0;34m(\u001b[0m\u001b[0;36m1\u001b[0m \u001b[0;34m-\u001b[0m \u001b[0mtau\u001b[0m\u001b[0;34m)\u001b[0m \u001b[0;34m*\u001b[0m \u001b[0mw\u001b[0m\u001b[0;34m)\u001b[0m \u001b[0;32mfor\u001b[0m \u001b[0mw\u001b[0m \u001b[0;32min\u001b[0m \u001b[0mw_values\u001b[0m\u001b[0;34m]\u001b[0m\u001b[0;34m\u001b[0m\u001b[0;34m\u001b[0m\u001b[0m\n\u001b[0m\u001b[1;32m     13\u001b[0m \u001b[0;34m\u001b[0m\u001b[0m\n\u001b[1;32m     14\u001b[0m \u001b[0;31m# Plot the results\u001b[0m\u001b[0;34m\u001b[0m\u001b[0;34m\u001b[0m\u001b[0m\n",
      "\u001b[0;31mTypeError\u001b[0m: L_star_formula() missing 3 required positional arguments: 'alpha', 'nu', and 'kappa'"
     ]
    }
   ],
   "source": [
    "# Define the baseline parameters\n",
    "alpha = 0.5\n",
    "kappa = 1.0\n",
    "nu = 1.0 / (2 * 16**2)\n",
    "w = 1.0\n",
    "tau = 0.30\n",
    "\n",
    "# Define the range of w values\n",
    "w_values = np.linspace(0.1, 2.0, 100)\n",
    "\n",
    "# Calculate the optimal labor supply for each w value\n",
    "L_star_values = [L_star_formula((1 - tau) * w) for w in w_values]\n",
    "\n",
    "# Plot the results\n",
    "plt.plot(w_values, L_star_values)\n",
    "plt.xlabel('w')\n",
    "plt.ylabel('L*')\n",
    "plt.title('Optimal Labor Supply')\n",
    "plt.grid(True)\n",
    "plt.show()"
   ]
  },
  {
   "attachments": {},
   "cell_type": "markdown",
   "metadata": {},
   "source": [
    "\n",
    "We now consider a government, who chooses $\\tau$ and spend all of the taxes on government consumption so:\n",
    "\n",
    "$$\n",
    "G = \\tau w L^{\\star}((1-\\tau)w)\n",
    "$$\n",
    "\n",
    "**Question 3:** Plot the implied $L$, $G$ and worker utility for a grid of $\\tau$-values.\n"
   ]
  },
  {
   "cell_type": "code",
<<<<<<< HEAD
   "execution_count": 6,
=======
<<<<<<< HEAD
   "execution_count": 193,
=======
   "execution_count": null,
>>>>>>> d72960835358595a01b3c7834bf626102e251c6e
>>>>>>> 96460585080e36b99665b331efde598d6f6ac0c4
   "metadata": {},
   "outputs": [],
   "source": [
    "# write your code here"
   ]
  },
  {
   "attachments": {},
   "cell_type": "markdown",
   "metadata": {},
   "source": [
    "**Question 4:** Find the socially optimal tax rate $\\tau^{\\star}\\in(0,1)$ maximizing worker utility. Illustrate your result."
   ]
  },
  {
   "cell_type": "code",
<<<<<<< HEAD
   "execution_count": 7,
=======
<<<<<<< HEAD
   "execution_count": 194,
=======
   "execution_count": null,
>>>>>>> d72960835358595a01b3c7834bf626102e251c6e
>>>>>>> 96460585080e36b99665b331efde598d6f6ac0c4
   "metadata": {},
   "outputs": [],
   "source": [
    "# write your code here"
   ]
  },
  {
   "attachments": {},
   "cell_type": "markdown",
   "metadata": {},
   "source": [
    "A more general preference formulation for the worker is:\n",
    "\n",
    "$$\n",
    "\\begin{align*}\n",
    "\\mathcal{V}(w,\\tau,G)&=\\max_{L\\in[0,24]}\\frac{\\left[ \\left( \\alpha C^{\\frac{\\sigma-1}{\\sigma}}+(1-\\alpha) G^{\\frac{\\sigma-1}{\\sigma}} \\right)^{\\frac{\\sigma}{\\sigma-1} }\\right]^{1-\\rho}-1}{1-\\rho}- \\nu\\frac{L^{1+\\varepsilon}}{1+\\varepsilon},\\,\\,\\,\\varepsilon,\\rho,\\sigma>0,\\,\\,\\,\\rho,\\sigma\\neq1\\\\&\\text{s.t.}\\\\&C=\\kappa+(1-\\tau)wL\n",
    "\\end{align*}    \n",
    "$$\n",
    "\n",
    "Optimal labor supply is now $L^{\\star}(\\tilde{w},G)$."
   ]
  },
  {
   "attachments": {},
   "cell_type": "markdown",
   "metadata": {},
   "source": [
    "Questions 5 and 6 must be answered with the general formulation, and for 2 different set of parameters:\n",
    "\n",
    "- Set 1:  $\\sigma = 1.001$, $\\rho = 1.001$ and $\\varepsilon = 1.0$.\n",
    "- Set 2:  $\\sigma = 1.5$, $\\rho = 1.5$ and $\\varepsilon = 1.0 $."
   ]
  },
  {
   "attachments": {},
   "cell_type": "markdown",
   "metadata": {},
   "source": [
    "**Question 5:** Find the $G$ that solves $G = \\tau w L^{\\star}((1-\\tau)w,G)$ using the $\\tau$ found in question 4.\n",
    "\n",
    "*Hint: First write code that solves the worker problem for given values of $G$ and $\\tau$. Then find the correct G based on this.*"
   ]
  },
  {
   "cell_type": "code",
<<<<<<< HEAD
   "execution_count": 8,
=======
<<<<<<< HEAD
   "execution_count": 195,
=======
   "execution_count": null,
>>>>>>> d72960835358595a01b3c7834bf626102e251c6e
>>>>>>> 96460585080e36b99665b331efde598d6f6ac0c4
   "metadata": {},
   "outputs": [],
   "source": [
    "# write your code here"
   ]
  },
  {
   "attachments": {},
   "cell_type": "markdown",
   "metadata": {},
   "source": [
    "**Question 6:** Find the socially optimal tax rate, $\\tau^{\\star}$, maximizing worker utility, while keeping $G = \\tau w L^{\\star}((1-\\tau)w,G)$."
   ]
  },
  {
   "cell_type": "code",
<<<<<<< HEAD
   "execution_count": 9,
=======
<<<<<<< HEAD
   "execution_count": 196,
=======
   "execution_count": null,
>>>>>>> d72960835358595a01b3c7834bf626102e251c6e
>>>>>>> 96460585080e36b99665b331efde598d6f6ac0c4
   "metadata": {},
   "outputs": [],
   "source": [
    "# write your code here  "
   ]
  },
  {
   "attachments": {},
   "cell_type": "markdown",
   "metadata": {},
   "source": [
    "## 2. <a id='toc2_'></a>[Problem 2: Labor adjustment costs](#toc0_)"
   ]
  },
  {
   "attachments": {},
   "cell_type": "markdown",
   "metadata": {},
   "source": [
    "You own a hair salon. You employ hairdressers, $\\ell_t$, to produce haircuts, $y_t = \\ell_t$.\n",
    "\n",
    "The wage for each haridresser is $w$.\n",
    "\n",
    "The demand for haircuts implies that the price of haircuts you can charge is $p_t = \\kappa_t y_t^{-\\eta}$, where $\\kappa_t$ is a demand-shock and $\\eta \\in (0,1)$ measures the elasticity of demand.\n",
    "\n",
    "Profits are:\n",
    "\n",
    "$$\n",
    "\\Pi_t = p_t y_t - w \\ell_t = \\kappa_t \\ell_t^{1-\\eta} - w \\ell_t\n",
    "$$"
   ]
  },
  {
   "attachments": {},
   "cell_type": "markdown",
   "metadata": {},
   "source": [
    "Baseline parameters are:\n",
    "- $\\eta = 0.5$\n",
    "- $w = 1.0$"
   ]
  },
  {
   "attachments": {},
   "cell_type": "markdown",
   "metadata": {},
   "source": [
    "**Question 1:** Verify numerically that $\\ell_{t}=\\left(\\frac{(1-\\eta)\\kappa_{t}}{w}\\right)^{\\frac{1}{\\eta}}$ maximises profits, for $\\kappa\\in\\left\\{1.0 , 2.0\\right\\}$."
   ]
  },
  {
   "attachments": {},
   "cell_type": "markdown",
   "metadata": {},
   "source": [
    "First, we numerically solve for the $\\ell_t$ that maximizes profit given the profit equation, which we do through optimization. Secondly we calculate the opimal labor supply given the formula in **Question 1**. "
   ]
  },
  {
   "attachments": {},
   "cell_type": "markdown",
   "metadata": {},
   "source": [
    "The code below does the following: \n",
    " * Defines the profit function based on the problem statement.  \n",
    " * Calculates the value of labor (ell) that maximizes profit using a numerical optimization method (the minimize function from scipy.optimize). This value is the result of the optimization and is saved in optimal_ell. \n",
    " * The code also calculates the value of labor that maximizes profit according to the given formula, and this value is saved in formula_ell. \n",
    " * Finally, it prints the values of optimal_ell and formula_ell, as well as their difference, for each value of kappa. "
   ]
  },
  {
   "cell_type": "code",
<<<<<<< HEAD
   "execution_count": 10,
=======
<<<<<<< HEAD
   "execution_count": 197,
=======
   "execution_count": null,
>>>>>>> d72960835358595a01b3c7834bf626102e251c6e
>>>>>>> 96460585080e36b99665b331efde598d6f6ac0c4
   "metadata": {},
   "outputs": [
    {
     "name": "stdout",
     "output_type": "stream",
     "text": [
      "For kappa = 1.0, the optimal ℓ that maximizes profit is: 0.25\n",
      "Optimal ℓ as per the formula is: 0.25\n",
      "The difference between the two methods is: 0.00\n",
      "--------------------------------------------------\n",
      "For kappa = 2.0, the optimal ℓ that maximizes profit is: 1.00\n",
      "Optimal ℓ as per the formula is: 1.00\n",
      "The difference between the two methods is: 0.00\n",
      "--------------------------------------------------\n"
     ]
    }
   ],
   "source": [
    "from scipy.optimize import minimize\n",
    "import numpy as np\n",
    "import matplotlib.pyplot as plt\n",
    "\n",
    "# Define parameters\n",
    "eta = 0.5\n",
    "w = 1.0\n",
    "kappas = [1.0, 2.0]\n",
    "\n",
    "def profit(ell, kappa, eta, w):\n",
    "    return -kappa * ell**(1-eta) + w * ell\n",
    "\n",
    "for kappa in kappas:\n",
    "    # Find optimal ell through optimization\n",
    "    result = minimize(profit, x0=0, args=(kappa, eta, w))  # x0=0 is an initial guess for ell\n",
    "    optimal_ell = result.x[0]  # This extracts the optimal ell from the result\n",
    "\n",
    "    # Calculate optimal ell from the given formula\n",
    "    formula_ell = ((1 - eta) * kappa / w) ** (1 / eta)\n",
    "\n",
    "    # Calculate the difference\n",
    "    difference = abs(optimal_ell - formula_ell)\n",
    "\n",
    "    print(f\"For kappa = {kappa}, the optimal \\u2113 that maximizes profit is: {optimal_ell:.2f}\")\n",
    "    print(f\"Optimal \\u2113 as per the formula is: {formula_ell:.2f}\")\n",
    "    print(f\"The difference between the two methods is: {difference:.2f}\")\n",
    "    print(\"--------------------------------------------------\")\n",
    "\n"
   ]
  },
  {
   "attachments": {},
   "cell_type": "markdown",
   "metadata": {},
   "source": [
    "As indicated by the results, the optimal $\\ell$ that maximizes profit when $\\kappa\\in\\left\\{1.0 , 2.0\\right\\}$ given the problem is the same when it is derived from using the formula given in **Question 1**.\n",
    "\n",
    "I want to add the difference in profit and also plot on a graph how the profit changes with the two different kappas in ONE plot instead of two."
   ]
  },
  {
   "cell_type": "code",
<<<<<<< HEAD
   "execution_count": 11,
=======
<<<<<<< HEAD
   "execution_count": 198,
=======
   "execution_count": null,
>>>>>>> d72960835358595a01b3c7834bf626102e251c6e
>>>>>>> 96460585080e36b99665b331efde598d6f6ac0c4
   "metadata": {},
   "outputs": [
    {
     "name": "stdout",
     "output_type": "stream",
     "text": [
      "For kappa = 1.0, the optimal ℓ that maximizes profit is: 0.24999645210637542\n"
     ]
    },
    {
     "data": {
      "image/png": "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",
      "text/plain": [
       "<Figure size 800x600 with 1 Axes>"
      ]
     },
     "metadata": {},
     "output_type": "display_data"
    },
    {
     "name": "stdout",
     "output_type": "stream",
     "text": [
      "For kappa = 2.0, the optimal ℓ that maximizes profit is: 0.9999975134905895\n"
     ]
    },
    {
     "data": {
      "image/png": "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",
      "text/plain": [
       "<Figure size 800x600 with 1 Axes>"
      ]
     },
     "metadata": {},
     "output_type": "display_data"
    }
   ],
   "source": [
    "import numpy as np\n",
    "import matplotlib.pyplot as plt\n",
    "\n",
    "# Define parameters\n",
    "eta = 0.5\n",
    "w = 1.0\n",
    "kappas = [1.0, 2.0]\n",
    "\n",
    "# Define the profit function\n",
    "def profit(ell, kappa, eta, w):\n",
    "    return -kappa * ell**(1-eta) + w * ell\n",
    "\n",
    "# Create a range of values for ell\n",
    "ell_values = np.linspace(0, 5, 1000)\n",
    "\n",
    "# For each kappa\n",
    "for kappa in kappas:\n",
    "    # Find the optimal ell\n",
    "    result = minimize(profit, x0=0, args=(kappa, eta, w))\n",
    "    optimal_ell = result.x[0]\n",
    "    \n",
    "    # Print the optimal ell\n",
    "    print(f\"For kappa = {kappa}, the optimal \\u2113 that maximizes profit is: {optimal_ell}\")\n",
    "    \n",
    "    # Calculate the profit for each ell\n",
    "    profit_values = -profit(ell_values, kappa, eta, w)\n",
    "    \n",
    "    # Plot the profit\n",
    "    plt.figure(figsize=(8,6))\n",
    "    plt.plot(ell_values, profit_values, label=f'kappa = {kappa}')\n",
    "    plt.axvline(x=optimal_ell, linestyle='--', color='red')  # Add a vertical line at the optimal ell\n",
    "    plt.xlabel('\\u2113')\n",
    "    plt.ylabel('Profit')\n",
    "    plt.legend()\n",
    "    plt.title(f'Profit vs \\u2113 for kappa = {kappa}')\n",
    "    plt.show()"
   ]
  },
  {
   "cell_type": "code",
<<<<<<< HEAD
   "execution_count": 12,
=======
<<<<<<< HEAD
   "execution_count": 199,
=======
   "execution_count": null,
>>>>>>> d72960835358595a01b3c7834bf626102e251c6e
>>>>>>> 96460585080e36b99665b331efde598d6f6ac0c4
   "metadata": {},
   "outputs": [
    {
     "name": "stdout",
     "output_type": "stream",
     "text": [
      "For kappa = 1.0: optimal labor = 0.25, corresponding profit = 0.25\n"
     ]
    },
    {
     "data": {
      "image/png": "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",
      "text/plain": [
       "<Figure size 640x480 with 1 Axes>"
      ]
     },
     "metadata": {},
     "output_type": "display_data"
    },
    {
     "name": "stdout",
     "output_type": "stream",
     "text": [
      "For kappa = 2.0: optimal labor = 1.0, corresponding profit = 1.0\n"
     ]
    },
    {
     "data": {
      "image/png": "iVBORw0KGgoAAAANSUhEUgAAAjcAAAHHCAYAAABDUnkqAAAAOXRFWHRTb2Z0d2FyZQBNYXRwbG90bGliIHZlcnNpb24zLjcuMCwgaHR0cHM6Ly9tYXRwbG90bGliLm9yZy88F64QAAAACXBIWXMAAA9hAAAPYQGoP6dpAABrTklEQVR4nO3deXhM5/sG8HtmMkv2kD0kEkEIIkRFbKENUTtVlFaopZS2Squrvd/SWluUam2ldkpbahdr7GsQhBAikQSRPZnMnN8faeZnmiCJTM5kcn+uK1c7Z87MPM/MSeZ2zvueIxEEQQARERGRiZCKXQARERFRWWK4ISIiIpPCcENEREQmheGGiIiITArDDREREZkUhhsiIiIyKQw3REREZFIYboiIiMikMNwQERGRSWG4oUonLy8P48ePh7u7O6RSKXr06AEAkEgkmDx5sqi1laUVK1ZAIpHg9u3bZfackydPhkQiKbPnM/bXBYD09HQMHToULi4ukEgkGDNmjEFfTyKRYPTo0QZ9DSJTx3BDRqHgi7jgR6VSoU6dOhg9ejQePHhQpq+1bNkyzJw5E71798bKlSvx8ccfF7nesWPHMHnyZKSkpJTp61PRMjMzMXnyZISHh4tdip5vv/0WK1aswMiRI7Fq1Sq88847YpdEALRaLVasWIFu3brB3d0dlpaWaNCgAb755htkZ2cX+3mOHTuGVq1awcLCAi4uLvjwww+Rnp5uwMqpPEh4bSkyBitWrMDgwYMxdepUeHl5ITs7G0eOHMGqVatQo0YNREZGwsLCokxeq1+/fjhy5Aju3buntzw7OxtmZmYwMzMDAMyaNQuffvopYmJi4OnpWSavXZ40Gg3UajWUSmWZ7fXIy8tDXl4eVCpVmTzf05KTk+Ho6IhJkyYV2oNmyNd9kebNm8PMzAxHjhwpl9eTSCQYNWoUFixYUC6vV1Glp6fD2toazZs3R5cuXeDk5ISIiAisXLkSbdq0wf79+1+43Z8/fx5BQUGoV68ehg8fjnv37mHWrFlo164d/vnnn3LqhAzBTOwCiJ72+uuvo2nTpgCAoUOHwt7eHnPmzMG2bdvw1ltvFfmYjIwMWFpaFvs1EhMTYWdnV2i5GF+chiSTySCTycr0OZ8Of+VJrNcF8rcXX1/fMnu+vLw8aLVaKBSKMnvOykihUODo0aNo0aKFbtmwYcPg6emJSZMmYd++fQgJCXnuc3z55ZeoUqUKwsPDYWNjAwDw9PTEsGHDsHv3bnTo0MGgPZDh8LAUGbVXX30VABATEwMAGDRoEKysrHDz5k106tQJ1tbWGDBgAID8kDNu3Di4u7tDqVTCx8cHs2bNQsHOydu3b0MikeDAgQO4fPmy7hBYwWGQp8fcTJ48GZ9++ikAwMvLS7fu88avtG3bFg0aNMDFixcRHBwMCwsL1KpVC5s2bQIAHDx4EIGBgTA3N4ePjw/27t2r9/g7d+7g/fffh4+PD8zNzWFvb48333xT7zUFQUC7du3g6OiIxMRE3fLc3Fw0bNgQ3t7eyMjIAFD0mBtPT0906dIF4eHhaNq0KczNzdGwYUPde7BlyxY0bNgQKpUKAQEBOHfunF6N/x37MmjQIL3DiU//FLyXubm5mDhxIgICAmBrawtLS0u0bt0aBw4c0D3P7du34ejoCACYMmVKoecoasxNXl4epk2bBm9vbyiVSnh6euLLL79ETk6O3noFPR85cgTNmjWDSqVCzZo18dtvvz3zswSA8PBwSCQSxMTEYPv27YW2gcTERAwZMgTOzs5QqVRo1KgRVq5cqfccBdvcrFmzMG/ePF2tV65cee5r/9c333wDqVSK+fPnAyjetgL8/zZw6NAhvPfee7C3t4eNjQ0GDhyIx48fF/k+7d69G/7+/lCpVPD19cWWLVv01nv06BE++eQTNGzYEFZWVrCxscHrr7+OCxculKinl6VQKPSCTYGePXsCAK5evfrcx6empmLPnj14++23dcEGAAYOHAgrKyts2LChbAumcsU9N2TUbt68CQCwt7fXLcvLy0NoaChatWqFWbNmwcLCAoIgoFu3bjhw4ACGDBkCf39/7Nq1C59++ini4uIwd+5cODo6YtWqVfjf//6H9PR0TJ8+HQBQr169Qq/bq1cvXL9+HWvXrsXcuXPh4OAAALov4Gd5/PgxunTpgn79+uHNN9/EokWL0K9fP/z+++8YM2YMRowYgf79++vG/Ny9exfW1tYAgFOnTuHYsWPo168fqlevjtu3b2PRokVo27Ytrly5AgsLC0gkEixbtgx+fn4YMWKE7otn0qRJuHz5MsLDw1+4Fys6Ohr9+/fHe++9h7fffhuzZs1C165dsXjxYnz55Zd4//33AQDTp09Hnz59cO3aNUilRf876L333iv0r+OdO3fi999/h5OTE4D8L5Fff/0Vb731FoYNG4a0tDQsXboUoaGhOHnyJPz9/eHo6IhFixZh5MiR6NmzJ3r16gUA8PPze2YfQ4cOxcqVK9G7d2+MGzcOJ06cwPTp03H16lX88ccfhXru3bs3hgwZgrCwMCxbtgyDBg1CQEAA6tevX+Tz16tXD6tWrcLHH3+M6tWrY9y4cQDyt4GsrCy0bdsW0dHRGD16NLy8vLBx40YMGjQIKSkp+Oijj/Sea/ny5cjOzsbw4cOhVCpRtWrVZ/b1X19//TW+/fZb/Pzzzxg2bBiA4m0rTxs9ejTs7OwwefJkXLt2DYsWLcKdO3d0Aa7AjRs30LdvX4wYMQJhYWFYvnw53nzzTezcuRPt27cHANy6dQtbt27Fm2++CS8vLzx48AA///wzgoODceXKFbi5uT23nydPnkCtVr+wb5VKBSsrq2K/TwUSEhIAQPc7+yyXLl1CXl6ebk9xAYVCAX9//0LBnioYgcgILF++XAAg7N27V0hKShLu3r0rrFu3TrC3txfMzc2Fe/fuCYIgCGFhYQIA4fPPP9d7/NatWwUAwjfffKO3vHfv3oJEIhGio6N1y4KDg4X69esXqgGAMGnSJN3tmTNnCgCEmJiYYvUQHBwsABDWrFmjWxYVFSUAEKRSqXD8+HHd8l27dgkAhOXLl+uWZWZmFnrOiIgIAYDw22+/6S3/+eefBQDC6tWrhePHjwsymUwYM2aM3joF7+nT9deoUUMAIBw7dqxQLebm5sKdO3cKvcaBAwd0yyZNmiQ878/GjRs3BFtbW6F9+/ZCXl6eIAiCkJeXJ+Tk5Oit9/jxY8HZ2Vl49913dcuSkpIKfQbPet3z588LAIShQ4fqrffJJ58IAIT9+/cX6vnQoUO6ZYmJiYJSqRTGjRv3zF6efnznzp31ls2bN0/3/hfIzc0VgoKCBCsrKyE1NVUQBEGIiYkRAAg2NjZCYmLiC19LEPK3w1GjRgmCIAjjxo0TpFKpsGLFCr11irutFGwDAQEBQm5urm75999/LwAQtm3bptcnAGHz5s26ZU+ePBFcXV2Fxo0b65ZlZ2cLGo1G77VjYmIEpVIpTJ069YX9FfyevOgnLCzshc9VlJCQEMHGxkZ4/Pjxc9fbuHFjoe2iwJtvvim4uLiU6vXJOPCwFBmVkJAQODo6wt3dHf369YOVlRX++OMPVKtWTW+9kSNH6t3esWMHZDIZPvzwQ73l48aNgyAI5TY40MrKCv369dPd9vHxgZ2dHerVq4fAwEDd8oL/v3Xrlm6Zubm57v/VajUePnyIWrVqwc7ODmfPntV7neHDhyM0NBQffPAB3nnnHXh7e+Pbb78tVo2+vr4ICgoqVMurr74KDw+P59b4PBkZGejZsyeqVKmCtWvX6sb7yGQy3fgSrVaLR48e6f7F/N++imvHjh0AgLFjx+otL9i7sn37dr3lvr6+aN26te62o6MjfHx8it1bUa/v4uKiNw5MLpfrZtocPHhQb/033njjhXv9niYIAkaPHo0ffvgBq1evRlhYmN79JdlWgPztRS6X626PHDkSZmZmuvexgJubm+6wDgDdIaxz587p9ogolUrdnjyNRoOHDx/CysoKPj4+xfo8Z8+ejT179rzwZ/z48cV4p/R9++232Lt3L2bMmFHkuLqnZWVl6fr5L5VKpbufKiYeliKjsnDhQtSpUwdmZmZwdnaGj49PoUMiZmZmqF69ut6yO3fuwM3NTXeIp0DBIac7d+4YtvB/Va9evdDYEFtbW7i7uxdaBkBv3ENWVhamT5+O5cuXIy4uTjdWCMjflf9fS5cuhbe3N27cuIFjx47pfeE9z9MB5ulailPj8wwbNgw3b97EsWPH9A4jAsDKlSsxe/ZsREVF6R2S8PLyKtZz/9edO3cglUpRq1YtveUuLi6ws7Mr9Hn/t2cAqFKlSrF7K+r1a9euXWjbfNb2VtI+f/vtN6Snp2PRokVFDqQv6bZSu3ZtvdtWVlZwdXUtNEanVq1ahbbfOnXqAMgfP+Ti4gKtVosffvgBP/30E2JiYqDRaHTr/vdzL0pAQMAL1ymN9evX4+uvv8aQIUMK/eOnKAW/L/8dowXkz5ws7u8TGSeGGzIqzZo1K3QM/L+e/pejsXnW7KRnLX/6S+mDDz7A8uXLMWbMGAQFBcHW1hYSiQT9+vWDVqst9Njw8HDdH+ZLly7p7Y0xVI3P8sMPP2Dt2rVYvXo1/P399e5bvXo1Bg0ahB49euDTTz+Fk5MTZDIZpk+frhtTVVrFneL+Mr2VhZJ+UbZs2RLnz5/HggUL0KdPn0JjdEq6rZSlb7/9FhMmTMC7776LadOmoWrVqpBKpRgzZkyxXvvRo0fIzc194Xrm5ua6gP0ie/bswcCBA9G5c2csXry4WI9xdXUFAMTHxxe6Lz4+/oVjh8i4MdyQSahRowb27t2LtLQ0vb03UVFRuvtLqrzPiLtp0yaEhYVh9uzZumXZ2dlFnkQwPj4eH3zwATp06ACFQoFPPvkEoaGhperzZR0+fBiffPIJxowZo5u59rRNmzahZs2a2LJli957OmnSJL31SvJ+16hRA1qtFjdu3NAbEP7gwQOkpKQY/H2oUaMGLl68CK1Wqxe0X2Z7e1qtWrXw/fffo23btujYsSP27dunt12XZFsB8gcKt2vXTnc7PT0d8fHx6NSpk9560dHREARB77O4fv06AOjO9bRp0ya0a9cOS5cu1XtsSkrKCwfxAvmD9f972K4oYWFhWLFixQvXO3HiBHr27ImmTZtiw4YNxT5lQIMGDWBmZobTp0+jT58+uuW5ubk4f/683jKqeIzzn79EJdSpUydoNJpCJz6bO3cuJBIJXn/99RI/Z8Gso/I6Q7FMJiu0J2H+/Pl6u/0LDBs2DFqtFkuXLsWSJUtgZmaGIUOGlNueiALx8fHo06cPWrVqhZkzZxa5TsFek6drO3HiBCIiIvTWK5jhU5z3u+BLed68eXrL58yZAwDo3LlzseovrU6dOiEhIQHr16/XLcvLy8P8+fNhZWWF4ODgl34NPz8/7NixA1evXkXXrl31xoCUZFsBgCVLlugdDly0aBHy8vIK/V7cv39fb6ZZamoqfvvtN/j7+8PFxeWZr71x40bExcUVq6+yHHNz9epVdO7cGZ6envj777+fu4csKioKsbGxutu2trYICQnB6tWrkZaWplu+atUqpKen48033yxWP2ScuOeGTELXrl3Rrl07fPXVV7h9+zYaNWqE3bt3Y9u2bRgzZgy8vb1L/JwFYwO++uor9OvXD3K5HF27di3RCQNLokuXLli1ahVsbW3h6+uLiIgI7N27t9A4huXLl2P79u1YsWKFbuzR/Pnz8fbbb2PRokW6qdzl4cMPP0RSUhLGjx+PdevW6d3n5+cHPz8/dOnSBVu2bEHPnj3RuXNnxMTEYPHixfD19dU7zb25uTl8fX2xfv161KlTB1WrVkWDBg3QoEGDQq/bqFEjhIWFYcmSJUhJSUFwcDBOnjyJlStXokePHnp7KQxh+PDh+PnnnzFo0CCcOXMGnp6e2LRpE44ePYp58+YVGvtVWs2bN8e2bdvQqVMn9O7dG1u3boVcLi/2tlIgNzcXr732mm5q/08//YRWrVqhW7dueuvVqVMHQ4YMwalTp+Ds7Ixly5bhwYMHWL58uW6dLl26YOrUqRg8eDBatGiBS5cu4ffff0fNmjWL1VNZjblJS0tDaGgoHj9+jE8//bTQIHJvb2+9Q7X16tVDcHCw3uU9/ve//6FFixYIDg7WnaF49uzZ6NChAzp27FgmdZJIRJmjRfQfBVNWT5069dz1wsLCBEtLyyLvS0tLEz7++GPBzc1NkMvlQu3atYWZM2cKWq1Wb73iTgUXBEGYNm2aUK1aNUEqlb5wWviznreoqcQFr1cw5VcQ8qdHDx48WHBwcBCsrKyE0NBQISoqSqhRo4ZuWuzdu3cFW1tboWvXroWer2fPnoKlpaVw69YtQRCePRW8OLUIwv9PY545c6Zu2X+nZD9vWm/Be6nVaoVvv/1WqFGjhqBUKoXGjRsLf//9txAWFibUqFFD7zWPHTsmBAQECAqFQu85ipqCrlarhSlTpgheXl6CXC4X3N3dhS+++ELIzs7WW+9ZPQcHBwvBwcGFlv/Xsx7/4MED3eelUCiEhg0b6k3tF4Si38MXKeqz2LZtm2BmZib07dtX0Gg0xdpWBOH/t4GDBw8Kw4cPF6pUqSJYWVkJAwYMEB4+fFhkn7t27RL8/PwEpVIp1K1bV9i4caPeetnZ2cK4ceMEV1dXwdzcXGjZsqUQERFR7PezrBS8t8/6+e9UcgBF1nf48GGhRYsWgkqlEhwdHYVRo0bppvJTxcVrSxERmaiCa7adOnXqhQP1PT090aBBA/z999/lVB2R4XDMDREREZkUhhsiIiIyKQw3REREZFI45oaIiIhMCvfcEBERkUlhuCEiIiKTUulO4qfVanH//n1YW1uX++n1iYiIqHQEQUBaWhrc3NxeeH3BShdu7t+/X+jqx0RERFQx3L17V3d29mepdOGm4LTod+/ehY2NjcjVGI5arcbu3bvRoUMHyOVyscsxuMrUL3s1XZWpX/ZqugzVb2pqKtzd3Yt1eZNKF24KDkXZ2NiYfLixsLCAjY1Npfllqiz9slfTVZn6Za+my9D9FmdICQcUExERkUlhuCEiIiKTwnBDREREJqXSjbkhIiLjodFooNFoxC7DoNRqNczMzJCdnW3yvQIv169CoXjhNO/iYLghIqJyJwgCrK2tcevWLZM/55ggCHBxccHdu3dNvlfg5fqVSqXw8vKCQqF4qRoYboiIqNwlJiaiSpUqcHR0hJWVlUl/6Wu1WqSnp8PKyqpM9koYu9L2W3CS3fj4eHh4eLzUNsFwQ0RE5Uqj0SA1NRUODg6wt7c3+S98rVaL3NxcqFQqk+8VeLl+HR0dcf/+feTl5b3UNHLTf5eJiMioqNVqAHjpQw9kegq2iZcdm8RwQ0REojDlQ1FUOmW1TTDcEJFx0mggOXgQ1Q4dguTgQaASzDIhorIharg5dOgQunbtCjc3N0gkEmzduvWFjwkPD0eTJk2gVCpRq1YtrFixwuB1ElE527IF8PSEWfv2aDpnDszatwc8PfOXE4mobdu2GDNmjNhl0AuIGm4yMjLQqFEjLFy4sFjrx8TEoHPnzmjXrh3Onz+PMWPGYOjQodi1a5eBKyWicrNlC9C7N3Dvnv7yuLj85Qw4RKLYsmUL2rdvD0dHR9jY2CAoKKhY378XL15E69atoVKp4O7uju+//97gtYo6W+r111/H66+/Xuz1Fy9eDC8vL8yePRsAUK9ePRw5cgRz585FaGioocokonIgCAJyctRQfPghJIKAQkfeBQGCRALho4+Q83oXqFRyjtkgKkeHDh1C+/bt8e2338LOzg7Lly9H165dceLECTRu3LjIx6SmpqJDhw4ICQnB4sWLcenSJbz77ruws7PD8OHDDVZrhZoKHhERgZCQEL1loaGhz91FmJOTg5ycHN3t1NRUAPmj9QtG7Juigt5MucenVaZ+K0qvqVlqJKRm40FqDh6k5eBBag4epufgcaYaT7Lyf1Ky1MjI0SBLnf8TeOci1sXFPfM5JYIAyb17GDxkNk7U8IOFXAZzhQwWChmslGaws5CjirkCdhZy2FnI4WilgJO1Co7WCjjbqOBgpYBcZrxDDSvKZ/uy1Go1BEEAkB9qtVqtyBWVzNM1b9++HW+//TYWLFiAAQMGYNWqVZg/fz6uXbsGS0tLtGvXDnPmzIG5uTkEQcD+/fvx2muv4c8//8RXX32F69evw9/fH0uWLEGDBg0AACtWrMDYsWOxbNkyfPbZZ7h79y7atGmDX375Be7u7gCAmzdvYty4cThx4gQyMjJQr149/O9//yv0HVmW5syZo3f7m2++wbZt2/Dnn3+iUaNGeu9PwX9XrVqF3Nxc/Prrr1AoFKhXrx7OnTuHOXPmYOjQoYVeQ6vVQhAEqNVqyGQyvftK8ntRocJNQkICnJ2d9ZY5OzsjNTUVWVlZMDc3L/SY6dOnY8qUKYWW7969GxYWFgar1Vjs2bNH7BLKVWXq1xh6zdUAD7KA+CwJErMkSM4GkrMleJgNZGpKvlfFKf1xsdcTBCAjV4OM3OIPNJZAgK0CsFcCVVUCqioBR5UAJ5UAR3PAwkj+IhrDZ2tIZmZmcHFxAQCkpaUByP8izFaLE3JUcmmx9wLm5eUhNzcXqamp2LhxI8aNG4clS5agY8eOSE1NRVpaGj777DPUrl0bSUlJ+OqrrzBw4EBs3LgRaWlpyMzMBAB8+umnmD59OpycnDBt2jR07doVp0+fhlwuR3Z2NjIzM/HNN99g4cKFUCgU+OSTT9CnTx/dYaCEhAS0a9cOn3/+OZRKJdatW4fu3bvj5MmTugD0X8eOHUOfPn2e29+cOXNeuE4BrVaLJ0+ewNzcXLfj4GlpaWk4fPgwgoKCkJ2djezsbABAq1at8P333yM2NhZ2dnZ6j8nNzUVWVhYOHTqEvLw8vfsK3rviMJJfZcP54osvMHbsWN3t1NRUuLu7o0OHDrCxsRGxMsNSq9XYs2cP2rdv/1InQqooKlO/YvX6KCMXl+Ke4FJcKi7fT8X1xHTcfZyFf/+RViQ7czmcrJVwtlHCyUYJJyulbq+KrbkcduZyWCnNYK6QwVwug/UJM+CvmS+s5X8jX8MXzVsiI1eDzBwNMnPzkJaTh5TM/L1BKZlqPM7MRVJaLhLTcpCUloOk9ByoNUBKbv7PzbTCX2b2lgrUdLREHScr1HG2go9z/n+tVeXzPleW7Tg7OxuxsbEAAGtra0gkEmTm5qHxd+KEusjJ7WGhKN7XoZmZGRQKBVavXo2vv/4a27ZtQ3BwsO7+999/X299W1tbBAYGIj09Ha6urrp/VE+aNAndu3cHAKxevRoeHh7Yt28f+vTpA5VKBbVajYULFyIwMBAA8Ntvv6F+/fqIiopCs2bN0LJlS7Rs2VL3Oo0bN8Y///yD8PBwjBo1qsjag4ODcfbs2ef25+zsDGtr62K9FzNnzkRmZiYGDhyo930qCALS0tJgbW2Nhw8fwsvLS+9+Ly8vAPnjbj08PPSeMzs7G+bm5mjTpg1UKpXefUUFqGepUOHGxcUFDx480Fv24MED2NjYFLnXBgCUSiWUSmWh5XK53KT/eBSoLH0WqEz9GrJXrVbA9cQ0nIx5hJMxj3AuNgVxKVlFrlvFQo46ztao5WQFT3tLeNhboIa9BTyqWhT7C0OnQwhQvXr+4OGiUpNEAlSvDusOIbD+zy7r4vSUnJGDe4+z/v3JxN1HWYhJTkdMckb+YbOMXDzMyMWp2/p7kKpXMYdfdVs0qGaLhv/+2FkY7gR0pr4dazQa3Z4SiUQCqVQq6pl7S/r6mzdvRmJiIo4ePYpXXnlF774zZ85g8uTJuHDhAh4/fqw7fHXv3j24ubnpXqdly5a6/3dwcICPjw+uXbumq8XMzAyBgYG6dXx9fWFnZ4dr166hefPmSE9Px+TJk7F9+3bEx8cjLy8PWVlZuHv37jN7sbS0RJ06dUr8/hRlzZo1mDp1KrZt26bbC1egoGeJRKL7ebqmgv8v6n2XSvP3ohX1O1CS34kKFW6CgoKwY8cOvWV79uxBUFCQSBURmQZBEBCTnIGD15NwNPohTt1+hCdZhY9v13Sw1H3J+7raoLazNRysFGU3sFcmA374IX9WlESiH3AKXmPevPz1SkgqlcDJWgUnaxWaeFQpdH96Th5ikjIQnZSGqIQ0XPv3J/5Jti4Q7biUoFu/poMlGntUQZMadmjiUQV1nK0hk3KAc2mZy2W4MlWciSHm8pJtT40bN8bZs2exbNkyNG3aVLf9Z2RkIDQ0FKGhofj999/h6OiI2NhYhIaGlvk4qk8++QR79uzBrFmzUKtWLZibm6N3797Izc195mMOHz78wkk8P//8MwYMGPDcddatW4ehQ4di48aNLxzj86ydEgX3GYqo4SY9PR3R0dG62zExMTh//jyqVq0KDw8PfPHFF4iLi8Nvv/0GABgxYgQWLFiA8ePH491338X+/fuxYcMGbN++XawWiCqsrFwNDt9IQvj1JBy6noR7j/X3zFgoZGjiUQXNvKqiaY0qaFDdFjblcXimVy9g0ybgo4/0p4NXr54fbHr1MsjLWinN0LC6LRpWt9VbnpKZi8v3U/89JPcEkXFPcOdhJm4lZ+BWcgY2n82v0Vplhlc8qyLQqyoCa9qjgZsNzIx48LKxkUgkJd/TJxJvb2/Mnj0bbdu2hUwmw4IFCwAAUVFRePjwIWbMmKEb93L69Okin+P48eO6QzKPHz/G9evXUa9ePd39eXl5OH36NJo1awYAuHbtGlJSUnTrHD16FIMGDULPnj0B5H+f3r59+7l1N23aFOfPn3/uOv8d1/pfa9euxbvvvot169ahc+fOz10XyN8p8dVXX0GtVuv2vOzZswc+Pj6oUqXwPzLKiqhb0unTp9GuXTvd7YKxMWFhYVixYgXi4+N1x2WB/ON027dvx8cff4wffvgB1atXx6+//spp4ETF9CRTjX1RD7DrcgIOXU9Glvr/B+MqZFI09ayC1rUdEeRtj/puNuLNLOrVC+jeHXkHDuD8P//A//XXYdauXan22LwsOwsFWtZyQMtaDrpljzNycf5uCs7GPsbZ2Mc4H5uCtOw87I9KxP6oRACApUKGwJr2aFXLAa1rO6CWk2lf+bqyqVOnDg4cOIC2bdvCzMwM8+bNg4eHBxQKBebPn48RI0YgMjIS06ZNK/LxU6dOhb29PZydnfHVV1/BwcEBPXr00N0vl8vxwQcf4Mcff4SZmRlGjx6N5s2b68JO7dq1sWXLFnTt2hUSiQQTJkx44awzc3Nz1KpVq9Q9r1mzBmFhYfjhhx8QGBiIhIQE3fPa2ub/o2DBggX4448/sHnzZgBA//79MWXKFAwZMgSfffYZIiMj8cMPP2Du3LmlrqM4RA03bdu21U0ZK0pRZx9u27Ytzp07Z8CqiExLZm4e9lx5gK3n4nD4RjLytP//O1fNzhwh9ZwQ7OOI5jXtjetfzjIZhOBgxGVkoFFwsCjB5lmqWCrQrq4T2tV1AgBotAKu3E/FiZiHOPHvOKUnWWq9sONso0SrWo5oV9cRrWs7wtbcdMfUVBY+Pj7Yv3+/bg/O7NmzsWLFCnz55Zf48ccf0aRJE8yaNQvdunUr9NgZM2bgo48+wo0bN+Dv74+//vpL70KiFhYW+Oyzz9C/f3/ExcWhdevWWLp0qe7+OXPm4N1330WLFi3g4OCAzz77rEQDbktjyZIlyMvLw6hRo/QGLRfskACA5ORk3Lx5U3efra0tdu/ejVGjRiEgIAAODg6YOHGiQc9xA1SwMTdEVDwarYAj0cnYei4Ouy4nIPOp6dJ1nK0QWt8FofVdUN/NhnsTyoBMKtEd0hrauia0WgFXE1Jx5EYyjkQn42TMIzxIzcHms/ew+ew9yKQSBNSognY+Tgip58S9OhVIeHi43u169erpjSl566238NZbb+mto9FoCgWPVq1aITIy8rmv1atXL/R6xmFYT09P7N+/X2/Zs2ZJlZX/9l6UyZMnY+LEiXr9+vn54fDhwwasrDCGGyITkvAkGxtO38X6U3f1Zjd5VLVAD383dPOvhlpOViJWWDlIpRLUd7NFfTdbvBfsjWy1BmfuPMbB60nYH5WI6MR03Uy073ZGwcvBEh18ndGujj20z5laT0TFw3BDVMFptQIO3UjC6uN3sD8qUfflaGsuR3d/N/RoXA2N3e24Z0BEKrlMN27ny071cPdRJsKvJWLv1URE3HyImOQM/HzoFn4+dAvWchlOaa+gS6NqCPSy5wwsolJguCGqoLJyNdhw9j6WHYnBzaQM3fJmXlXRv5kHOjZwgaqEU1ypfLhXtcA7QZ54J8gT6Tl5OHgtCbuvJGB/VCLSsvOw5uQ9rDl5Dw5WCnSo74Kufm4I9KoKKYNOhfeisaYAMGjQIAwaNKh8CjJRDDdEFczD9Bz8HSvF5NmH8Dgz/9wZVkoz9Gnqjv6BHjzsVMFYKc3Q2c8Vnf1ckZGVg/nrdyHZwgN7oxKRnJ6LNSdiseZELFxsVOjm74Zujdw4VoroBRhuiCqIhCfZWHLoFtacvINstRSAGu5VzTGohRf6NK1ebpcIIMNRmElRr4qATp3qY7rUDxE3H+Lvi/fxT2QCElLzP/8lh27B29ESvZpUR68m1eBqW/TZ2SuCF+3BoMqnrLYJhhsiI3fvcSYWhd/ExtP3kKvJP49FDSsBn3bxx+t+1Tgmw0TJZVK0qeOINnUcMa1HA4RfS8K283HYezURN5MyMHPXNczafQ0tvR3wRkA1dKzvCnNFxTgMWXAyt+edTZcqp4Jt4r9XBC8phhsiI5WcnoOFB6Lx+/FYXahp5lUVI9t44cm1Ewit78xgU0kozWS66ftp2Wr8cykBm87ew8mYRzgSnT/dfKLyMro3dkO/VzzQoJrti59URDKZDDY2NkhKSoJKpYKVlWlPhddqtcjNzUV2drao19AqL6XtV6vVIikpCRYWFjAze7l4wnBDZGTSstX45XAMlh6+hYx/z0/TspY9Pny1NgJr2kOtVmPHdZGLJNFYq+To84o7+rzijtiHmdhyLv/cOXcfZWH18VisPh6LBtVs0PcVD/TwdzPaw5VOTk64fv06lEolkpOTxS7HoARBQFZWFszNzU06xBV4mX6lUik8PDxe+n1iuCEyEnkaLdaejMXcvTfwKCN/16xfdVt81rGu3qn/iQp42FtgTEgdfPhqbUTceoh1p+5iV2QCIuNSERkXiek7rqJH42p4O7AGfN1sxC5Xj0QiQVpaGlq0aCF2KQanVqtx6NAhtGnTxqSv9l7gZfpVKBRlsneL4YbICBy7mYypf11BVEIaAKCmoyU+7eCDjg1cKsW/9OjlSKUS3Xl0HmfkYsu5OKw9GYvoxHTdbKsmHnZ4J6gGOjV0hdLMeMbmyGQyk//Cl8lkyMvLg0qlMvleAePol+GGSER3H2Xif9uvYufl/AvQ2VnIMa59HbzVzINXlKZSqWKpwJBWXni3pSdOxDzC6uN3sOtyAs7GpuBsbAr+tz0K/QM98HagB5xsVGKXS2QQDDdEIlBrtPjl8C38sPcGcvK0kEkleDvQAx+3rwM7C8WLn4DoBSQSCZrXtEfzmvZISsvB+lP543ESUrPx474b+OlANDo1dMWQVl5o5G4ndrlEZYrhhqicnY19jC+3XNIdggqqaY/J3erDx8Va5MrIVDlaKzH61dp4L9gbuy8/wIpjMTh1+zH+vHAff164j2aeVTGktRdC6nEGHpkGhhuicpKWrcbMXdew6vgdCAJQxUKOrzv7oleTahxXQ+VCLpPqzoYcGfcEy47E4M8L93Hy9iOcvP0InvYWGNLKC70D3CvMOXOIisJwQ1QOjt1MxqcbL+qu1P1Gk+r4qnM9VLXkISgSR4NqtpjT1x/jO9bFbxG38fuJWNx+mIkJ2y5j3t4bCGvhiYFBNXiYlCokhhsiA8rK1eC7nVFYcew2AMC9qjlm9PLj1G4yGi62KozvWBejX62Fjafv4ZfDt3DvcRbm7LmOxQdvot8rHhja2gtudhX3Mg9U+TDcEBnIudjHGLfhAm4l51+x+61mHviqcz1YKflrR8bHQmGGsBaeGBDoge2X4rH44C1cjU/FsqMxWHX8NnoHVMeIYG/UsLcUu1SiF+JfWaIyptUKWHTwJubsuQ6NVoCzjRLfveGHtj5OYpdG9EJmMim6+1dDt0ZuOHwjGQsPRONEzCOsPXkX60/dRXf/ani/rTdqO3MAPBkvhhuiMpSYlo2x6y/gSHT+6eS7NnLDN90bwNbC9E/cRaZFIpHoLtx5+vYjLDgQjfBrSfjjXBy2no9D54au+PC12qjDkENGiOGGqIwcup6EsRvOIzk9F+ZyGaZ0r483A6pzJhRVeE09q2LF4Ga4dO8JFhy4gV2XH+Dvi/HYfimeIYeMEsMN0UvSaAXM23sd8/dHAwDqulhjQf/GqOXEP/ZkWhpWt8XP7zTF1fhU/LjvBv6JTNCFnC5+bhgTUhvejlZil0nEcEP0Mp5kqvHhunM4eD0JADAg0AMTuvhCJec5Qsh01XO1waK3A/RCzl8X7mP7xfvo1aQ6PnqtNtyrWohdJlViDDdEpXQ1PhXvrTqD2EeZUMml+O4NP3T3ryZ2WUTlpiDkXLmfijl7rmPv1QfYdOYetp6LQ99X3PHha7XhzOtXkQh4ZT6iUvjrwn30+ukYYh9lonoVc2we2YLBhiotXzcb/BrWFFtHtUTr2g7I0wr4/UQsgmcewHc7o/AkUy12iVTJMNwQlYAgCJiz+xo+WHsOWWoNWtd2wF+jW6G+m63YpRGJzt/dDquGBGLd8OYIqFEF2WotFoXfRJuZB7D44E1k5WrELpEqCYYbomLKVmvw0brz+PHfgcPvtamJFYOboQovoUCkp3lNe2waEYRfBjZFHWcrPMlSY8Y/UWg3KxwbT9+FRiuIXSKZOI65ISqGh+k5GL7qDM7ceQwzqQTf9myIPq+4i10WkdGSSCRo7+uMV+s6Yeu5OMzZcx1xKVn4dNNFLD0Sg/EdakNgxiEDYbgheoHoxHS8u+IUYh9lwkZlhsXvBKCFN68NRVQcMqkEbwRUR2c/V/wWcRsL9kcjKiEN7/52FnVspajZJA1+HlXFLpNMDA9LET3H2djH6L04f+CwR1ULbHm/JYMNUSmo5DIMb+ONQ+PbYWgrL8hlElx/IkX3RRH4fPNFJKZli10imRCGG6JnOHg9CQN+OYGUTDX83e3wx/stUMuJJygjehl2Fgp83cUXuz5qicb2WggCsO7UXbSdGY4F+28gW81Bx/TyGG6IirDtfByGrDiFLLUGbeo4Ys2wQNhbKcUui8hkuFexwKA6Wqwf1gyN3O2QmavBrN3X8drsg/j74n0IHJBDL4Hhhug/VhyNwZj155GnFdCtkRt+HdgUFgoOTyMyhCYedvhjZAv80M8fbrYqxKVkYfSac+i75Dgu338idnlUQTHcED1l4YFoTP7rCgQBGNTCE/P6+kNhxl8TIkOSSiXo7l8N+8a1xZiQ2lDJpTgZ8whd5x/Bl39cwqOMXLFLpAqGf7WJkH9yvnl7r2PmrmsAgDEhtTGpqy+kUl7Rm6i8mCtkGBNSB/vGtUUXP1doBWDNiVi0mxWOVcfv8Pw4VGwMN1TpCYKAOXuuY97eGwCAzzrWxZiQOpBIGGyIxFDNzhwL+jfB+uHNUdfFGk+y1JiwNRJd5x/BmTuPxC6PKgCGG6rUBEHAdzuvYf6/Zx3+qlM9jGzrLXJVRAQAgTXt8fcHrTC1e33YqMxwJT4VbyyKwLgNF5CcniN2eWTEGG6o0hIEAdP/icLigzcBABO7+GJYm5oiV0VETzOTSTEwyBP7P2mLvk3zzwq++ew9vDorHKt5qIqegeGGKq25e29gyaFbAICp3evj3VZeIldERM/iYKXEd7398Mf7LVDfzQap2Xn4emskei06hkv3OKuK9DHcUKX088Gb+HFf/hibSV19MTDIU9yCiKhYGntUwbZRLTG5qy+slWa4cDcF3RYeweQ/LyMtWy12eWQkGG6o0lkVcRvT/4kCAHwa6oPBLbnHhqgiMZNJMailF/aNC0a3Rm4QBGDFsdsImXMQOyPjeQJAYrihymXzmXuYsO0yAGBUO2+MaldL5IqIqLScbFT48a3GWDWkGWrYW+BBag5GrD6LYb+dRlxKltjlkYgYbqjS2HU5AZ9uugAg/wR9n3TwEbkiIioLrWs7YteYNvjg1VqQyyTYezUR7eccxLIjMRxwXEkx3FClcObOI3y49hy0AvBmQHVM7OLL89gQmRCVXIZxHXyw48PWeMWzCjJzNZj69xX0WnQMUQmpYpdH5YzhhkxedGI6hqw8jZw8LV6r64TpvRryzMNEJqq2szXWDw/C/3o20A047vLjEczadY1XHK9EGG7IpCWmZiNs2UmkZKrRyN0O8/s3hpmMmz2RKZNKJRgQWAN7xgajg68z8rQCFhyIRucfD/MMx5UE/8qTyUrLVmPQ8lOIS8mCp70FloXx6t5ElYmLrQpLBjbF4rebwNFaiZtJGei9OAKT/7yMzNw8scsjA2K4IZOk1mjx/u9ncSU+FQ5WCqx8txnsrZRil0VEIujYwBV7Pw5G74DqumnjHeYewpEbyWKXRgbCcEMmaepfV3D4RjLM5TIsG/QKathbil0SEYnI1kKOWW82wsp3m6GanTnuPc7C20tP4Istl3jyPxPEcEMmZ1XEbaw6fgcSCTCvnz/8qtuJXRIRGYngOo7Y9XEbDAyqAQBYezIWHecd5l4cE8NwQybl6M2HmPzXFQD5Zx8Ore8ickVEZGyslGaY2r0B1g5rDveq5ohL4V4cU8NwQyYjMQv4cN0FaLQCejWuhpHB3mKXRERGLMjbHjs/aoOw/+zFOXaTe3EqOoYbMglPstT4JUqG1Ow8NPaww7e9GvIkfUT0QpZKM0z5z16c/r+cwJS/LiMrl+fFqagYbqjC02oFjNt0CYnZErjaqrDknaZQyWVil0VEFUiQtz3++agN+gd6AACWH72Nzj8extnYxyJXRqXBcEMV3vz90Th4PRlyiYDFA/zhaM0p30RUclZKM3zbsyFWDH4FzjZK3ErOQO9FxzBr1zXk5mnFLo9KgOGGKrQD1xIxb991AEAfby18XW1EroiIKrq2Pk7YPSYYPfzdoBWABQei0WvRUUQnpoldGhUTww1VWHcfZWLMuvMQBKB/s+po5sir/xJR2bC1kGNev8ZY2L8J7CzkiIxLRecfj2D50RhoeaVxo8dwQxVStlqDkb+fwZOs/GtGffl6XbFLIiIT1NnPFbvGtEGbOo7IydNiyl9XMHDZSSQ8yRa7NHoOhhuqkCZui0RkXCqqWiqwaEATKM24KRORYTjbqLBy8CuY1r0+VHIpjkQno+MPh/DPpXixS6Nn4DcCVThbzt7DhtP3IJUA899qDDc7c7FLIiITJ5FI8E6QJ7Z/2BoNq9kiJVONkb+fxacbLyA9hxfhNDaih5uFCxfC09MTKpUKgYGBOHny5DPXVavVmDp1Kry9vaFSqdCoUSPs3LmzHKslscUkZ+DrrZEAgDEhddCyloPIFRFRZeLtaIXNI1vg/bbekEiAjWfuofOPh3GOU8aNiqjhZv369Rg7diwmTZqEs2fPolGjRggNDUViYmKR63/99df4+eefMX/+fFy5cgUjRoxAz549ce7cuXKunMSQk6fBB2vPIjNXg+Y1q2JUu1pil0RElZDCTIrxHeti3bDmqGZnjjsPM/Hm4ggsPBANDQcbGwVRw82cOXMwbNgwDB48GL6+vli8eDEsLCywbNmyItdftWoVvvzyS3Tq1Ak1a9bEyJEj0alTJ8yePbucKycxfL/zGiLjUlHFQo55fRtDJuUZiIlIPIE17bHjo9bo4ueKPK2Ambuu4e1fT3CwsREQLdzk5ubizJkzCAkJ+f9ipFKEhIQgIiKiyMfk5ORApVLpLTM3N8eRI0cMWiuJ70BUIpYeiQEAzOzdCC62qhc8gojI8GzN5Zj/VmPM7O0HC4UMEbceouMPh7DrcoLYpVVqZmK9cHJyMjQaDZydnfWWOzs7IyoqqsjHhIaGYs6cOWjTpg28vb2xb98+bNmyBRrNs6//kZOTg5ycHN3t1NRUAPnjd9Rq0736a0FvptDjg9RsjN1wHgAwsLkHgmtXLdSXKfX7IuzVdFWmfk2t1x6NXNComjXGbryEyPupeG/VGQxo5o4vOtaBFPlnNzaVXl/EUJ9tSZ5PIgiCKAcI79+/j2rVquHYsWMICgrSLR8/fjwOHjyIEydOFHpMUlIShg0bhr/++gsSiQTe3t4ICQnBsmXLkJWVVeTrTJ48GVOmTCm0fM2aNbCwsCi7hsggBAFYdFWKa0+kqGYhYGxDDTjrm4iMVZ4W2B4rxf74/D9UbhYCwmpr4MKvm5eWmZmJ/v3748mTJ7Cxef7Z6EXbc+Pg4ACZTIYHDx7oLX/w4AFcXFyKfIyjoyO2bt2K7OxsPHz4EG5ubvj8889Rs2bNZ77OF198gbFjx+pup6amwt3dHR06dHjhm1ORqdVq7NmzB+3bt4dcLhe7nFL7/UQsrj2JgkouxdKhQfB2tCxyPVPptzjYq+mqTP2acq/dABy6kYxPN1/C/Qw15l1RoIeHGl/3fw0KhULs8gzOUJ9twZGX4hAt3CgUCgQEBGDfvn3o0aMHAECr1WLfvn0YPXr0cx+rUqlQrVo1qNVqbN68GX369HnmukqlEkpl4QspyuVyk/uFKkpF7vN2cga+23UDAPB5x7qo62b3wsdU5H5Lir2arsrUr6n2+pqvK3ZWr4KPN5zH0eiHWHtThvRtUZj+RiNYKUX76i1XZf3ZluS5RN3BP3bsWPzyyy9YuXIlrl69ipEjRyIjIwODBw8GAAwcOBBffPGFbv0TJ05gy5YtuHXrFg4fPoyOHTtCq9Vi/PjxYrVABqLRChi74Tyy1Bq08LbHwCBPsUsiIioRJxsVVr0biHEhtSCFgL8uJqDb/CO4cr/4eyCodESNj3379kVSUhImTpyIhIQE+Pv7Y+fOnbpBxrGxsZBK/z9/ZWdn4+uvv8atW7dgZWWFTp06YdWqVbCzsxOpAzKUnw/dxNnYFFgrzTDzzUaQcto3EVVAUqkEI4JrIi8+CuvvWuJWcgZ6/HQUE7v4YkCgByQS/m0zBNH3jY0ePfqZh6HCw8P1bgcHB+PKlSvlUBWJ6Wp8KubuuQ4AmNjVF9V4eQUiquBq2gB/jgrCF39cwb6oRHy9NRIRtx5iRq+GsFaZ3mE5sXHeCRmV3Dwtxm64ALVGQEg9Z/QOqC52SUREZaKKhQK/hjXFV53qwUwqwfaL8ei24CgPUxkAww0ZlUXhN3E1Pv9q39N7NeQuWyIyKRKJBMPa1MSGEUFws1UhJjkDPX86inUnYyHSmVlMEsMNGY0bD9Kw4ED+7KjJ3erD0brwLDciIlPQxKMKtn/YGu18HJGTp8XnWy5h3IYLyMzlFcbLAsMNGQWtVsDnWy5BrRHwal0ndPVzFbskIiKDqmKpwNKwVzC+ow+kEmDLuTj0WHgUN5PSxS6twmO4IaPw+4k7OHPnMSwVMnzTowEPRxFRpSCVSvB+21pYM6w5HK2VuP4gHd3mH8H2i/Fil1ahMdyQ6O6nZOG7ndcAAJ+9XhdunB1FRJVM85r22P5hKwR6VUVGrgaj1pzF1L+uQK3Ril1ahcRwQ6ISBAETtkYiPScPTTzs8HZgDbFLIiIShZO1Cr8PDcSIYG8AwLKjMei35DgSnmSLXFnFw3BDovr7Yjz2RSVCIZPiuzf8eLI+IqrUzGRSfP56XSx5JwDWKjOcufMYXeYfxvFbD8UurUJhuCHRpGarMeWv/JMyjmpXC7WdrUWuiIjIOHSo74K/RrdCXRdrJKfnYsCvJ/Dr4VucLl5MDDckmnl7biA5PQc1HSwxou2zr+xORFQZeTpY4o/3W6Jn42rQaAV8s/0qRq89h4wcThd/EYYbEsXV+FSsjLgNIP+cNkozmbgFEREZIXOFDHP6NMLU7vUhl+Wf1bjHwqO4xeniz8VwQ+VOEARM3BYJjVZAp4YuaFPHUeySiIiMlkQiwcAgT6wbHgRnGyVuJKaj+4Kj2HvlgdilGS2GGyp3f5yLw6nbj2Eul+Hrzr5il0NEVCEE1KiCvz5ohVc8qyAtJw9DfzuNuXuuQ6vlOJz/YrihcvUkS41vd1wFAHz4Wm2e04aIqATyp4s3R1hQ/mkzfth3A8N+O43UbLXIlRkXhhsqV3P3XEdyei5qOlpiSCsvscshIqpwFGZSTOneALPebASFmRT7ohLRY8FRRCdyHE4BhhsqN1fjU/Hbv4OIp3ZrAIUZNz8iotLqHVAdm0e0gJutCreSM9BjIcfhFOC3C5ULQRAw7e8r0ApAp4YuaFXbQeySiIgqvIbVbfHnB63QzKsq0v8dh/PjvhuVfhwOww2Vi/1RiTh28yEUZlJ88Xo9scshIjIZDlZK/D40EAP/HYczZ891vP/72Up9PhyGGzI4tUaL//07iPjdll5wr2ohckVERKZFLpNiavcG+P4NPyhkUuy8nIA3Fh3D3UeZYpcmCoYbMrjfj9/BraQM2Fsq8H47b7HLISIyWX1eccfa4c3haK1EVEIaui04gmM3k8Uuq9wx3JBBPclUY96+GwCAj9vXgY1KLnJFRESmLaBGFfw5uiX8qtvicaYa7yw9id8ibleq61Ix3JBBzd9/AymZatR2skK/V9zFLoeIqFJwtTXHhveC0MPfDRqtgInbLuPLPyKh1mjFLq1cMNyQwcQkZ+iuH/VV53owk3FzIyIqLyq5DHP7+uPz1+tCIgHWnozFO0tP4HFGrtilGRy/bchgZvxzFWqNgOA6jmjr4yR2OURElY5EIsGIYG/8OrAprJRmOH7rEbovPIrrD9LELs2gGG7IIM7GPsauyw8glQBfduLUbyIiMb1Wzxlb3m8B96rmiH2UiV4/HcP+KNM94R/DDZU5QRAwc+c1AECvJtXh42ItckVERFTH2RrbRrVC4L8n/Buy8jR+PXzLJAcaM9xQmTsSnYyIWw+hkEkxJqS22OUQEdG/qloqsGpIIN5q5g5BAL7ZfhVfbLmE3DzTGmjMcENlShAEzNyVv9emf6AHqlfhCfuIiIyJwkyKb3s2xIQuvpBKgHWn7mLgMtMaaMxwQ2VqZ2QCLt57AguFDKNfrSV2OUREVASJRIIhrbzwa9j/DzTu8ZPpXFmc4YbKTJ5Gi1m78/faDGnlBQcrpcgVERHR87xa1xmbR7ZANTtz3HmYiV4/HcWx6Ip/RmOGGyozW87F4WZSBuws5BjWpqbY5RARUTH4uFhj2+iWaOJhh9TsPAxcdhLrT8WKXdZLYbihMpGTp8EPe/MvszAy2JuXWSAiqkAcrJRYM6w5ujZyQ55WwGebL2H6P1eh1VbMmVQMN1Qm1p6IRVxKFpxtlAhr4Sl2OUREVEIquQw/9vPHh6/lz3L9+eAtvP/7WWTlakSurOQYbuilZas1WHTwJgBg9Ku1oZLLRK6IiIhKQyKRYGz7OpjbtxEUMil2Xk5AvyURSEzLFru0EmG4oZe28fRdPEjNgautCn2aVhe7HCIiekk9G1fH78MCUcVCjgv3nqDnwmMV6pINDDf0UnLyNPgpPH+vzci23lCaca8NEZEpeMWzKra83xJeDpaIS8nCG4uO4ciNijGTiuGGXsrmM3GIf5INZxsl+jR1F7scIiIqQ14OltgysgVe8ayCtOw8DFp+EhtO3RW7rBdiuKFSy83TYuGBaADAiGBvjrUhIjJBVSwVWD00ED3882dSjd98EbN3XzPqa1Ix3FCp/XHuHuJSsuBgpcRbzTzELoeIiAxEaSbD3L7++ODfM8/P3x+NsRsuGO01qRhuqFTUGi0W6Pba1OReGyIiEyeRSDCugw++e6MhZFIJ/jgXh4HLTuBJplrs0gphuKFS2XouDncfZcHBSoEBgTXELoeIiMpJ31c8sHzQK7prUvVefAz3HmeKXZYehhsqMY1W0I21Gda6JswV3GtDRFSZtKnjiA3vBcHFRoUbieno9dMxXL7/ROyydBhuqMR2Ribg9sNM2FnI8XZz7rUhIqqMfN1s8MeoFvBxtkZiWg76LI7AoetJYpcFgOGGSkgQBCz+92zEYUGesFSaiVwRERGJxdXWHBtHBiGopj0ycjV4d8UpbD4bJ3ZZDDdUMhG3HuJS3BOo5FIMDOJeGyKiys5GJcfKd5vppop//sdl7LwrEXWqOMMNlcjPB28BAPo0dYe9lVLkaoiIyBgozKSY29cf77f1BgCcfyRFllq8C27ymAIV25X7qTh4PQlSCTC0VU2xyyEiIiMikUgwvmNduFdRIffOBVgoxIsY3HNDxbbkUP5Ym04NXeFhbyFyNUREZIx6N6kGO5F37DPcULHce5yJvy7GA8i/1AIREZGxYrihYll6JAYarYBWtRzQoJqt2OUQERE9E8MNvdDjjFysO5l/Fdj3gjnWhoiIjBvDDb3Q7yfuIEutga+rDVrVchC7HCIioudiuKHnys3T4reIOwCA4W1qQiKRiFwRERHR8zHc0HP9ExmPxLQcOFor0amhq9jlEBERvRDDDT3X8qO3AQBvB9aAwoybCxERGT9+W9EznYt9jPN3U6CQSdE/0EPscoiIiIqF4YaeaeWx2wCALo1c4WjNSy0QEVHFwHBDRUpMzcb2S/kn7RvcwkvkaoiIiIqP4YaKtPpELNQaAU1rVEHD6jxpHxERVRwMN1RITp4Ga07kT/8e1NJT3GKIiIhKiOGGCvn7QjyS03PhaqtCaH0XscshIiIqEdHDzcKFC+Hp6QmVSoXAwECcPHnyuevPmzcPPj4+MDc3h7u7Oz7++GNkZ2eXU7WmTxAELD8WAwB4u3kNyGWibyJEREQlIuo31/r16zF27FhMmjQJZ8+eRaNGjRAaGorExMQi11+zZg0+//xzTJo0CVevXsXSpUuxfv16fPnll+Vcuek6dzcFkXGpUJhJ8VYzTv8mIqKKR9RwM2fOHAwbNgyDBw+Gr68vFi9eDAsLCyxbtqzI9Y8dO4aWLVuif//+8PT0RIcOHfDWW2+9cG8PFd+aE7EAgC5+rqhqqRC5GiIiopITLdzk5ubizJkzCAkJ+f9ipFKEhIQgIiKiyMe0aNECZ86c0YWZW7duYceOHejUqVO51GzqnmSp8ffF+wCAATxpHxERVVBmYr1wcnIyNBoNnJ2d9ZY7OzsjKiqqyMf0798fycnJaNWqFQRBQF5eHkaMGPHcw1I5OTnIycnR3U5NTQUAqNVqqNXqMujEOBX0VpIeN52ORbZaizpOVmjoalWh3p/S9FtRsVfTVZn6Za+my1D9luT5JIIgCGX66sV0//59VKtWDceOHUNQUJBu+fjx43Hw4EGcOHGi0GPCw8PRr18/fPPNNwgMDER0dDQ++ugjDBs2DBMmTCjydSZPnowpU6YUWr5mzRpYWFiUXUMVnCAAMy7IkJAlwRueGrRxFWWzICIiKlJmZib69++PJ0+ewMbG5rnrihZucnNzYWFhgU2bNqFHjx665WFhYUhJScG2bdsKPaZ169Zo3rw5Zs6cqVu2evVqDB8+HOnp6ZBKCx9lK2rPjbu7O5KTk1/45lRkarUae/bsQfv27SGXy1+4/tnYFPT95SRUcimOfhoMG/MXP8aYlLTfioy9mq7K1C97NV2G6jc1NRUODg7FCjeiHZZSKBQICAjAvn37dOFGq9Vi3759GD16dJGPyczMLBRgZDIZgPwpzEVRKpVQKgtfF0kul1eKjay4fa4/EwcA6OLnBnubirtHq7J8rgB7NWWVqV/2arrKut+SPJdo4QYAxo4di7CwMDRt2hTNmjXDvHnzkJGRgcGDBwMABg4ciGrVqmH69OkAgK5du2LOnDlo3Lix7rDUhAkT0LVrV13IoZJ7kqnG9ov515Hi1b+JiKiiEzXc9O3bF0lJSZg4cSISEhLg7++PnTt36gYZx8bG6u2p+frrryGRSPD1118jLi4Ojo6O6Nq1K/73v/+J1YJJ2Hz2HnLytKjrYo3G7nZil0NERPRSRA03ADB69OhnHoYKDw/Xu21mZoZJkyZh0qRJ5VBZ5SAIAtaczD+3zYBAD0gkEpErIiIiejk8t34ld+r2Y0QnpsNcLkP3xtXELoeIiOilMdxUcmv/3WvTrZEbbFSVZ6AbERGZLoabSiwtW41/IvMHEvdt5i5yNURERGWjVOGmZs2aePjwYaHlKSkpqFmz5ksXReXjn0sJyFZr4e1oyYHERERkMkoVbm7fvg2NRlNoeU5ODuLi4l66KCofm87cAwD0DnDnQGIiIjIZJZot9eeff+r+f9euXbC1tdXd1mg02LdvHzw9PcusODKc28kZOHn7EaQSoCcHEhMRkQkpUbgpOJOwRCJBWFiY3n1yuRyenp6YPXt2mRVHhrPlbP5em1a1HeFiqxK5GiIiorJTonCj1WoBAF5eXjh16hQcHBwMUhQZllYrYPPZ/MOHvQOqi1wNERFR2SrVSfxiYmLKug4qR8djHiIuJQvWKjN08HUWuxwiIqIyVexw8+OPP2L48OFQqVT48ccfn7vuhx9++NKFkeEUDCTu2sgNKjmvyUVERKal2OFm7ty5GDBgAFQqFebOnfvM9SQSCcONEUvPycM/lxIA8JAUERGZpmKHm/Pnz+tmR/GwVMW141I8stQa1OS5bYiIyEQV+zw3VatWRWJiIgDg1VdfRUpKiqFqIgPa/O8hqTeaVOe5bYiIyCQVO9xYWVnpzkocHh4OtVptsKLIMO4+ysSJmEeQSIBeTXhuGyIiMk3FPiwVEhKCdu3aoV69egCAnj17QqFQFLnu/v37y6Y6KlN/XrgPAGjp7QBXW3ORqyEiIjKMYoeb1atXY+XKlbh58yYOHjyI+vXrw8LCwpC1URn783x+uOnWyE3kSoiIiAyn2OHG3NwcI0aMAACcPn0a3333Hezs7AxVF5WxawlpuPYgDQqZFKENXMQuh4iIyGBKdRK/AwcO6P5fEAQA4OBUI/fnhfwzEgf7OMLWXC5yNURERIZTqquCA8Bvv/2Ghg0bwtzcHObm5vDz88OqVavKsjYqI4Ig4K8L8QB4SIqIiExfqfbczJkzBxMmTMDo0aPRsmVLAMCRI0cwYsQIJCcn4+OPPy7TIunlnL+bgthHmbBQyBBSj5dbICIi01aqcDN//nwsWrQIAwcO1C3r1q0b6tevj8mTJzPcGJmCWVLtfZ1hruDlFoiIyLSV6rBUfHw8WrRoUWh5ixYtEB8f/9JFUdnRaAX8fZGHpIiIqPIoVbipVasWNmzYUGj5+vXrUbt27ZcuisrOyduPkJSWA1tzOVrXdhS7HCIiIoMr1WGpKVOmoG/fvjh06JBuzM3Ro0exb9++IkMPiefvi/kXyezU0AUKs1KPHyciIqowSvVt98Ybb+DkyZNwcHDA1q1bsXXrVjg4OODkyZPo2bNnWddIpZSnBXZdeQAA6MpDUkREVEmUeM+NWq3Ge++9hwkTJmD16tWGqInKSFSKBE+y8uBkrUSgl73Y5RAREZWLEu+5kcvl2Lx5syFqoTJ2Jjn/xIpd/Nwgk/Iki0REVDmU6rBUjx49sHXr1jIuhcpSjlqDy4//DTeNXEWuhoiIqPyUakBx7dq1MXXqVBw9ehQBAQGwtLTUu//DDz8sk+Ko9I7cfIgcrQQuNkr4V7cTuxwiIqJyU6pws3TpUtjZ2eHMmTM4c+aM3n0SiYThxgjsvpIIIP/EfVIekiIiokqkVOEmJiZG9/+8cKbxUWu02BeVH25CfZ1EroaIiKh8lfrEJ0uXLkWDBg2gUqmgUqnQoEED/Prrr2VZG5XSiVuP8CQrD1ZmAprWqCJ2OUREROWqVHtuJk6ciDlz5uCDDz5AUFAQACAiIgIff/wxYmNjMXXq1DItkkrmn8j8yy00rCpwlhQREVU6pQo3ixYtwi+//IK33npLt6xbt27w8/PDBx98wHAjIo1WwK7L+Sfua1RVELkaIiKi8leqw1JqtRpNmzYttDwgIAB5eXkvXRSV3tnYx0hOz4G1ygy1bRluiIio8ilVuHnnnXewaNGiQsuXLFmCAQMGvHRRVHo7I/OvJfWqjyN4KSkiIqqMSnVYCsgfULx79240b94cAHDixAnExsZi4MCBGDt2rG69OXPmvHyVVCyCIOjCTaivM9S374pcERERUfkrVbiJjIxEkyZNAAA3b94EADg4OMDBwQGRkZG69Tg9vHxFxqUiLiUL5nIZWtWyx4HbYldERERU/koVbg4cOFDWdVAZKJgl1a6uI8wVMpGrISIiEgdHZZiIpw9JdWzAa0kREVHlxXBjIqIT03ErOQMKmRTtfBzFLoeIiEg0DDcmYveV/HPbtKxlD2uVXORqiIiIxMNwYyL2/3stqRBfZ5ErISIiEhfDjQl4lJGLs7GPAQCv1uWFMomIqHJjuDEBB6ISIQiAr6sNXG3NxS6HiIhIVAw3JqDgkNRr9bjXhoiIiOGmgsvN0+LQ9SQAwGv1ON6GiIiI4aaCO337EdJy8uBgpYBfNVuxyyEiIhIdw00Ft+/fQ1LtfJwglfJyF0RERAw3FRzH2xAREeljuKnAbialIyY5A3KZBK1q86zEREREAMNNhbb/av5em+Y17WGlLNU1UImIiEwOw00Fti8q/5ILr/HEfURERDoMNxXUkyw1Tt0uOCsxp4ATEREVYLipoA5dT4JGK6C2kxU87C3ELoeIiMhoMNxUUPuu5h+SepWzpIiIiPQw3FRAGq2Ag/+elfhVH4YbIiKipzHcVECX7z/B40w1rJVmaFKjitjlEBERGRWGmwro8I1kAECQtz3kMn6ERERET+M3YwVUcKHM1nV44j4iIqL/YripYNJz8nA2Nn8KeJvaDiJXQ0REZHyMItwsXLgQnp6eUKlUCAwMxMmTJ5+5btu2bSGRSAr9dO7cuRwrFs+JWw+h1gjwqGqBGvaWYpdDRERkdEQPN+vXr8fYsWMxadIknD17Fo0aNUJoaCgSExOLXH/Lli2Ij4/X/URGRkImk+HNN98s58rFUTDepjX32hARERVJ9HAzZ84cDBs2DIMHD4avry8WL14MCwsLLFu2rMj1q1atChcXF93Pnj17YGFhUWnCzaEb/4634YUyiYiIiiRquMnNzcWZM2cQEhKiWyaVShESEoKIiIhiPcfSpUvRr18/WFqa/iGae48zcSspAzKpBC1q2YtdDhERkVES9VLSycnJ0Gg0cHbWvzaSs7MzoqKiXvj4kydPIjIyEkuXLn3mOjk5OcjJydHdTk1NBQCo1Wqo1epSVi6O8H8vlOlf3RbmMjy3/oL7KlqPpVWZ+mWvpqsy9cteTZeh+i3J84kabl7W0qVL0bBhQzRr1uyZ60yfPh1TpkwptHz37t2wsKhY12TadE0KQAon7UPs2LGjWI/Zs2ePYYsyMpWpX/ZquipTv+zVdJV1v5mZmcVeV9Rw4+DgAJlMhgcPHugtf/DgAVxcXJ772IyMDKxbtw5Tp0597npffPEFxo4dq7udmpoKd3d3dOjQATY2NqUvvpxptAImnDsAIA+DOwWhsbvdc9dXq9XYs2cP2rdvD7lcXi41iqky9cteTVdl6pe9mi5D9Vtw5KU4RA03CoUCAQEB2LdvH3r06AEA0Gq12LdvH0aPHv3cx27cuBE5OTl4++23n7ueUqmEUqkstFwul1eojSwy9jFSs/NgozJDkxr2MCvmmYkrWp8vqzL1y15NV2Xql72arrLutyTPJfphqbFjxyIsLAxNmzZFs2bNMG/ePGRkZGDw4MEAgIEDB6JatWqYPn263uOWLl2KHj16wN6+cgysLZgC3rKWQ7GDDRERUWUkerjp27cvkpKSMHHiRCQkJMDf3x87d+7UDTKOjY2FVKr/ZX7t2jUcOXIEu3fvFqNkURzmFHAiIqJiET3cAMDo0aOfeRgqPDy80DIfHx8IgmDgqoxHWrYaZ2NTAPDkfURERC/C4xsVQMTNh9BoBXg5WMK9asWa4UVERFTeGG4qgGM3HwIAWvLEfURERC/EcFMBHL+VH25aePOQFBER0Ysw3Bi5Rxm5iEpIAwA086oqcjVERETGj+HGyJ2Myd9rU8fZCg5Whc/XQ0RERPoYbozc8VuPAADNa3K8DRERUXEw3Bi5iH8HEzPcEBERFQ/DjRF7mJ6Daw/yx9sEcrwNERFRsTDcGLGTMfmHpHycrWHP8TZERETFwnBjxAqmgDevyb02RERExcVwY8Q4mJiIiKjkGG6MlN54G4YbIiKiYmO4MVIn/h1vU9fFGlUtFSJXQ0REVHEw3Bip/x9vw702REREJcFwY6Q4mJiIiKh0GG6MUHJ6Dq4/SAcANPPinhsiIqKSYLgxQiducbwNERFRaTHcGCGOtyEiIio9hhsjxHBDRERUegw3RuZRRi5uJBaMt+FgYiIiopJiuDEyZ+88BgDUcrLieBsiIqJSYLgxMqf/DTcBHlVEroSIiKhiYrgxMgV7bgJqMNwQERGVBsONEcnN0+LCvRQAQIAnww0REVFpMNwYkcv3nyAnT4sqFnLUdLAUuxwiIqIKieHGiJx56pCURCIRuRoiIqKKieHGiBSEmyYcb0NERFRqDDdGQhAE3UyppjV4fhsiIqLSYrgxEvceZyEpLQdymQR+1W3FLoeIiKjCYrgxEgWHpOq72UIll4lcDRERUcXFcGMkTt/JvxI4z29DRET0chhujMSZOykAGG6IiIheFsONEUjLVuNaQioAhhsiIqKXxXBjBM7fTYFWAKpXMYezjUrscoiIiCo0hhsjcEY3BZx7bYiIiF4Ww40ROMOLZRIREZUZhhuRabQCzsWmAAACePI+IiKil8ZwI7JrCWlIz8mDldIMPi7WYpdDRERU4THciOxMbP4hqcYedpBJebFMIiKil8VwI7JzunDD8TZERERlgeFGZBfvPQEA+LvzelJERERlgeFGROk5ebiZlA4AaFjNTtxiiIiITATDjYgi455AEAA3WxUcrZVil0NERGQSGG5EdPFeCgDAr7qdqHUQERGZEoYbEV34d7yNH8fbEBERlRmGGxEV7LlpxD03REREZYbhRiSPMnJx91EWAKBBNe65ISIiKisMNyK5FJd/SMrLwRK25nKRqyEiIjIdDDciuXg3BQDgV517bYiIiMoSw41IdIOJOd6GiIioTDHciOT/BxNzzw0REVFZYrgRQcKTbCSm5UAqAXzdbMQuh4iIyKQw3IigYK9NHWdrWCjMxC2GiIjIxDDciOCibrwND0kRERGVNYYbEVzgZReIiIgMhuGmnAmCoDvHDc9MTEREVPYYbspZ7KNMpGSqoZBJ4eNiLXY5REREJofhppwVjLep52oNhRnffiIiorLGb9dydpHjbYiIiAyK4aacXeBMKSIiIoNiuClHGq2AyILBxO524hZDRERkokQPNwsXLoSnpydUKhUCAwNx8uTJ566fkpKCUaNGwdXVFUqlEnXq1MGOHTvKqdqXE5OcjsxcDczlMng7WoldDhERkUkS9fS469evx9ixY7F48WIEBgZi3rx5CA0NxbVr1+Dk5FRo/dzcXLRv3x5OTk7YtGkTqlWrhjt37sDOzq78iy+FK/FpAIC6rtaQSSUiV0NERGSaRA03c+bMwbBhwzB48GAAwOLFi7F9+3YsW7YMn3/+eaH1ly1bhkePHuHYsWOQy+UAAE9Pz/Is+aVcjU8FANRz5fWkiIiIDEW0cJObm4szZ87giy++0C2TSqUICQlBREREkY/5888/ERQUhFGjRmHbtm1wdHRE//798dlnn0EmkxX5mJycHOTk5Ohup6bmBwy1Wg21Wl2GHb3YlX/H2/g4WRr8tQuev7x7FEtl6pe9mq7K1C97NV2G6rckzydauElOToZGo4Gzs7PecmdnZ0RFRRX5mFu3bmH//v0YMGAAduzYgejoaLz//vtQq9WYNGlSkY+ZPn06pkyZUmj57t27YWFh8fKNlMC52zIAEjyOuYQdyZfK5TX37NlTLq9jLCpTv+zVdFWmftmr6SrrfjMzM4u9boW6JLVWq4WTkxOWLFkCmUyGgIAAxMXFYebMmc8MN1988QXGjh2ru52amgp3d3d06NABNjbld3joYUYuUiPCIZEAg3p0gKXSsG+9Wq3Gnj170L59e90hPFNWmfplr6arMvXLXk2XofotOPJSHKKFGwcHB8hkMjx48EBv+YMHD+Di4lLkY1xdXSGXy/UOQdWrVw8JCQnIzc2FQqEo9BilUgmlUllouVwuL9eNLDop/5CUp70l7KzMy+11y7tPsVWmftmr6apM/bJX01XW/ZbkuUSbCq5QKBAQEIB9+/bplmm1Wuzbtw9BQUFFPqZly5aIjo6GVqvVLbt+/TpcXV2LDDbG5Er8/192gYiIiAxH1PPcjB07Fr/88gtWrlyJq1evYuTIkcjIyNDNnho4cKDegOORI0fi0aNH+Oijj3D9+nVs374d3377LUaNGiVWC8V29d9p4PVcOFOKiIjIkEQdc9O3b18kJSVh4sSJSEhIgL+/P3bu3KkbZBwbGwup9P/zl7u7O3bt2oWPP/4Yfn5+qFatGj766CN89tlnYrVQbJwGTkREVD5EH1A8evRojB49usj7wsPDCy0LCgrC8ePHDVxV2crJ0yA6MR0A4OvGcENERGRIol9+oTK48SAdeVoBtuZyuNqqxC6HiIjIpDHclIP/PyRlDYmEl10gIiIyJIabcqAbTMzxNkRERAbHcFMOCvbc+DLcEBERGRzDjYEJgoArnClFRERUbhhuDCz+STaeZKlhJpWgtrOV2OUQERGZPIYbAys4JFXLyQpKs6KvXE5ERERlh+HGwHjyPiIiovLFcGNgV56aBk5ERESGx3BjYJwGTkREVL4YbgwoMzcPtx9mAGC4ISIiKi8MNwYUlZAGQQCcrJVwsFKKXQ4REVGlwHBjQFfuczAxERFReWO4MSDOlCIiIip/DDcGdONBOgCgrgtnShEREZUXhhsDEQQB1xPzZ0rxzMRERETlh+HGQB5m5CIlUw2JBPB2ZLghIiIqLww3BlJwSMqjqgVUcl52gYiIqLww3BhIdFJ+uKnFvTZERETliuHGQKIf5I+3qcXxNkREROWK4cZAbiTm77mp7cSZUkREROWJ4cZA/j/ccM8NERFReWK4MYAnmWokpeUAALwZboiIiMoVw40BRCflj7dxs1XBSmkmcjVERESVC8ONARRMA6/lzPE2RERE5Y3hxgA43oaIiEg8DDcGUBBuajHcEBERlTuGGwO4yT03REREomG4KWPpOXmIS8kCwD03REREYmC4KWMFe20crZWws1CIXA0REVHlw3BTxnTjbXhNKSIiIlEw3JSx6ILxNrymFBERkSgYbspYdGL+Cfw4mJiIiEgcDDdl7P+ngfMEfkRERGJguClD2WoNYh9lAuBhKSIiIrEw3JShW0kZEATAzkIOe0vOlCIiIhIDw00ZuvHUeBuJRCJyNURERJUTw00ZiuZ4GyIiItEx3JShgquBc6YUERGReBhuylDBYSledoGIiEg8DDdlJDdPizsPOVOKiIhIbAw3ZeTOwwzkaQVYKc3gYqMSuxwiIqJKy0zsAkxFUnoO7Czk8LS35EwpIiIiETHclJEW3g44N6E9stQasUshIiKq1HhYqgxJJBJYKJgXiYiIxMRwQ0RERCaF4YaIiIhMCsMNERERmRSGGyIiIjIpDDdERERkUhhuiIiIyKQw3BAREZFJYbghIiIik8JwQ0RERCaF4YaIiIhMCsMNERERmRSGGyIiIjIpDDdERERkUirdJawFQQAApKamilyJYanVamRmZiI1NRVyuVzscgyuMvXLXk1XZeqXvZouQ/Vb8L1d8D3+PJUu3KSlpQEA3N3dRa6EiIiISiotLQ22trbPXUciFCcCmRCtVov79+/D2toaEolE7HIMJjU1Fe7u7rh79y5sbGzELsfgKlO/7NV0VaZ+2avpMlS/giAgLS0Nbm5ukEqfP6qm0u25kUqlqF69uthllBsbG5tK8ctUoDL1y15NV2Xql72aLkP0+6I9NgU4oJiIiIhMCsMNERERmRSGGxOlVCoxadIkKJVKsUspF5WpX/ZquipTv+zVdBlDv5VuQDERERGZNu65ISIiIpPCcENEREQmheGGiIiITArDDREREZkUhpsKZOHChfD09IRKpUJgYCBOnjz5zHV/+eUXtG7dGlWqVEGVKlUQEhJSaP1BgwZBIpHo/XTs2NHQbRRLSXpdsWJFoT5UKpXeOoIgYOLEiXB1dYW5uTlCQkJw48YNQ7dRbCXpt23btoX6lUgk6Ny5s24dY/1sDx06hK5du8LNzQ0SiQRbt2594WPCw8PRpEkTKJVK1KpVCytWrCi0Tknev/JS0l63bNmC9u3bw9HRETY2NggKCsKuXbv01pk8eXKhz7Vu3boG7KJ4StpreHh4kdtwQkKC3nrG+LkCJe+3qN9HiUSC+vXr69Yxxs92+vTpeOWVV2BtbQ0nJyf06NED165de+HjNm7ciLp160KlUqFhw4bYsWOH3v3l8feY4aaCWL9+PcaOHYtJkybh7NmzaNSoEUJDQ5GYmFjk+uHh4Xjrrbdw4MABREREwN3dHR06dEBcXJzeeh07dkR8fLzuZ+3ateXRznOVtFcg/0yYT/dx584dvfu///57/Pjjj1i8eDFOnDgBS0tLhIaGIjs729DtvFBJ+92yZYter5GRkZDJZHjzzTf11jPGzzYjIwONGjXCwoULi7V+TEwMOnfujHbt2uH8+fMYM2YMhg4dqvelX5rtpTyUtNdDhw6hffv22LFjB86cOYN27dqha9euOHfunN569evX1/tcjxw5YojyS6SkvRa4du2aXi9OTk66+4z1cwVK3u8PP/yg1+fdu3dRtWrVQr+zxvbZHjx4EKNGjcLx48exZ88eqNVqdOjQARkZGc98zLFjx/DWW29hyJAhOHfuHHr06IEePXogMjJSt065/D0WqEJo1qyZMGrUKN1tjUYjuLm5CdOnTy/W4/Py8gRra2th5cqVumVhYWFC9+7dy7rUl1bSXpcvXy7Y2to+8/m0Wq3g4uIizJw5U7csJSVFUCqVwtq1a8us7tJ62c927ty5grW1tZCenq5bZqyf7dMACH/88cdz1xk/frxQv359vWV9+/YVQkNDdbdf9v0rD8XptSi+vr7ClClTdLcnTZokNGrUqOwKM4Di9HrgwAEBgPD48eNnrlMRPldBKN1n+8cffwgSiUS4ffu2bllF+GwTExMFAMLBgwefuU6fPn2Ezp076y0LDAwU3nvvPUEQyu/vMffcVAC5ubk4c+YMQkJCdMukUilCQkIQERFRrOfIzMyEWq1G1apV9ZaHh4fDyckJPj4+GDlyJB4+fFimtZdUaXtNT09HjRo14O7uju7du+Py5cu6+2JiYpCQkKD3nLa2tggMDCz2+2coZfHZLl26FP369YOlpaXecmP7bEsjIiJC770BgNDQUN17Uxbvn7HSarVIS0sr9Dt748YNuLm5oWbNmhgwYABiY2NFqvDl+fv7w9XVFe3bt8fRo0d1y035cwXyf2dDQkJQo0YNveXG/tk+efIEAAptk0970e9sef09ZripAJKTk6HRaODs7Ky33NnZudAx6mf57LPP4ObmprdBdezYEb/99hv27duH7777DgcPHsTrr78OjUZTpvWXRGl69fHxwbJly7Bt2zasXr0aWq0WLVq0wL179wBA97iXef8M5WU/25MnTyIyMhJDhw7VW26Mn21pJCQkFPnepKamIisrq0x+N4zVrFmzkJ6ejj59+uiWBQYGYsWKFdi5cycWLVqEmJgYtG7dGmlpaSJWWnKurq5YvHgxNm/ejM2bN8Pd3R1t27bF2bNnAZTN3zxjdf/+ffzzzz+FfmeN/bPVarUYM2YMWrZsiQYNGjxzvWf9zhZ8buX197jSXRW8MpoxYwbWrVuH8PBwvYG2/fr10/1/w4YN4efnB29vb4SHh+O1114To9RSCQoKQlBQkO52ixYtUK9ePfz888+YNm2aiJUZ3tKlS9GwYUM0a9ZMb7mpfLaV1Zo1azBlyhRs27ZNbxzK66+/rvt/Pz8/BAYGokaNGtiwYQOGDBkiRqml4uPjAx8fH93tFi1a4ObNm5g7dy5WrVolYmWGt3LlStjZ2aFHjx56y439sx01ahQiIyNFHwdUXNxzUwE4ODhAJpPhwYMHessfPHgAFxeX5z521qxZmDFjBnbv3g0/P7/nrluzZk04ODggOjr6pWsurZfptYBcLkfjxo11fRQ87mWe01Bept+MjAysW7euWH/4jOGzLQ0XF5ci3xsbGxuYm5uXyfZibNatW4ehQ4diw4YNhXbv/5ednR3q1KlT4T7XojRr1kzXhyl+rkD+LKFly5bhnXfegUKheO66xvTZjh49Gn///TcOHDiA6tWrP3fdZ/3OFnxu5fX3mOGmAlAoFAgICMC+fft0y7RaLfbt26e3x+K/vv/+e0ybNg07d+5E06ZNX/g69+7dw8OHD+Hq6lomdZdGaXt9mkajwaVLl3R9eHl5wcXFRe85U1NTceLEiWI/p6G8TL8bN25ETk4O3n777Re+jjF8tqURFBSk994AwJ49e3TvTVlsL8Zk7dq1GDx4MNauXas3tf9Z0tPTcfPmzQr3uRbl/Pnzuj5M7XMtcPDgQURHRxfrHyTG8NkKgoDRo0fjjz/+wP79++Hl5fXCx7zod7bc/h6X2dBkMqh169YJSqVSWLFihXDlyhVh+PDhgp2dnZCQkCAIgiC88847wueff65bf8aMGYJCoRA2bdokxMfH637S0tIEQRCEtLQ04ZNPPhEiIiKEmJgYYe/evUKTJk2E2rVrC9nZ2aL0WKCkvU6ZMkXYtWuXcPPmTeHMmTNCv379BJVKJVy+fFm3zowZMwQ7Ozth27ZtwsWLF4Xu3bsLXl5eQlZWVrn3918l7bdAq1athL59+xZabsyfbVpamnDu3Dnh3LlzAgBhzpw5wrlz54Q7d+4IgiAIn3/+ufDOO+/o1r9165ZgYWEhfPrpp8LVq1eFhQsXCjKZTNi5c6dunRe9f2Ipaa+///67YGZmJixcuFDvdzYlJUW3zrhx44Tw8HAhJiZGOHr0qBASEiI4ODgIiYmJ5d7f00ra69y5c4WtW7cKN27cEC5duiR89NFHglQqFfbu3atbx1g/V0Eoeb8F3n77bSEwMLDI5zTGz3bkyJGCra2tEB4errdNZmZm6tb579+no0ePCmZmZsKsWbOEq1evCpMmTRLkcrlw6dIl3Trl8feY4aYCmT9/vuDh4SEoFAqhWbNmwvHjx3X3BQcHC2FhYbrbNWrUEAAU+pk0aZIgCIKQmZkpdOjQQXB0dBTkcrlQo0YNYdiwYUbxh0MQStbrmDFjdOs6OzsLnTp1Es6ePav3fFqtVpgwYYLg7OwsKJVK4bXXXhOuXbtWXu28UEn6FQRBiIqKEgAIu3fvLvRcxvzZFkwB/u9PQX9hYWFCcHBwocf4+/sLCoVCqFmzprB8+fJCz/u8908sJe01ODj4uesLQv40eFdXV0GhUAjVqlUT+vbtK0RHR5dvY0Uoaa/fffed4O3tLahUKqFq1apC27Zthf379xd6XmP8XAWhdNtxSkqKYG5uLixZsqTI5zTGz7aoHgHo/Q4W9fdpw4YNQp06dQSFQiHUr19f2L59u9795fH3WPJvA0REREQmgWNuiIiIyKQw3BAREZFJYbghIiIik8JwQ0RERCaF4YaIiIhMCsMNERERmRSGGyIiIjIpDDdEZFTatm2LMWPGFGvd8PBwSCQSpKSkGLQmIqpYGG6IiIjIpDDcEBH9R25urtglENFLYLghIqO1atUqNG3aFNbW1nBxcUH//v2RmJhYaL2jR4/Cz88PKpUKzZs3R2RkpN79mzdvRv369aFUKuHp6YnZs2fr3e/p6Ylp06Zh4MCBsLGxwfDhww3aFxEZFsMNERkttVqNadOm4cKFC9i6dStu376NQYMGFVrv008/xezZs3Hq1Ck4Ojqia9euUKvVAIAzZ86gT58+6NevHy5duoTJkydjwoQJWLFihd5zzJo1C40aNcK5c+cwYcKEcuiOiAyFF84kIqPStm1b+Pv7Y968eYXuO336NF555RWkpaXBysoK4eHhaNeuHdatW4e+ffsCAB49eoTq1atjxYoV6NOnDwYMGICkpCTs3r1b9zzjx4/H9u3bcfnyZQD5e24aN26MP/74o1x6JCLD4p4bIjJaZ86cQdeuXeHh4QFra2sEBwcDAGJjY/XWCwoK0v1/1apV4ePjg6tXrwIArl69ipYtW+qt37JlS9y4cQMajUa3rGnTpoZqg4jKGcMNERmljIwMhIaGwsbGBr///jtOnTql27NiiAG/lpaWZf6cRCQOM7ELICIqSlRUFB4+fIgZM2bA3d0dQP5hqaIcP34cHh4eAIDHjx/j+vXrqFevHgCgXr16OHr0qN76R48eRZ06dSCTyQzYARGJheGGiIySh4cHFAoF5s+fjxEjRiAyMhLTpk0rct2pU6fC3t4ezs7O+Oqrr+Dg4IAePXoAAMaNG4dXXnkF06ZNQ9++fREREYEFCxbgp59+KsduiKg88bAUERklR0dHrFixAhs3boSvry9mzJiBWbNmFbnujBkz8NFHHyEgIAAJCQn466+/oFAoAABNmjTBhg0bsG7dOjRo0AATJ07E1KlTi5x1RUSmgbOliIiIyKRwzw0RERGZFIYbIiIiMikMN0RERGRSGG6IiIjIpDDcEBERkUlhuCEiIiKTwnBDREREJoXhhoiIiEwKww0RERGZFIYbIiIiMikMN0RERGRSGG6IiIjIpPwfv1fVIwUEioIAAAAASUVORK5CYII=",
      "text/plain": [
       "<Figure size 640x480 with 1 Axes>"
      ]
     },
     "metadata": {},
     "output_type": "display_data"
    }
   ],
   "source": [
    "import numpy as np\n",
    "import matplotlib.pyplot as plt\n",
    "\n",
    "# Given parameters in problem 2\n",
    "eta = 0.5\n",
    "w = 1.0\n",
    "kappa_values = [1.0, 2.0]\n",
    "\n",
    "# Define the profit function\n",
    "def profit(l, kappa):\n",
    "    return kappa * l**(1 - eta) - w * l\n",
    "\n",
    "# Define the labor function that supposed to maximize the profits\n",
    "def optimal_labor(kappa):\n",
    "    return ((1 - eta) * kappa / w)**(1 / eta)\n",
    "\n",
    "# Verify the solution for each kappa\n",
    "for kappa in kappa_values:\n",
    "    # Calculate optimal labor\n",
    "    l_opt = optimal_labor(kappa)\n",
    "    \n",
    "    # Calculate the corresponding profit\n",
    "    profit_opt = profit(l_opt, kappa)\n",
    "    \n",
    "    # Print the results\n",
    "    print(f\"For kappa = {kappa}: optimal labor = {l_opt}, corresponding profit = {profit_opt}\")\n",
    "\n",
    "    # Plot the profit function for a range of labor values\n",
    "    labor_values = np.linspace(0.1, 2, 100)\n",
    "    profit_values = profit(labor_values, kappa)\n",
    "    \n",
    "    plt.figure()\n",
    "    plt.plot(labor_values, profit_values, label=f\"kappa = {kappa}\")\n",
    "    plt.plot(l_opt, profit_opt, 'ro') # Mark the optimal labor and the corresponding profit\n",
    "    plt.xlabel('labor')\n",
    "    plt.ylabel('profit')\n",
    "    plt.title(f\"Profit maximization for kappa = {kappa}\")\n",
    "    plt.legend()\n",
    "    plt.grid(True)\n",
    "    plt.show()"
   ]
  },
  {
   "attachments": {},
   "cell_type": "markdown",
   "metadata": {},
   "source": [
    "We now consider a *dynamic* version of the model.\n",
    "\n",
    "* The demand-shock is a so-called AR(1) in logs, \n",
    "\n",
    "$$\n",
    "\\log \\kappa_{t} = \\rho \\log \\kappa_{t-1} + \\epsilon_{t},\\,\\,\\, \\epsilon_{t+1} \\sim \\mathcal{N}(-0.5\\sigma_{\\epsilon}^2,\\sigma_{\\epsilon})\n",
    "$$\n",
    "\n",
    "* Any hiring or firing implies a fixed adjustment cost, $\\iota > 0 $.\n",
    "* Future profits are discounted with a monthly factor of $R \\in (0,1)$.\n",
    "\n",
    "The initial demand shock is $\\kappa_{-1} = 1$ and the planning horizon is 10 years, i.e. 120 months so $t \\in \\{0,1,2,\\dots,119\\}$. Initially you don't have any employees, $\\ell_{-1}=0$"
   ]
  },
  {
   "attachments": {},
   "cell_type": "markdown",
   "metadata": {},
   "source": [
    "\n",
    "The *ex post* value of the salon is *conditional* on the shock series is:\n",
    "\n",
    "$$\n",
    "h(\\epsilon_0,\\epsilon_1,\\dots,\\epsilon_{119}) = \\left[\\sum_{t=0}^{119}R^{-t}\\left[\\kappa_{t}\\ell_{t}^{1-\\eta}-w\\ell_{t}-\\boldsymbol{1}_{\\ell_{t}\\neq\\ell_{t-1}}\\iota\\right]\\right]\n",
    "$$\n",
    "\n",
    "The *ex ante* expected value of the salon can be approximated by\n",
    "\n",
    "$$\n",
    "H = \\mathbb{E}[h(\\epsilon_0,\\epsilon_1,\\dots,\\epsilon_{119})] \\approx \\frac{1}{K}\\sum_{k=0}^{K} h(\\epsilon_0^k,\\epsilon_1^k,\\dots,\\epsilon_{119}^k)\n",
    "$$\n",
    "\n",
    "where each $k\\in\\{0,1,\\dots,K-1\\}$ is a random shock series. Maximizing profitability means maximizing $H$.\n"
   ]
  },
  {
   "attachments": {},
   "cell_type": "markdown",
   "metadata": {},
   "source": [
    "Baseline parameters are: \n",
    "\n",
    "- $\\rho = 0.90$\n",
    "- $\\iota = 0.01$\n",
    "- $\\sigma_{\\epsilon} = 0.10$\n",
    "- $R = \\left(1+0.01\\right)^{1/12}$"
   ]
  },
  {
   "attachments": {},
   "cell_type": "markdown",
   "metadata": {},
   "source": [
    "**Question 2:** Calculate $H$ if the policy  $\\ell_{t}=\\left(\\frac{(1-\\eta)\\kappa_{t}}{w}\\right)^{\\frac{1}{\\eta}}$ from question 1 is followed. Choose $K$ so the approximation is good enough to not affect your results substantially."
   ]
  },
  {
   "attachments": {},
   "cell_type": "markdown",
   "metadata": {},
   "source": [
    "The second part of your problem involves a dynamic version of the same model. The demand-shock, $\\kappa_t$, now follows an autoregressive model of order 1 (AR(1)) in logs, and there are fixed costs, $\\iota$, associated with hiring or firing employees. Future profits are discounted with a monthly factor of $R$.\n",
    "\n",
    "The AR(1) model in logs is a stochastic process where the log of the demand-shock at time $t$ is a function of the log of the demand-shock at time $t-1$ and a random shock, $\\epsilon_t$.\n",
    "\n",
    "Your task is to calculate the expected value of the hair salon over a planning horizon of 120 months (10 years), given this new model and the labor policy from the first question. The expected value, $H$, is the average of $h$ over $K$ random shock series.\n",
    "\n",
    "Here's a step-by-step plan to tackle this:\n",
    "\n",
    "Define the given parameters, including the new ones.\n",
    "Generate the shock series, $\\epsilon_t$, following a normal distribution with mean $-0.5\\sigma_{\\epsilon}^2$ and standard deviation $\\sigma_{\\epsilon}$, for $K$ different series and 120 time steps.\n",
    "Calculate the demand-shock series, $\\kappa_t$, using the AR(1) model for each series.\n",
    "Calculate the labor series, $\\ell_t$, using the labor policy from the first question for each series.\n",
    "Calculate $h$ for each series using the formula given in the question.\n",
    "Calculate the expected value of the salon, $H$, as the average of $h$ over all series.\n",
    "Print the result.\n"
   ]
  },
  {
   "cell_type": "code",
<<<<<<< HEAD
   "execution_count": 13,
=======
<<<<<<< HEAD
   "execution_count": 200,
=======
   "execution_count": null,
>>>>>>> d72960835358595a01b3c7834bf626102e251c6e
>>>>>>> 96460585080e36b99665b331efde598d6f6ac0c4
   "metadata": {},
   "outputs": [
    {
     "name": "stdout",
     "output_type": "stream",
     "text": [
<<<<<<< HEAD
      "The expected value of the salon is 27.652750687105698\n"
=======
      "The expected value of the salon is 27.63689594914255\n"
>>>>>>> 96460585080e36b99665b331efde598d6f6ac0c4
     ]
    }
   ],
   "source": [
    "import numpy as np\n",
    "\n",
    "# Define the new parameters\n",
    "eta = 0.5\n",
    "w = 1.0\n",
    "rho = 0.90\n",
    "iota = 0.01\n",
    "sigma_epsilon = 0.10\n",
    "R = (1 + 0.01)**(1/12)\n",
    "K = 1000  # Possibly add an algorithm to speed it up look at problem set 5 and lectures Algorithms basics, Searching and recursion, Sorting\n",
    "\n",
    "# Define the labor function that is supposed to maximize the profits\n",
    "def optimal_labor(kappa):\n",
    "    return ((1 - eta) * kappa / w)**(1 / eta)\n",
    "\n",
    "# Generate the shock series\n",
    "epsilon = np.random.normal(-0.5*sigma_epsilon**2, sigma_epsilon, (K, 120))\n",
    "\n",
    "# Initialize the demand-shock series and the labor series\n",
    "kappa = np.zeros((K, 120))\n",
    "labor = np.zeros((K, 120))\n",
    "\n",
    "# Calculate the demand-shock and labor series\n",
    "kappa_minus_1 = 1  # initial demand shock\n",
    "kappa[:, 0] = np.exp(rho * np.log(kappa_minus_1) + epsilon[:, 0])  # kappa for t = 0\n",
    "labor[:, 0] = optimal_labor(kappa[:, 0])  # labor for t = 0\n",
    "for t in range(1, 120):\n",
    "    kappa[:, t] = np.exp(rho * np.log(kappa[:, t-1]) + epsilon[:, t])\n",
    "    labor[:, t] = optimal_labor(kappa[:, t])\n",
    "\n",
    "# Calculate h for each series\n",
    "h = np.zeros(K)\n",
    "for t in range(120):\n",
    "    h += R**(-t) * (kappa[:, t] * labor[:, t]**(1 - eta) - w * labor[:, t] - iota * (labor[:, t] != labor[:, t-1]))\n",
    "\n",
    "# Calculate the expected value of the salon\n",
    "H = np.mean(h)\n",
    "\n",
    "# Print the result\n",
    "print(f\"The expected value of the salon is {H}\")"
   ]
  },
  {
   "cell_type": "code",
<<<<<<< HEAD
   "execution_count": 14,
=======
<<<<<<< HEAD
   "execution_count": 201,
=======
   "execution_count": null,
>>>>>>> d72960835358595a01b3c7834bf626102e251c6e
>>>>>>> 96460585080e36b99665b331efde598d6f6ac0c4
   "metadata": {},
   "outputs": [
    {
     "name": "stdout",
     "output_type": "stream",
     "text": [
<<<<<<< HEAD
      "The expected value of the salon is 27.263006122869292 for K = 1001\n"
=======
      "The expected value of the salon is 27.595944741758977 for K = 1001\n"
>>>>>>> 96460585080e36b99665b331efde598d6f6ac0c4
     ]
    }
   ],
   "source": [
    "import numpy as np\n",
    "\n",
    "# Define the new parameters\n",
    "rho = 0.90\n",
    "iota = 0.01\n",
    "sigma_epsilon = 0.10\n",
    "R = (1 + 0.01)**(1/12)\n",
    "\n",
    "# Define the labor function that is supposed to maximize the profits\n",
    "def optimal_labor(kappa):\n",
    "    return ((1 - eta) * kappa / w)**(1 / eta)\n",
    "\n",
    "# Set a tolerance for the change in H\n",
    "tolerance = 1e-6\n",
    "\n",
    "# Set a maximum K value to prevent an infinite loop\n",
    "max_K = 1000\n",
    "\n",
    "# Initialize K\n",
    "K = 1\n",
    "\n",
    "# Initialize previous H\n",
    "prev_H = 0\n",
    "\n",
    "# Loop until K reaches max_K\n",
    "while K <= max_K:\n",
    "    # Generate the shock series\n",
    "    epsilon = np.random.normal(-0.5*sigma_epsilon**2, sigma_epsilon, (K, 120))\n",
    "\n",
    "    # Initialize the demand-shock series and the labor series\n",
    "    kappa = np.zeros((K, 120))\n",
    "    labor = np.zeros((K, 120))\n",
    "\n",
    "    # Calculate the demand-shock and labor series\n",
    "    kappa[:, 0] = np.exp(rho * np.log(1) + epsilon[:, 0])  # kappa for t = 0\n",
    "    labor[:, 0] = optimal_labor(kappa[:, 0])  # labor for t = 0\n",
    "    for t in range(1, 120):\n",
    "        kappa[:, t] = np.exp(rho * np.log(kappa[:, t-1]) + epsilon[:, t])\n",
    "        labor[:, t] = optimal_labor(kappa[:, t])\n",
    "\n",
    "    # Calculate h for each series\n",
    "    h = np.zeros(K)\n",
    "    for t in range(120):\n",
    "        h += R**(-t) * (kappa[:, t] * labor[:, t]**(1 - eta) - w * labor[:, t] - iota * (labor[:, t] != labor[:, t-1]))\n",
    "\n",
    "    # Calculate the expected value of the salon\n",
    "    H = np.mean(h)\n",
    "    \n",
    "    # If the change in H is less than the tolerance, stop the loop\n",
    "    if np.abs(H - prev_H) < tolerance:\n",
    "        break\n",
    "    # If not, set the current H as the previous H and increase K\n",
    "    prev_H = H\n",
    "    K += 1\n",
    "\n",
    "# Print the result\n",
    "print(f\"The expected value of the salon is {H} for K = {K}\")\n"
   ]
  },
  {
   "attachments": {},
   "cell_type": "markdown",
   "metadata": {},
   "source": [
    "The expected value of the salon, 27.740888508502795. H is the average of h across all series where h is the sum of discounted profits for each series (each month in a 10 year period). So, H=27.740888508502795 represents an average profit over the 10-year period."
   ]
  },
  {
   "attachments": {},
   "cell_type": "markdown",
   "metadata": {},
   "source": [
    "Next, we consider policies on the form:\n",
    "\n",
    "$$\n",
    "\n",
    "\\ell_{t}=\\begin{cases}\n",
    "\\ell_t^{\\ast}  & \\text{if }\\left|\\ell_{t-1}-\\ell_t^{\\ast} \\right|>\\Delta\\\\\n",
    "\\ell_{t-1} & \\text{else }\n",
    "\\end{cases}\n",
    "\\\\\n",
    "\\text{where}\\,\\,\\ell_t^{\\ast} = \\left(\\frac{(1-\\eta)\\kappa_{t}}{w}\\right)^{\\frac{1}{\\eta}} \\\\\n",
    "\n",
    "$$\n",
    "With $\\Delta \\geq 0$ and $\\Delta = 0$ being the previous policy.\n"
   ]
  },
  {
   "attachments": {},
   "cell_type": "markdown",
   "metadata": {},
   "source": [
    "\n",
    "**Question 3:** Calculate $H$ if the policy above was followed with $\\Delta = 0.05$. Does it improve profitability?"
   ]
  },
  {
   "cell_type": "code",
<<<<<<< HEAD
   "execution_count": 15,
=======
<<<<<<< HEAD
   "execution_count": 202,
=======
   "execution_count": null,
>>>>>>> d72960835358595a01b3c7834bf626102e251c6e
>>>>>>> 96460585080e36b99665b331efde598d6f6ac0c4
   "metadata": {},
   "outputs": [
    {
     "name": "stdout",
     "output_type": "stream",
     "text": [
      "H with the new labor policy: 27.11644053737805\n"
     ]
    }
   ],
   "source": [
    "T = 120  # Number of months\n",
    "Delta = 0.05  # The threshold for labor adjustment\n",
    "\n",
    "# Define the new labor policy\n",
    "def labor_policy(l_last, kappa):\n",
    "    l_star = ((1 - eta) * kappa / w)**(1 / eta)\n",
    "    if abs(l_last - l_star) > Delta:\n",
    "        return l_star\n",
    "    else:\n",
    "        return l_last\n",
    "\n",
    "# Generate shock series and calculate H using the new labor policy\n",
    "np.random.seed(0)\n",
    "H_new_policy = 0.0\n",
    "for _ in range(K):\n",
    "    kappa = 1.0\n",
    "    l_last = 0.0\n",
    "    total_profit = 0.0\n",
    "    for _ in range(T):\n",
    "        epsilon = np.random.normal(loc=-0.5*sigma_epsilon**2, scale=sigma_epsilon)\n",
    "        kappa = np.exp(rho*np.log(kappa) + epsilon)\n",
    "        l = labor_policy(l_last, kappa)\n",
    "        total_profit += R**(-t) * (kappa*l**(1-eta) - w*l - int(l != l_last)*iota)\n",
    "        l_last = l\n",
    "    H_new_policy += total_profit\n",
    "\n",
    "H_new_policy /= K\n",
    "\n",
    "print(f\"H with the new labor policy: {H_new_policy}\")\n"
   ]
  },
  {
   "attachments": {},
   "cell_type": "markdown",
   "metadata": {},
   "source": [
    "Comparing the answer of **Question 3** to the answer to **Question 2**, we can see that the new labor policy does not improve profitability. "
   ]
  },
  {
   "attachments": {},
   "cell_type": "markdown",
   "metadata": {},
   "source": [
    "**Question 4:** Find the optimal $\\Delta$ maximizing $H$. Illustrate your result."
   ]
  },
  {
   "cell_type": "code",
<<<<<<< HEAD
   "execution_count": 17,
=======
<<<<<<< HEAD
   "execution_count": 203,
=======
   "execution_count": null,
>>>>>>> d72960835358595a01b3c7834bf626102e251c6e
>>>>>>> 96460585080e36b99665b331efde598d6f6ac0c4
   "metadata": {},
   "outputs": [],
   "source": [
    "# # Initialize a list to store the values of H for different Delta values\n",
    "# H_values = []\n",
    "# Delta_values = np.linspace(0.0, 1.0, 1000)  # Consider a range of Delta values between 0 and 1\n",
    "\n",
    "# # Calculate H for each Delta value\n",
    "# for Delta in Delta_values:\n",
    "#     H_new_policy = 0.0\n",
    "#     for _ in range(K):\n",
    "#         kappa = 1.0\n",
    "#         l_last = 0.0\n",
    "#         total_profit = 0.0\n",
    "#         for _ in range(T):\n",
    "#             epsilon = np.random.normal(loc=-0.5*sigma_epsilon**2, scale=sigma_epsilon)\n",
    "#             kappa = np.exp(rho*np.log(kappa) + epsilon)\n",
    "#             l = labor_policy(l_last, kappa)\n",
    "#             total_profit += R**(-t) * (kappa*l**(1-eta) - w*l - int(l != l_last)*iota)\n",
    "#             l_last = l\n",
    "#         H_new_policy += total_profit\n",
    "\n",
    "#     H_new_policy /= K\n",
    "#     H_values.append(H_new_policy)\n",
    "\n",
    "# # Find the Delta value that maximizes H\n",
    "# optimal_Delta = Delta_values[np.argmax(H_values)]\n",
    "\n",
    "# print(f\"The optimal Delta is {optimal_Delta}\")\n"
   ]
  },
  {
   "cell_type": "code",
   "execution_count": null,
   "metadata": {},
   "outputs": [
    {
     "data": {
      "image/png": "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",
      "text/plain": [
       "<Figure size 640x480 with 1 Axes>"
      ]
     },
     "metadata": {},
     "output_type": "display_data"
    }
   ],
   "source": [
    "plt.plot(Delta_values, H_values)\n",
    "plt.xlabel(\"Delta\")\n",
    "plt.ylabel(\"H\")\n",
    "plt.title(\"H as a function of Delta\")\n",
    "plt.grid(True)\n",
    "plt.show()\n"
   ]
  },
  {
   "attachments": {},
   "cell_type": "markdown",
   "metadata": {},
   "source": [
    "\n",
    "**Question 5:** Suggest an alternative policy you believe might improve profitability. Implement and test your policy.\n",
    "\n"
   ]
  },
  {
   "attachments": {},
   "cell_type": "markdown",
   "metadata": {},
   "source": [
    "The choice of policy would largely depend on the specifics of the business, and there may be different strategies that could potentially improve profitability. Here, however, we are looking for a policy that would optimize the use of labor in response to the demand shock.\n",
    "\n",
    "A potential alternative policy could be to implement a hybrid policy where you combine both the policy in question 3 and another policy where you hire or fire hairdressers based on a threshold of expected future demand.\n",
    "\n",
    "This policy could look something like this:\n",
    "\n",
    "If the absolute difference between current and optimal labor (calculated from the policy in question 1) exceeds $\\Delta$, hire or fire workers as required.\n",
    "\n",
    "However, if the expected future demand (based on the AR(1) demand-shock model) exceeds a certain threshold, hire additional workers in anticipation of this increased demand, even if the optimal labor calculated from the policy in question 1 doesn't suggest this.\n",
    "\n",
    "This way, you are not only reacting to the current demand but also preparing for future demand. This could potentially reduce costs associated with hiring and training new workers.\n",
    "\n",
    "The implementation of this policy in Python would involve modifying the labor_policy function and running the simulation again.\n",
    "\n",
    "Here's a skeleton of how you might modify the labor_policy function. You will need to decide on how to compute the expected future demand and what threshold to use for hiring additional workers.\n",
    "\n"
   ]
  },
  {
   "cell_type": "markdown",
   "metadata": {},
   "source": [
    "def labor_policy(l_last, kappa, future_demand):\n",
    "    l_star = ((1 - eta) * kappa / w)**(1 / eta)\n",
    "    if abs(l_last - l_star) > Delta:\n",
    "        return l_star\n",
    "    elif future_demand > SOME_THRESHOLD:\n",
    "        return l_last + SOME_AMOUNT\n",
    "    else:\n",
    "        return l_last"
   ]
  },
  {
   "attachments": {},
   "cell_type": "markdown",
   "metadata": {},
   "source": [
    "Then you would need to update the calculation of H_new_policy to include this future_demand in the labor_policy function.\n",
    "\n",
    "Please note that this is just one of the many possible policies you might consider. Your specific choice would depend on your understanding of the problem, the business, and the implications of different policies. It would be a good idea to discuss potential policies with colleagues or classmates to get different perspectives."
   ]
  },
  {
   "attachments": {},
   "cell_type": "markdown",
   "metadata": {},
   "source": [
    "Choosing these parameters would typically be an empirical process based on historical data and business-specific information. But since we don't have that, we can make some reasonable assumptions.\n",
    "\n",
    "For SOME_THRESHOLD, we could use the average of kappa (demand shock) over a certain past period or we could use a fixed percentile of the observed kappa values, such as the 75th percentile. For instance, if the expected future demand is higher than 75% of what we have seen in the past, we might decide to hire more hairdressers.\n",
    "\n",
    "As for SOME_AMOUNT, this would determine how many additional hairdressers you would hire when the expected future demand exceeds the threshold. A simple approach might be to hire an additional fixed number of hairdressers (e.g., one additional hairdresser). Alternatively, the amount could be a function of the difference between the expected future demand and the threshold. For example, you could hire an additional hairdresser for every unit that the expected future demand exceeds the threshold.\n",
    "\n",
    "Remember, these are just assumptions. The real world is likely to be more complex and unpredictable. It would be a good idea to test your policy under different conditions and assumptions to ensure that it performs well in a variety of scenarios."
   ]
  },
  {
   "cell_type": "code",
   "execution_count": null,
   "metadata": {},
   "outputs": [],
   "source": [
    "# write your code here"
   ]
  },
  {
   "attachments": {},
   "cell_type": "markdown",
   "metadata": {},
   "source": []
  },
  {
   "attachments": {},
   "cell_type": "markdown",
   "metadata": {},
   "source": [
    "## 3. <a id='toc3_'></a>[Problem 3: Global optimizer with refined multi-start](#toc0_)"
   ]
  },
  {
   "attachments": {},
   "cell_type": "markdown",
   "metadata": {},
   "source": [
    "We consider the Griewank function:\n",
    "\n",
    "$$ f(\\boldsymbol{x}) = \\sum^n_{i=1} \\frac{x^2_i}{4000}-\\prod^n_{i=1}\\cos\\left(\\frac{x_i}{\\sqrt{i}}\\right)+1$$\n",
    "\n",
    "The **global minimum** of this function is $f(0,0) = 0$ (remember: $\\cos(0)=1$).<br>\n",
    "But the function also have a lot of **local minima**."
   ]
  },
  {
   "cell_type": "code",
   "execution_count": null,
   "metadata": {},
   "outputs": [],
   "source": [
    "def griewank(x):\n",
    "    return griewank_(x[0],x[1])\n",
    "    \n",
    "def griewank_(x1,x2):\n",
    "    A = x1**2/4000 + x2**2/4000\n",
    "    B = np.cos(x1/np.sqrt(1))*np.cos(x2/np.sqrt(2))\n",
    "    return A-B+1"
   ]
  },
  {
   "attachments": {},
   "cell_type": "markdown",
   "metadata": {},
   "source": [
    "A **refined global optimizer with multi-start** is:\n",
    "\n",
    "1. Choose *bounds* for $\\mathbf{x}$ and *tolerance* $\\tau > 0$.\n",
    "2. Choose number of *warm-up iterations*, $\\underline{K} > 0$ and *maximum number of iterations*, $K > \\underline{K}$.\n",
    "3. In each iteration for $k \\in \\{0,1,\\dots,K-1\\}$:\n",
    "\n",
    "    A. Draw random $\\mathbf{x}^k$ uniformly within chosen bounds.\n",
    "\n",
    "    B. If $k < \\underline{K}$ go to step E.\n",
    "\n",
    "    C. Calculate $\\chi^k = 0.50\\cdot\\frac{2}{1+\\exp((k-\\underline{K})/100)}$  \n",
    "\n",
    "    D. Set $\\mathbf{x}^{k0} = \\chi^k \\mathbf{x}^k + (1-\\chi^k)\\mathbf{x}^{\\ast} $\n",
    "\n",
    "    E. Run optimizer with $\\mathbf{x}^{k0}$ as initial guess and $\\mathbf{x}^{k\\ast}$ as result.\n",
    "\n",
    "    F. Set $\\mathbf{x}^{\\ast} = \\mathbf{x}^{k\\ast}$ if $k = 0$ or $f(\\mathbf{x}^{k\\ast}) < f(\\mathbf{x}^{\\ast})$\n",
    "\n",
    "    G. If $f(\\mathbf{x}^{\\ast}) < \\tau$ go to step 4.\n",
    "\n",
    "4. Return the result $\\mathbf{x}^{\\ast}$."
   ]
  },
  {
   "attachments": {},
   "cell_type": "markdown",
   "metadata": {},
   "source": [
    "As settings we choose:\n",
    "\n",
    "* $x_1,x_2 \\in  [-600,600]$\n",
    "* $\\tau = 10^{-8}$\n",
    "* $\\underline{K}=10$\n",
    "* $K=1000$\n",
    "\n",
    "The optimizer in Step 3.E is `BFGS` with a tolerance of $\\tau$."
   ]
  },
  {
   "attachments": {},
   "cell_type": "markdown",
   "metadata": {},
   "source": [
    "**Question 1:** Implement the refined global optimizer with multi-start. Illustrate how the effective initial guesses $\\mathbf{x}^{k0}$ vary with the iteration counter $k$."
   ]
  },
  {
   "cell_type": "code",
   "execution_count": null,
   "metadata": {},
   "outputs": [],
   "source": [
    "# write your code here"
   ]
  },
  {
   "attachments": {},
   "cell_type": "markdown",
   "metadata": {},
   "source": [
    "**Question 2:** Is it a better idea to set $\\underline{K} = 100$? Is the convergence faster?"
   ]
  },
  {
   "cell_type": "code",
   "execution_count": null,
   "metadata": {},
   "outputs": [],
   "source": [
    "# write your code here"
   ]
  }
 ],
 "metadata": {
  "kernelspec": {
   "display_name": "Python 3",
   "language": "python",
   "name": "python3"
  },
  "language_info": {
   "codemirror_mode": {
    "name": "ipython",
    "version": 3
   },
   "file_extension": ".py",
   "mimetype": "text/x-python",
   "name": "python",
   "nbconvert_exporter": "python",
   "pygments_lexer": "ipython3",
   "version": "3.8.9"
  },
  "orig_nbformat": 4,
  "vscode": {
   "interpreter": {
    "hash": "31f2aee4e71d21fbe5cf8b01ff0e069b9275f58929596ceb00d14d90e3e16cd6"
   }
  }
 },
 "nbformat": 4,
 "nbformat_minor": 2
}
