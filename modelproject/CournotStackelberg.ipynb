{
 "cells": [
  {
   "cell_type": "code",
   "execution_count": 1,
   "metadata": {},
   "outputs": [],
   "source": [
    "from types import SimpleNamespace\n",
    "\n",
    "import numpy as np\n",
    "import scipy as sc\n",
    "from scipy import optimize\n",
    "import sympy as sm\n",
    "import pandas as pd\n",
    "from tabulate import tabulate\n",
    "import matplotlib.pyplot as plt\n",
    "from sympy import *\n",
    "from sympy import symbols\n",
    "from sympy import Eq \n",
    "from sympy import solve  \n",
    "\n",
    "\n",
    "# autoreload modules when code is run\n",
    "%load_ext autoreload\n",
    "%autoreload 2\n",
    "\n",
    "# local modules\n",
    "import CournotStackelberg\n",
    "from CournotStackelberg import CournotDuopoly\n",
    "from CournotStackelberg import StackelbergDuopoly"
   ]
  },
  {
   "attachments": {},
   "cell_type": "markdown",
   "metadata": {},
   "source": [
    "# Model Description #"
   ]
  },
  {
   "attachments": {},
   "cell_type": "markdown",
   "metadata": {},
   "source": [
    "In this model project we are going to compare the Cournot Duopoly and Stackelberg Duopoly. Both models are game theoretical models but the effect on the market between the two models is different. In the Cournot model, we have two firms (in our case they are titled \"firm 1\" and \"firm 2\") where they produce a homogeneous goods. They choose simultaniously the quantity to produce (q1 for firm 1 and q2 for firm 2), where the Total Quantity is Q= q1+q2 and the Inverse Demand function is P(Q) = a - Q. Both firms have the same marginal cost (mc) with      0 $ \\leq $ c < a. \n",
    "\n",
    "The SetUp of the Cournot model: \n",
    "\n",
    "Profit functions for firm 1 and 2: \n",
    "\n",
    "$$ \\pi (q1,q2) = (a - (q1 + q2) - mc) * q1  $$ \n",
    "$$ \\pi (q1,q2) = (a - (q1 + q2) - mc) * q2  $$ \n",
    "\n",
    "Nash Equilibrium in the Cournot Model is found within the Best Response functions, where firm 1 is choosing its best response to firm 2 and vice versa. We find the Best Response functions by taking the first order conditions of both profit functions for firm 1 and 2, equal to zero. \n",
    "\n",
    "The Best response functions: \n",
    "\n",
    "$$ FOC1 = \\frac{\\pi(q1,q2)}{q1} = a - 2q1 - q2 -mc = 0 $$ \n",
    "$$ FOC2 = \\frac{\\pi(q1,q2)}{q2} = a - q1 - 2q2 -mc = 0 $$ \n",
    "\n",
    "The Best response functions are explained as: for every quantity of the other firm, the quantity that will maximize own pay off. Then we solve for q1 for firm 1 and q2 for firm 2: \n",
    "\n",
    "$$ q1(q2) = \\frac{a-mc-q2}{2}$$ \n",
    "$$ q2(q1) = \\frac{a-mc-q1}{2}$$ \n",
    "\n",
    "In cournot game, we can assume due to symmetry that $q1^* = q2^*$. We therefor write the Best Response as: \n",
    "\n",
    "$$ q2^* = q1^* = \\frac{a-mc}{3}$$ \n",
    "\n",
    "We then can implement the nash equilibrium quantities $ q1^* = q2^* = qNE$ into the profit functions and find the profit. \n",
    "In our solution for the Cournot model, we set the value for mc=10 and the value for a=40 and solve the model numerically. \n",
    "\n",
    "\n",
    "For the Stackelberg model, we have also two firms that are titled firm 1 and firm 2, but now they do not choose their quantity simultaniously. Instead we have the firm 1 as the \"Leader\" and firm 2 as the \"follower\". First, firm 1 chooses their quantity, q1, and then firm 2 observes the quantity chosen by the leader and sets q2. The Total Quantity and the Inverse Demand function or the same as in the Cournot model, and the marginal cost is constant and identical (same for both firms). We use the same values for our marginal cost, mc and a as in the Cournot Model. \n",
    "\n",
    "The first steps to set up the Stackelberg model are identical to the Cournot model as we define our profit functions and take the first order conditions:\n",
    "\n",
    "The profit functions: \n",
    "\n",
    "$$ \\pi (q1,q2) = (a - (q1 + q2) - mc) * q1  $$ \n",
    "$$ \\pi (q1,q2) = (a - (q1 + q2) - mc) * q2  $$ \n",
    "\n",
    "The first order conditions(for the Best Response functions): \n",
    "\n",
    "$$ FOC1 = \\frac{\\pi(q1,q2)}{q1} = a - 2q1 - q2 -mc = 0 $$ \n",
    "$$ FOC2 = \\frac{\\pi(q1,q2)}{q2} = a - q1 - 2q2 -mc = 0 $$ \n",
    "\n",
    "However, we solve Stackelberg model with an backward induction. We therefor start by looking at the First Order Condition for firm 2 (Best Response function of firm 2) and substitute it into the profit function for firm 1: \n",
    "\n",
    "$$ \\pi(q1,BR2(q1) = q1* (a - (q1 + \\frac{a - q1 - mc}{2}) - mc) $$ \n",
    "\n",
    "and take the first order condition in relation to q1, and then solve for q1: \n",
    "$$ q1^* = \\frac{a - mc}{2}$$\n",
    "\n",
    "the next step is then to substitute $ q1^* $ in to the Best Response function for firm 2: \n",
    "\n",
    "$$ q2^* = BR2(q1^*) = \\frac{a - mc}{4}$$\n",
    "\n",
    "According to theory, the \"leader\" earns more then in the cournot game (given set parameters) while the follower earns less. We are going to put this theory up to a test in our model project. First, we start by solving the Cournot model - first symbolically and then numerically. Then, we do the same for the Stackelberg model and finally, compare our solutions. \n"
   ]
  },
  {
   "attachments": {},
   "cell_type": "markdown",
   "metadata": {},
   "source": [
    "## Symbolical Solution Cournot Model ##"
   ]
  },
  {
   "cell_type": "code",
   "execution_count": 2,
   "metadata": {},
   "outputs": [],
   "source": [
    "q1, q2 = symbols('q1 q2')\n",
    "a, mc = symbols('a mc')\n",
    "Q = q1 + q2 \n",
    "P = a - Q\n"
   ]
  },
  {
   "attachments": {},
   "cell_type": "markdown",
   "metadata": {},
   "source": [
    "We start be setting our symbols and then solve for the profit functions for both firm 1 and firm 2"
   ]
  },
  {
   "cell_type": "code",
   "execution_count": 3,
   "metadata": {},
   "outputs": [
    {
     "name": "stdout",
     "output_type": "stream",
     "text": [
      "The profit function for firm 1 is = q1*(a - mc - q1 - q2) \n",
      " and the profit function for firm 2 is = q2*(a - mc - q1 - q2)\n"
     ]
    }
   ],
   "source": [
    "profit1 = (a - Q - mc)*q1\n",
    "profit2 = (a - Q - mc)*q2\n",
    "\n",
    "print(f'The profit function for firm 1 is = {profit1} \\n and the profit function for firm 2 is = {profit2}')\n"
   ]
  },
  {
   "attachments": {},
   "cell_type": "markdown",
   "metadata": {},
   "source": [
    "Then we take the First Order Conditions for both profit functions"
   ]
  },
  {
   "cell_type": "code",
   "execution_count": 4,
   "metadata": {},
   "outputs": [
    {
     "name": "stdout",
     "output_type": "stream",
     "text": [
      " The First order Condition for Firm 1 on is = a - mc - 2*q1 - q2 \n",
      " and the First Order Contition for Firm 2 is = a - mc - q1 - 2*q2 \n"
     ]
    }
   ],
   "source": [
    "FOC1 = diff(profit1, q1)\n",
    "FOC2 = diff(profit2, q2)\n",
    "print(f' The First order Condition for Firm 1 on is = {FOC1} \\n and the First Order Contition for Firm 2 is = {FOC2} ')"
   ]
  },
  {
   "attachments": {},
   "cell_type": "markdown",
   "metadata": {},
   "source": [
    "By solving for q1 for firm 1 and q2 for firm 2 we find the Best Response Functions, respectfully: "
   ]
  },
  {
   "cell_type": "code",
   "execution_count": 5,
   "metadata": {},
   "outputs": [
    {
     "name": "stdout",
     "output_type": "stream",
     "text": [
      "The Best Response Function for Firm 1 is: BR1 = {q1: (a - mc - q2)/2} \n",
      " and the Best Response Function for Firm 2 is: BR2 = {q2: (a - mc - q1)/2}\n"
     ]
    }
   ],
   "source": [
    "BR1 = solve([FOC1], [q1])\n",
    "BR2 = solve([FOC2], [q2])\n",
    "\n",
    "print(f'The Best Response Function for Firm 1 is: BR1 = {together(BR1)} \\n and the Best Response Function for Firm 2 is: BR2 = {together(BR2)}')\n",
    "#Together function applied so the solution looks smoother"
   ]
  },
  {
   "attachments": {},
   "cell_type": "markdown",
   "metadata": {},
   "source": [
    "Then we set the q1=q2 and find the q for the Nash Equilibrium by substitution: "
   ]
  },
  {
   "cell_type": "code",
   "execution_count": 6,
   "metadata": {},
   "outputs": [
    {
     "name": "stdout",
     "output_type": "stream",
     "text": [
      "Then the Nash Equilibrium is q1 = q2 = qNE = [(a - mc)/3]\n"
     ]
    }
   ],
   "source": [
    "BR1q = (a - mc - q2) / 2\n",
    "\n",
    "BR1_substituted = BR1q.subs(q2, q1)\n",
    "\n",
    "eq = Eq(q1, BR1_substituted)\n",
    "\n",
    "solution = solve(eq, q1)\n",
    "\n",
    "print(f'Then the Nash Equilibrium is q1 = q2 = qNE = {together(solution)}')"
   ]
  },
  {
   "attachments": {},
   "cell_type": "markdown",
   "metadata": {},
   "source": [
    "## Numerical Solution ##\n"
   ]
  },
  {
   "attachments": {},
   "cell_type": "markdown",
   "metadata": {},
   "source": [
    "To solve our model numerically we set some values for marginal cost and the total demand when price is zero. \n",
    "In cournot, as stated above, we assume ( to begin with ) that both firms have the same marginal cost. \n",
    "In our case we set our values to: \n",
    "\n",
    "$$ mc1 = mc2 = 10 $$ \n",
    "$$ a = 40 $$\n",
    "\n",
    " By calculating the intersections of the Best Response functions for both firms we find the Cournot Nash Equilibrium and plot the results. \n",
    " All the code can be found in the py file. "
   ]
  },
  {
   "cell_type": "code",
   "execution_count": 7,
   "metadata": {},
   "outputs": [
    {
     "name": "stdout",
     "output_type": "stream",
     "text": [
      "Cournot Nash Equilibrium - Optimal quantity produced for both firms:\n",
      "\n",
      "Quantity for firm1: q1= 10.00000000\n",
      "Quantity for firm2: q2= 10.00000000\n"
     ]
    },
    {
     "data": {
      "image/png": "[encoded data removed]",
      "text/plain": [
       "<Figure size 640x480 with 1 Axes>"
      ]
     },
     "metadata": {},
     "output_type": "display_data"
    }
   ],
   "source": [
    "model = CournotDuopoly(10,10,40)\n",
    "\n",
    "model.plot_cournot_nashequilibrium()\n"
   ]
  },
  {
   "attachments": {},
   "cell_type": "markdown",
   "metadata": {},
   "source": [
    "Now we want to see how the optimal quantity for both firms changes if the marginal cost changes. Both firms still have the same marginal cost, $ mc1 = mc2 $ but now the value is not a constant.  Our value for a (total demand when price equals zero) is the same "
   ]
  },
  {
   "cell_type": "code",
   "execution_count": 8,
   "metadata": {},
   "outputs": [
    {
     "name": "stdout",
     "output_type": "stream",
     "text": [
      "Cournot Nash Equilibrium - Optimal quantity produced for both firms:\n",
      "\n",
      "Quantity for firm1: q1= 11.66666667\n",
      "Quantity for firm2: q2= 11.66666667\n",
      "Cournot Nash Equilibrium - Optimal quantity produced for both firms:\n",
      "\n",
      "Quantity for firm1: q1= 11.61616162\n",
      "Quantity for firm2: q2= 11.61616162\n",
      "Cournot Nash Equilibrium - Optimal quantity produced for both firms:\n",
      "\n",
      "Quantity for firm1: q1= 11.56565657\n",
      "Quantity for firm2: q2= 11.56565657\n",
      "Cournot Nash Equilibrium - Optimal quantity produced for both firms:\n",
      "\n",
      "Quantity for firm1: q1= 11.51515152\n",
      "Quantity for firm2: q2= 11.51515152\n",
      "Cournot Nash Equilibrium - Optimal quantity produced for both firms:\n",
      "\n",
      "Quantity for firm1: q1= 11.46464646\n",
      "Quantity for firm2: q2= 11.46464646\n",
      "Cournot Nash Equilibrium - Optimal quantity produced for both firms:\n",
      "\n",
      "Quantity for firm1: q1= 11.41414141\n",
      "Quantity for firm2: q2= 11.41414141\n",
      "Cournot Nash Equilibrium - Optimal quantity produced for both firms:\n",
      "\n",
      "Quantity for firm1: q1= 11.36363636\n",
      "Quantity for firm2: q2= 11.36363636\n",
      "Cournot Nash Equilibrium - Optimal quantity produced for both firms:\n",
      "\n",
      "Quantity for firm1: q1= 11.31313131\n",
      "Quantity for firm2: q2= 11.31313131\n",
      "Cournot Nash Equilibrium - Optimal quantity produced for both firms:\n",
      "\n",
      "Quantity for firm1: q1= 11.26262626\n",
      "Quantity for firm2: q2= 11.26262626\n",
      "Cournot Nash Equilibrium - Optimal quantity produced for both firms:\n",
      "\n",
      "Quantity for firm1: q1= 11.21212121\n",
      "Quantity for firm2: q2= 11.21212121\n",
      "Cournot Nash Equilibrium - Optimal quantity produced for both firms:\n",
      "\n",
      "Quantity for firm1: q1= 11.16161616\n",
      "Quantity for firm2: q2= 11.16161616\n",
      "Cournot Nash Equilibrium - Optimal quantity produced for both firms:\n",
      "\n",
      "Quantity for firm1: q1= 11.11111111\n",
      "Quantity for firm2: q2= 11.11111111\n",
      "Cournot Nash Equilibrium - Optimal quantity produced for both firms:\n",
      "\n",
      "Quantity for firm1: q1= 11.06060606\n",
      "Quantity for firm2: q2= 11.06060606\n",
      "Cournot Nash Equilibrium - Optimal quantity produced for both firms:\n",
      "\n",
      "Quantity for firm1: q1= 11.01010101\n",
      "Quantity for firm2: q2= 11.01010101\n",
      "Cournot Nash Equilibrium - Optimal quantity produced for both firms:\n",
      "\n",
      "Quantity for firm1: q1= 10.95959596\n",
      "Quantity for firm2: q2= 10.95959596\n",
      "Cournot Nash Equilibrium - Optimal quantity produced for both firms:\n",
      "\n",
      "Quantity for firm1: q1= 10.90909091\n",
      "Quantity for firm2: q2= 10.90909091\n",
      "Cournot Nash Equilibrium - Optimal quantity produced for both firms:\n",
      "\n",
      "Quantity for firm1: q1= 10.85858586\n",
      "Quantity for firm2: q2= 10.85858586\n",
      "Cournot Nash Equilibrium - Optimal quantity produced for both firms:\n",
      "\n",
      "Quantity for firm1: q1= 10.80808081\n",
      "Quantity for firm2: q2= 10.80808081\n",
      "Cournot Nash Equilibrium - Optimal quantity produced for both firms:\n",
      "\n",
      "Quantity for firm1: q1= 10.75757576\n",
      "Quantity for firm2: q2= 10.75757576\n",
      "Cournot Nash Equilibrium - Optimal quantity produced for both firms:\n",
      "\n",
      "Quantity for firm1: q1= 10.70707071\n",
      "Quantity for firm2: q2= 10.70707071\n",
      "Cournot Nash Equilibrium - Optimal quantity produced for both firms:\n",
      "\n",
      "Quantity for firm1: q1= 10.65656566\n",
      "Quantity for firm2: q2= 10.65656566\n",
      "Cournot Nash Equilibrium - Optimal quantity produced for both firms:\n",
      "\n",
      "Quantity for firm1: q1= 10.60606061\n",
      "Quantity for firm2: q2= 10.60606061\n",
      "Cournot Nash Equilibrium - Optimal quantity produced for both firms:\n",
      "\n",
      "Quantity for firm1: q1= 10.55555556\n",
      "Quantity for firm2: q2= 10.55555556\n",
      "Cournot Nash Equilibrium - Optimal quantity produced for both firms:\n",
      "\n",
      "Quantity for firm1: q1= 10.50505051\n",
      "Quantity for firm2: q2= 10.50505051\n",
      "Cournot Nash Equilibrium - Optimal quantity produced for both firms:\n",
      "\n",
      "Quantity for firm1: q1= 10.45454545\n",
      "Quantity for firm2: q2= 10.45454545\n",
      "Cournot Nash Equilibrium - Optimal quantity produced for both firms:\n",
      "\n",
      "Quantity for firm1: q1= 10.40404040\n",
      "Quantity for firm2: q2= 10.40404040\n",
      "Cournot Nash Equilibrium - Optimal quantity produced for both firms:\n",
      "\n",
      "Quantity for firm1: q1= 10.35353535\n",
      "Quantity for firm2: q2= 10.35353535\n",
      "Cournot Nash Equilibrium - Optimal quantity produced for both firms:\n",
      "\n",
      "Quantity for firm1: q1= 10.30303030\n",
      "Quantity for firm2: q2= 10.30303030\n",
      "Cournot Nash Equilibrium - Optimal quantity produced for both firms:\n",
      "\n",
      "Quantity for firm1: q1= 10.25252525\n",
      "Quantity for firm2: q2= 10.25252525\n",
      "Cournot Nash Equilibrium - Optimal quantity produced for both firms:\n",
      "\n",
      "Quantity for firm1: q1= 10.20202020\n",
      "Quantity for firm2: q2= 10.20202020\n",
      "Cournot Nash Equilibrium - Optimal quantity produced for both firms:\n",
      "\n",
      "Quantity for firm1: q1= 10.15151515\n",
      "Quantity for firm2: q2= 10.15151515\n",
      "Cournot Nash Equilibrium - Optimal quantity produced for both firms:\n",
      "\n",
      "Quantity for firm1: q1= 10.10101010\n",
      "Quantity for firm2: q2= 10.10101010\n",
      "Cournot Nash Equilibrium - Optimal quantity produced for both firms:\n",
      "\n",
      "Quantity for firm1: q1= 10.05050505\n",
      "Quantity for firm2: q2= 10.05050505\n",
      "Cournot Nash Equilibrium - Optimal quantity produced for both firms:\n",
      "\n",
      "Quantity for firm1: q1= 10.00000000\n",
      "Quantity for firm2: q2= 10.00000000\n",
      "Cournot Nash Equilibrium - Optimal quantity produced for both firms:\n",
      "\n",
      "Quantity for firm1: q1= 9.94949495\n",
      "Quantity for firm2: q2= 9.94949495\n",
      "Cournot Nash Equilibrium - Optimal quantity produced for both firms:\n",
      "\n",
      "Quantity for firm1: q1= 9.89898990\n",
      "Quantity for firm2: q2= 9.89898990\n",
      "Cournot Nash Equilibrium - Optimal quantity produced for both firms:\n",
      "\n",
      "Quantity for firm1: q1= 9.84848485\n",
      "Quantity for firm2: q2= 9.84848485\n",
      "Cournot Nash Equilibrium - Optimal quantity produced for both firms:\n",
      "\n",
      "Quantity for firm1: q1= 9.79797980\n",
      "Quantity for firm2: q2= 9.79797980\n",
      "Cournot Nash Equilibrium - Optimal quantity produced for both firms:\n",
      "\n",
      "Quantity for firm1: q1= 9.74747475\n",
      "Quantity for firm2: q2= 9.74747475\n",
      "Cournot Nash Equilibrium - Optimal quantity produced for both firms:\n",
      "\n",
      "Quantity for firm1: q1= 9.69696970\n",
      "Quantity for firm2: q2= 9.69696970\n",
      "Cournot Nash Equilibrium - Optimal quantity produced for both firms:\n",
      "\n",
      "Quantity for firm1: q1= 9.64646465\n",
      "Quantity for firm2: q2= 9.64646465\n",
      "Cournot Nash Equilibrium - Optimal quantity produced for both firms:\n",
      "\n",
      "Quantity for firm1: q1= 9.59595960\n",
      "Quantity for firm2: q2= 9.59595960\n",
      "Cournot Nash Equilibrium - Optimal quantity produced for both firms:\n",
      "\n",
      "Quantity for firm1: q1= 9.54545455\n",
      "Quantity for firm2: q2= 9.54545455\n",
      "Cournot Nash Equilibrium - Optimal quantity produced for both firms:\n",
      "\n",
      "Quantity for firm1: q1= 9.49494949\n",
      "Quantity for firm2: q2= 9.49494949\n",
      "Cournot Nash Equilibrium - Optimal quantity produced for both firms:\n",
      "\n",
      "Quantity for firm1: q1= 9.44444444\n",
      "Quantity for firm2: q2= 9.44444444\n",
      "Cournot Nash Equilibrium - Optimal quantity produced for both firms:\n",
      "\n",
      "Quantity for firm1: q1= 9.39393939\n",
      "Quantity for firm2: q2= 9.39393939\n",
      "Cournot Nash Equilibrium - Optimal quantity produced for both firms:\n",
      "\n",
      "Quantity for firm1: q1= 9.34343434\n",
      "Quantity for firm2: q2= 9.34343434\n",
      "Cournot Nash Equilibrium - Optimal quantity produced for both firms:\n",
      "\n",
      "Quantity for firm1: q1= 9.29292929\n",
      "Quantity for firm2: q2= 9.29292929\n",
      "Cournot Nash Equilibrium - Optimal quantity produced for both firms:\n",
      "\n",
      "Quantity for firm1: q1= 9.24242424\n",
      "Quantity for firm2: q2= 9.24242424\n",
      "Cournot Nash Equilibrium - Optimal quantity produced for both firms:\n",
      "\n",
      "Quantity for firm1: q1= 9.19191919\n",
      "Quantity for firm2: q2= 9.19191919\n",
      "Cournot Nash Equilibrium - Optimal quantity produced for both firms:\n",
      "\n",
      "Quantity for firm1: q1= 9.14141414\n",
      "Quantity for firm2: q2= 9.14141414\n",
      "Cournot Nash Equilibrium - Optimal quantity produced for both firms:\n",
      "\n",
      "Quantity for firm1: q1= 9.09090909\n",
      "Quantity for firm2: q2= 9.09090909\n",
      "Cournot Nash Equilibrium - Optimal quantity produced for both firms:\n",
      "\n",
      "Quantity for firm1: q1= 9.04040404\n",
      "Quantity for firm2: q2= 9.04040404\n",
      "Cournot Nash Equilibrium - Optimal quantity produced for both firms:\n",
      "\n",
      "Quantity for firm1: q1= 8.98989899\n",
      "Quantity for firm2: q2= 8.98989899\n",
      "Cournot Nash Equilibrium - Optimal quantity produced for both firms:\n",
      "\n",
      "Quantity for firm1: q1= 8.93939394\n",
      "Quantity for firm2: q2= 8.93939394\n",
      "Cournot Nash Equilibrium - Optimal quantity produced for both firms:\n",
      "\n",
      "Quantity for firm1: q1= 8.88888889\n",
      "Quantity for firm2: q2= 8.88888889\n",
      "Cournot Nash Equilibrium - Optimal quantity produced for both firms:\n",
      "\n",
      "Quantity for firm1: q1= 8.83838384\n",
      "Quantity for firm2: q2= 8.83838384\n",
      "Cournot Nash Equilibrium - Optimal quantity produced for both firms:\n",
      "\n",
      "Quantity for firm1: q1= 8.78787879\n",
      "Quantity for firm2: q2= 8.78787879\n",
      "Cournot Nash Equilibrium - Optimal quantity produced for both firms:\n",
      "\n",
      "Quantity for firm1: q1= 8.73737374\n",
      "Quantity for firm2: q2= 8.73737374\n",
      "Cournot Nash Equilibrium - Optimal quantity produced for both firms:\n",
      "\n",
      "Quantity for firm1: q1= 8.68686869\n",
      "Quantity for firm2: q2= 8.68686869\n",
      "Cournot Nash Equilibrium - Optimal quantity produced for both firms:\n",
      "\n",
      "Quantity for firm1: q1= 8.63636364\n",
      "Quantity for firm2: q2= 8.63636364\n",
      "Cournot Nash Equilibrium - Optimal quantity produced for both firms:\n",
      "\n",
      "Quantity for firm1: q1= 8.58585859\n",
      "Quantity for firm2: q2= 8.58585859\n",
      "Cournot Nash Equilibrium - Optimal quantity produced for both firms:\n",
      "\n",
      "Quantity for firm1: q1= 8.53535354\n",
      "Quantity for firm2: q2= 8.53535354\n",
      "Cournot Nash Equilibrium - Optimal quantity produced for both firms:\n",
      "\n",
      "Quantity for firm1: q1= 8.48484848\n",
      "Quantity for firm2: q2= 8.48484848\n",
      "Cournot Nash Equilibrium - Optimal quantity produced for both firms:\n",
      "\n",
      "Quantity for firm1: q1= 8.43434343\n",
      "Quantity for firm2: q2= 8.43434343\n",
      "Cournot Nash Equilibrium - Optimal quantity produced for both firms:\n",
      "\n",
      "Quantity for firm1: q1= 8.38383838\n",
      "Quantity for firm2: q2= 8.38383838\n",
      "Cournot Nash Equilibrium - Optimal quantity produced for both firms:\n",
      "\n",
      "Quantity for firm1: q1= 8.33333333\n",
      "Quantity for firm2: q2= 8.33333333\n",
      "Cournot Nash Equilibrium - Optimal quantity produced for both firms:\n",
      "\n",
      "Quantity for firm1: q1= 8.28282828\n",
      "Quantity for firm2: q2= 8.28282828\n",
      "Cournot Nash Equilibrium - Optimal quantity produced for both firms:\n",
      "\n",
      "Quantity for firm1: q1= 8.23232323\n",
      "Quantity for firm2: q2= 8.23232323\n",
      "Cournot Nash Equilibrium - Optimal quantity produced for both firms:\n",
      "\n",
      "Quantity for firm1: q1= 8.18181818\n",
      "Quantity for firm2: q2= 8.18181818\n",
      "Cournot Nash Equilibrium - Optimal quantity produced for both firms:\n",
      "\n",
      "Quantity for firm1: q1= 8.13131313\n",
      "Quantity for firm2: q2= 8.13131313\n",
      "Cournot Nash Equilibrium - Optimal quantity produced for both firms:\n",
      "\n",
      "Quantity for firm1: q1= 8.08080808\n",
      "Quantity for firm2: q2= 8.08080808\n",
      "Cournot Nash Equilibrium - Optimal quantity produced for both firms:\n",
      "\n",
      "Quantity for firm1: q1= 8.03030303\n",
      "Quantity for firm2: q2= 8.03030303\n",
      "Cournot Nash Equilibrium - Optimal quantity produced for both firms:\n",
      "\n",
      "Quantity for firm1: q1= 7.97979798\n",
      "Quantity for firm2: q2= 7.97979798\n",
      "Cournot Nash Equilibrium - Optimal quantity produced for both firms:\n",
      "\n",
      "Quantity for firm1: q1= 7.92929293\n",
      "Quantity for firm2: q2= 7.92929293\n",
      "Cournot Nash Equilibrium - Optimal quantity produced for both firms:\n",
      "\n",
      "Quantity for firm1: q1= 7.87878788\n",
      "Quantity for firm2: q2= 7.87878788\n",
      "Cournot Nash Equilibrium - Optimal quantity produced for both firms:\n",
      "\n",
      "Quantity for firm1: q1= 7.82828283\n",
      "Quantity for firm2: q2= 7.82828283\n",
      "Cournot Nash Equilibrium - Optimal quantity produced for both firms:\n",
      "\n",
      "Quantity for firm1: q1= 7.77777778\n",
      "Quantity for firm2: q2= 7.77777778\n",
      "Cournot Nash Equilibrium - Optimal quantity produced for both firms:\n",
      "\n",
      "Quantity for firm1: q1= 7.72727273\n",
      "Quantity for firm2: q2= 7.72727273\n",
      "Cournot Nash Equilibrium - Optimal quantity produced for both firms:\n",
      "\n",
      "Quantity for firm1: q1= 7.67676768\n",
      "Quantity for firm2: q2= 7.67676768\n",
      "Cournot Nash Equilibrium - Optimal quantity produced for both firms:\n",
      "\n",
      "Quantity for firm1: q1= 7.62626263\n",
      "Quantity for firm2: q2= 7.62626263\n",
      "Cournot Nash Equilibrium - Optimal quantity produced for both firms:\n",
      "\n",
      "Quantity for firm1: q1= 7.57575758\n",
      "Quantity for firm2: q2= 7.57575758\n",
      "Cournot Nash Equilibrium - Optimal quantity produced for both firms:\n",
      "\n",
      "Quantity for firm1: q1= 7.52525253\n",
      "Quantity for firm2: q2= 7.52525253\n",
      "Cournot Nash Equilibrium - Optimal quantity produced for both firms:\n",
      "\n",
      "Quantity for firm1: q1= 7.47474747\n",
      "Quantity for firm2: q2= 7.47474747\n",
      "Cournot Nash Equilibrium - Optimal quantity produced for both firms:\n",
      "\n",
      "Quantity for firm1: q1= 7.42424242\n",
      "Quantity for firm2: q2= 7.42424242\n",
      "Cournot Nash Equilibrium - Optimal quantity produced for both firms:\n",
      "\n",
      "Quantity for firm1: q1= 7.37373737\n",
      "Quantity for firm2: q2= 7.37373737\n",
      "Cournot Nash Equilibrium - Optimal quantity produced for both firms:\n",
      "\n",
      "Quantity for firm1: q1= 7.32323232\n",
      "Quantity for firm2: q2= 7.32323232\n",
      "Cournot Nash Equilibrium - Optimal quantity produced for both firms:\n",
      "\n",
      "Quantity for firm1: q1= 7.27272727\n",
      "Quantity for firm2: q2= 7.27272727\n",
      "Cournot Nash Equilibrium - Optimal quantity produced for both firms:\n",
      "\n",
      "Quantity for firm1: q1= 7.22222222\n",
      "Quantity for firm2: q2= 7.22222222\n",
      "Cournot Nash Equilibrium - Optimal quantity produced for both firms:\n",
      "\n",
      "Quantity for firm1: q1= 7.17171717\n",
      "Quantity for firm2: q2= 7.17171717\n",
      "Cournot Nash Equilibrium - Optimal quantity produced for both firms:\n",
      "\n",
      "Quantity for firm1: q1= 7.12121212\n",
      "Quantity for firm2: q2= 7.12121212\n",
      "Cournot Nash Equilibrium - Optimal quantity produced for both firms:\n",
      "\n",
      "Quantity for firm1: q1= 7.07070707\n",
      "Quantity for firm2: q2= 7.07070707\n",
      "Cournot Nash Equilibrium - Optimal quantity produced for both firms:\n",
      "\n",
      "Quantity for firm1: q1= 7.02020202\n",
      "Quantity for firm2: q2= 7.02020202\n",
      "Cournot Nash Equilibrium - Optimal quantity produced for both firms:\n",
      "\n",
      "Quantity for firm1: q1= 6.96969697\n",
      "Quantity for firm2: q2= 6.96969697\n",
      "Cournot Nash Equilibrium - Optimal quantity produced for both firms:\n",
      "\n",
      "Quantity for firm1: q1= 6.91919192\n",
      "Quantity for firm2: q2= 6.91919192\n",
      "Cournot Nash Equilibrium - Optimal quantity produced for both firms:\n",
      "\n",
      "Quantity for firm1: q1= 6.86868687\n",
      "Quantity for firm2: q2= 6.86868687\n",
      "Cournot Nash Equilibrium - Optimal quantity produced for both firms:\n",
      "\n",
      "Quantity for firm1: q1= 6.81818182\n",
      "Quantity for firm2: q2= 6.81818182\n",
      "Cournot Nash Equilibrium - Optimal quantity produced for both firms:\n",
      "\n",
      "Quantity for firm1: q1= 6.76767677\n",
      "Quantity for firm2: q2= 6.76767677\n",
      "Cournot Nash Equilibrium - Optimal quantity produced for both firms:\n",
      "\n",
      "Quantity for firm1: q1= 6.71717172\n",
      "Quantity for firm2: q2= 6.71717172\n",
      "Cournot Nash Equilibrium - Optimal quantity produced for both firms:\n",
      "\n",
      "Quantity for firm1: q1= 6.66666667\n",
      "Quantity for firm2: q2= 6.66666667\n"
     ]
    },
    {
     "data": {
      "image/png": "[encoded data removed]",
      "text/plain": [
       "<Figure size 640x480 with 1 Axes>"
      ]
     },
     "metadata": {},
     "output_type": "display_data"
    }
   ],
   "source": [
    "model.plot_mc_changes_both_firms()"
   ]
  },
  {
   "attachments": {},
   "cell_type": "markdown",
   "metadata": {},
   "source": [
    "We note that both firms have the same response to change in marginal cost as the firms or symmetrical, hence why there is only one line shown for both firms. It was to expect that when the margincal cost increases, the optimal quanitity decreases in response. "
   ]
  },
  {
   "attachments": {},
   "cell_type": "markdown",
   "metadata": {},
   "source": [
    "Now we want to see if the firms do not have the same marginal cost and how the optimal quantity changes for each firm. We assume that the marginal cost for firm 1 changes but marginal cost for firm 2 stays constant and our value for a stays the same. \n"
   ]
  },
  {
   "cell_type": "code",
   "execution_count": 9,
   "metadata": {},
   "outputs": [
    {
     "name": "stdout",
     "output_type": "stream",
     "text": [
      "Cournot Nash Equilibrium - Optimal quantity produced for both firms:\n",
      "\n",
      "Quantity for firm1: q1= 13.33333333\n",
      "Quantity for firm2: q2= 8.33333333\n",
      "Cournot Nash Equilibrium - Optimal quantity produced for both firms:\n",
      "\n",
      "Quantity for firm1: q1= 13.23232323\n",
      "Quantity for firm2: q2= 8.38383838\n",
      "Cournot Nash Equilibrium - Optimal quantity produced for both firms:\n",
      "\n",
      "Quantity for firm1: q1= 13.13131313\n",
      "Quantity for firm2: q2= 8.43434343\n",
      "Cournot Nash Equilibrium - Optimal quantity produced for both firms:\n",
      "\n",
      "Quantity for firm1: q1= 13.03030303\n",
      "Quantity for firm2: q2= 8.48484848\n",
      "Cournot Nash Equilibrium - Optimal quantity produced for both firms:\n",
      "\n",
      "Quantity for firm1: q1= 12.92929293\n",
      "Quantity for firm2: q2= 8.53535354\n",
      "Cournot Nash Equilibrium - Optimal quantity produced for both firms:\n",
      "\n",
      "Quantity for firm1: q1= 12.82828283\n",
      "Quantity for firm2: q2= 8.58585859\n",
      "Cournot Nash Equilibrium - Optimal quantity produced for both firms:\n",
      "\n",
      "Quantity for firm1: q1= 12.72727273\n",
      "Quantity for firm2: q2= 8.63636364\n",
      "Cournot Nash Equilibrium - Optimal quantity produced for both firms:\n",
      "\n",
      "Quantity for firm1: q1= 12.62626263\n",
      "Quantity for firm2: q2= 8.68686869\n",
      "Cournot Nash Equilibrium - Optimal quantity produced for both firms:\n",
      "\n",
      "Quantity for firm1: q1= 12.52525253\n",
      "Quantity for firm2: q2= 8.73737374\n",
      "Cournot Nash Equilibrium - Optimal quantity produced for both firms:\n",
      "\n",
      "Quantity for firm1: q1= 12.42424242\n",
      "Quantity for firm2: q2= 8.78787879\n",
      "Cournot Nash Equilibrium - Optimal quantity produced for both firms:\n",
      "\n",
      "Quantity for firm1: q1= 12.32323232\n",
      "Quantity for firm2: q2= 8.83838384\n",
      "Cournot Nash Equilibrium - Optimal quantity produced for both firms:\n",
      "\n",
      "Quantity for firm1: q1= 12.22222222\n",
      "Quantity for firm2: q2= 8.88888889\n",
      "Cournot Nash Equilibrium - Optimal quantity produced for both firms:\n",
      "\n",
      "Quantity for firm1: q1= 12.12121212\n",
      "Quantity for firm2: q2= 8.93939394\n",
      "Cournot Nash Equilibrium - Optimal quantity produced for both firms:\n",
      "\n",
      "Quantity for firm1: q1= 12.02020202\n",
      "Quantity for firm2: q2= 8.98989899\n",
      "Cournot Nash Equilibrium - Optimal quantity produced for both firms:\n",
      "\n",
      "Quantity for firm1: q1= 11.91919192\n",
      "Quantity for firm2: q2= 9.04040404\n",
      "Cournot Nash Equilibrium - Optimal quantity produced for both firms:\n",
      "\n",
      "Quantity for firm1: q1= 11.81818182\n",
      "Quantity for firm2: q2= 9.09090909\n",
      "Cournot Nash Equilibrium - Optimal quantity produced for both firms:\n",
      "\n",
      "Quantity for firm1: q1= 11.71717172\n",
      "Quantity for firm2: q2= 9.14141414\n",
      "Cournot Nash Equilibrium - Optimal quantity produced for both firms:\n",
      "\n",
      "Quantity for firm1: q1= 11.61616162\n",
      "Quantity for firm2: q2= 9.19191919\n",
      "Cournot Nash Equilibrium - Optimal quantity produced for both firms:\n",
      "\n",
      "Quantity for firm1: q1= 11.51515152\n",
      "Quantity for firm2: q2= 9.24242424\n",
      "Cournot Nash Equilibrium - Optimal quantity produced for both firms:\n",
      "\n",
      "Quantity for firm1: q1= 11.41414141\n",
      "Quantity for firm2: q2= 9.29292929\n",
      "Cournot Nash Equilibrium - Optimal quantity produced for both firms:\n",
      "\n",
      "Quantity for firm1: q1= 11.31313131\n",
      "Quantity for firm2: q2= 9.34343434\n",
      "Cournot Nash Equilibrium - Optimal quantity produced for both firms:\n",
      "\n",
      "Quantity for firm1: q1= 11.21212121\n",
      "Quantity for firm2: q2= 9.39393939\n",
      "Cournot Nash Equilibrium - Optimal quantity produced for both firms:\n",
      "\n",
      "Quantity for firm1: q1= 11.11111111\n",
      "Quantity for firm2: q2= 9.44444444\n",
      "Cournot Nash Equilibrium - Optimal quantity produced for both firms:\n",
      "\n",
      "Quantity for firm1: q1= 11.01010101\n",
      "Quantity for firm2: q2= 9.49494949\n",
      "Cournot Nash Equilibrium - Optimal quantity produced for both firms:\n",
      "\n",
      "Quantity for firm1: q1= 10.90909091\n",
      "Quantity for firm2: q2= 9.54545455\n",
      "Cournot Nash Equilibrium - Optimal quantity produced for both firms:\n",
      "\n",
      "Quantity for firm1: q1= 10.80808081\n",
      "Quantity for firm2: q2= 9.59595960\n",
      "Cournot Nash Equilibrium - Optimal quantity produced for both firms:\n",
      "\n",
      "Quantity for firm1: q1= 10.70707071\n",
      "Quantity for firm2: q2= 9.64646465\n",
      "Cournot Nash Equilibrium - Optimal quantity produced for both firms:\n",
      "\n",
      "Quantity for firm1: q1= 10.60606061\n",
      "Quantity for firm2: q2= 9.69696970\n",
      "Cournot Nash Equilibrium - Optimal quantity produced for both firms:\n",
      "\n",
      "Quantity for firm1: q1= 10.50505051\n",
      "Quantity for firm2: q2= 9.74747475\n",
      "Cournot Nash Equilibrium - Optimal quantity produced for both firms:\n",
      "\n",
      "Quantity for firm1: q1= 10.40404040\n",
      "Quantity for firm2: q2= 9.79797980\n",
      "Cournot Nash Equilibrium - Optimal quantity produced for both firms:\n",
      "\n",
      "Quantity for firm1: q1= 10.30303030\n",
      "Quantity for firm2: q2= 9.84848485\n",
      "Cournot Nash Equilibrium - Optimal quantity produced for both firms:\n",
      "\n",
      "Quantity for firm1: q1= 10.20202020\n",
      "Quantity for firm2: q2= 9.89898990\n",
      "Cournot Nash Equilibrium - Optimal quantity produced for both firms:\n",
      "\n",
      "Quantity for firm1: q1= 10.10101010\n",
      "Quantity for firm2: q2= 9.94949495\n",
      "Cournot Nash Equilibrium - Optimal quantity produced for both firms:\n",
      "\n",
      "Quantity for firm1: q1= 10.00000000\n",
      "Quantity for firm2: q2= 10.00000000\n",
      "Cournot Nash Equilibrium - Optimal quantity produced for both firms:\n",
      "\n",
      "Quantity for firm1: q1= 9.89898990\n",
      "Quantity for firm2: q2= 10.05050505\n",
      "Cournot Nash Equilibrium - Optimal quantity produced for both firms:\n",
      "\n",
      "Quantity for firm1: q1= 9.79797980\n",
      "Quantity for firm2: q2= 10.10101010\n",
      "Cournot Nash Equilibrium - Optimal quantity produced for both firms:\n",
      "\n",
      "Quantity for firm1: q1= 9.69696970\n",
      "Quantity for firm2: q2= 10.15151515\n",
      "Cournot Nash Equilibrium - Optimal quantity produced for both firms:\n",
      "\n",
      "Quantity for firm1: q1= 9.59595960\n",
      "Quantity for firm2: q2= 10.20202020\n",
      "Cournot Nash Equilibrium - Optimal quantity produced for both firms:\n",
      "\n",
      "Quantity for firm1: q1= 9.49494949\n",
      "Quantity for firm2: q2= 10.25252525\n",
      "Cournot Nash Equilibrium - Optimal quantity produced for both firms:\n",
      "\n",
      "Quantity for firm1: q1= 9.39393939\n",
      "Quantity for firm2: q2= 10.30303030\n",
      "Cournot Nash Equilibrium - Optimal quantity produced for both firms:\n",
      "\n",
      "Quantity for firm1: q1= 9.29292929\n",
      "Quantity for firm2: q2= 10.35353535\n",
      "Cournot Nash Equilibrium - Optimal quantity produced for both firms:\n",
      "\n",
      "Quantity for firm1: q1= 9.19191919\n",
      "Quantity for firm2: q2= 10.40404040\n",
      "Cournot Nash Equilibrium - Optimal quantity produced for both firms:\n",
      "\n",
      "Quantity for firm1: q1= 9.09090909\n",
      "Quantity for firm2: q2= 10.45454545\n",
      "Cournot Nash Equilibrium - Optimal quantity produced for both firms:\n",
      "\n",
      "Quantity for firm1: q1= 8.98989899\n",
      "Quantity for firm2: q2= 10.50505051\n",
      "Cournot Nash Equilibrium - Optimal quantity produced for both firms:\n",
      "\n",
      "Quantity for firm1: q1= 8.88888889\n",
      "Quantity for firm2: q2= 10.55555556\n",
      "Cournot Nash Equilibrium - Optimal quantity produced for both firms:\n",
      "\n",
      "Quantity for firm1: q1= 8.78787879\n",
      "Quantity for firm2: q2= 10.60606061\n",
      "Cournot Nash Equilibrium - Optimal quantity produced for both firms:\n",
      "\n",
      "Quantity for firm1: q1= 8.68686869\n",
      "Quantity for firm2: q2= 10.65656566\n",
      "Cournot Nash Equilibrium - Optimal quantity produced for both firms:\n",
      "\n",
      "Quantity for firm1: q1= 8.58585859\n",
      "Quantity for firm2: q2= 10.70707071\n",
      "Cournot Nash Equilibrium - Optimal quantity produced for both firms:\n",
      "\n",
      "Quantity for firm1: q1= 8.48484848\n",
      "Quantity for firm2: q2= 10.75757576\n",
      "Cournot Nash Equilibrium - Optimal quantity produced for both firms:\n",
      "\n",
      "Quantity for firm1: q1= 8.38383838\n",
      "Quantity for firm2: q2= 10.80808081\n",
      "Cournot Nash Equilibrium - Optimal quantity produced for both firms:\n",
      "\n",
      "Quantity for firm1: q1= 8.28282828\n",
      "Quantity for firm2: q2= 10.85858586\n",
      "Cournot Nash Equilibrium - Optimal quantity produced for both firms:\n",
      "\n",
      "Quantity for firm1: q1= 8.18181818\n",
      "Quantity for firm2: q2= 10.90909091\n",
      "Cournot Nash Equilibrium - Optimal quantity produced for both firms:\n",
      "\n",
      "Quantity for firm1: q1= 8.08080808\n",
      "Quantity for firm2: q2= 10.95959596\n",
      "Cournot Nash Equilibrium - Optimal quantity produced for both firms:\n",
      "\n",
      "Quantity for firm1: q1= 7.97979798\n",
      "Quantity for firm2: q2= 11.01010101\n",
      "Cournot Nash Equilibrium - Optimal quantity produced for both firms:\n",
      "\n",
      "Quantity for firm1: q1= 7.87878788\n",
      "Quantity for firm2: q2= 11.06060606\n",
      "Cournot Nash Equilibrium - Optimal quantity produced for both firms:\n",
      "\n",
      "Quantity for firm1: q1= 7.77777778\n",
      "Quantity for firm2: q2= 11.11111111\n",
      "Cournot Nash Equilibrium - Optimal quantity produced for both firms:\n",
      "\n",
      "Quantity for firm1: q1= 7.67676768\n",
      "Quantity for firm2: q2= 11.16161616\n",
      "Cournot Nash Equilibrium - Optimal quantity produced for both firms:\n",
      "\n",
      "Quantity for firm1: q1= 7.57575758\n",
      "Quantity for firm2: q2= 11.21212121\n",
      "Cournot Nash Equilibrium - Optimal quantity produced for both firms:\n",
      "\n",
      "Quantity for firm1: q1= 7.47474747\n",
      "Quantity for firm2: q2= 11.26262626\n",
      "Cournot Nash Equilibrium - Optimal quantity produced for both firms:\n",
      "\n",
      "Quantity for firm1: q1= 7.37373737\n",
      "Quantity for firm2: q2= 11.31313131\n",
      "Cournot Nash Equilibrium - Optimal quantity produced for both firms:\n",
      "\n",
      "Quantity for firm1: q1= 7.27272727\n",
      "Quantity for firm2: q2= 11.36363636\n",
      "Cournot Nash Equilibrium - Optimal quantity produced for both firms:\n",
      "\n",
      "Quantity for firm1: q1= 7.17171717\n",
      "Quantity for firm2: q2= 11.41414141\n",
      "Cournot Nash Equilibrium - Optimal quantity produced for both firms:\n",
      "\n",
      "Quantity for firm1: q1= 7.07070707\n",
      "Quantity for firm2: q2= 11.46464646\n",
      "Cournot Nash Equilibrium - Optimal quantity produced for both firms:\n",
      "\n",
      "Quantity for firm1: q1= 6.96969697\n",
      "Quantity for firm2: q2= 11.51515152\n",
      "Cournot Nash Equilibrium - Optimal quantity produced for both firms:\n",
      "\n",
      "Quantity for firm1: q1= 6.86868687\n",
      "Quantity for firm2: q2= 11.56565657\n",
      "Cournot Nash Equilibrium - Optimal quantity produced for both firms:\n",
      "\n",
      "Quantity for firm1: q1= 6.76767677\n",
      "Quantity for firm2: q2= 11.61616162\n",
      "Cournot Nash Equilibrium - Optimal quantity produced for both firms:\n",
      "\n",
      "Quantity for firm1: q1= 6.66666667\n",
      "Quantity for firm2: q2= 11.66666667\n",
      "Cournot Nash Equilibrium - Optimal quantity produced for both firms:\n",
      "\n",
      "Quantity for firm1: q1= 6.56565657\n",
      "Quantity for firm2: q2= 11.71717172\n",
      "Cournot Nash Equilibrium - Optimal quantity produced for both firms:\n",
      "\n",
      "Quantity for firm1: q1= 6.46464646\n",
      "Quantity for firm2: q2= 11.76767677\n",
      "Cournot Nash Equilibrium - Optimal quantity produced for both firms:\n",
      "\n",
      "Quantity for firm1: q1= 6.36363636\n",
      "Quantity for firm2: q2= 11.81818182\n",
      "Cournot Nash Equilibrium - Optimal quantity produced for both firms:\n",
      "\n",
      "Quantity for firm1: q1= 6.26262626\n",
      "Quantity for firm2: q2= 11.86868687\n",
      "Cournot Nash Equilibrium - Optimal quantity produced for both firms:\n",
      "\n",
      "Quantity for firm1: q1= 6.16161616\n",
      "Quantity for firm2: q2= 11.91919192\n",
      "Cournot Nash Equilibrium - Optimal quantity produced for both firms:\n",
      "\n",
      "Quantity for firm1: q1= 6.06060606\n",
      "Quantity for firm2: q2= 11.96969697\n",
      "Cournot Nash Equilibrium - Optimal quantity produced for both firms:\n",
      "\n",
      "Quantity for firm1: q1= 5.95959596\n",
      "Quantity for firm2: q2= 12.02020202\n",
      "Cournot Nash Equilibrium - Optimal quantity produced for both firms:\n",
      "\n",
      "Quantity for firm1: q1= 5.85858586\n",
      "Quantity for firm2: q2= 12.07070707\n",
      "Cournot Nash Equilibrium - Optimal quantity produced for both firms:\n",
      "\n",
      "Quantity for firm1: q1= 5.75757576\n",
      "Quantity for firm2: q2= 12.12121212\n",
      "Cournot Nash Equilibrium - Optimal quantity produced for both firms:\n",
      "\n",
      "Quantity for firm1: q1= 5.65656566\n",
      "Quantity for firm2: q2= 12.17171717\n",
      "Cournot Nash Equilibrium - Optimal quantity produced for both firms:\n",
      "\n",
      "Quantity for firm1: q1= 5.55555556\n",
      "Quantity for firm2: q2= 12.22222222\n",
      "Cournot Nash Equilibrium - Optimal quantity produced for both firms:\n",
      "\n",
      "Quantity for firm1: q1= 5.45454545\n",
      "Quantity for firm2: q2= 12.27272727\n",
      "Cournot Nash Equilibrium - Optimal quantity produced for both firms:\n",
      "\n",
      "Quantity for firm1: q1= 5.35353535\n",
      "Quantity for firm2: q2= 12.32323232\n",
      "Cournot Nash Equilibrium - Optimal quantity produced for both firms:\n",
      "\n",
      "Quantity for firm1: q1= 5.25252525\n",
      "Quantity for firm2: q2= 12.37373737\n",
      "Cournot Nash Equilibrium - Optimal quantity produced for both firms:\n",
      "\n",
      "Quantity for firm1: q1= 5.15151515\n",
      "Quantity for firm2: q2= 12.42424242\n",
      "Cournot Nash Equilibrium - Optimal quantity produced for both firms:\n",
      "\n",
      "Quantity for firm1: q1= 5.05050505\n",
      "Quantity for firm2: q2= 12.47474747\n",
      "Cournot Nash Equilibrium - Optimal quantity produced for both firms:\n",
      "\n",
      "Quantity for firm1: q1= 4.94949495\n",
      "Quantity for firm2: q2= 12.52525253\n",
      "Cournot Nash Equilibrium - Optimal quantity produced for both firms:\n",
      "\n",
      "Quantity for firm1: q1= 4.84848485\n",
      "Quantity for firm2: q2= 12.57575758\n",
      "Cournot Nash Equilibrium - Optimal quantity produced for both firms:\n",
      "\n",
      "Quantity for firm1: q1= 4.74747475\n",
      "Quantity for firm2: q2= 12.62626263\n",
      "Cournot Nash Equilibrium - Optimal quantity produced for both firms:\n",
      "\n",
      "Quantity for firm1: q1= 4.64646465\n",
      "Quantity for firm2: q2= 12.67676768\n",
      "Cournot Nash Equilibrium - Optimal quantity produced for both firms:\n",
      "\n",
      "Quantity for firm1: q1= 4.54545455\n",
      "Quantity for firm2: q2= 12.72727273\n",
      "Cournot Nash Equilibrium - Optimal quantity produced for both firms:\n",
      "\n",
      "Quantity for firm1: q1= 4.44444444\n",
      "Quantity for firm2: q2= 12.77777778\n",
      "Cournot Nash Equilibrium - Optimal quantity produced for both firms:\n",
      "\n",
      "Quantity for firm1: q1= 4.34343434\n",
      "Quantity for firm2: q2= 12.82828283\n",
      "Cournot Nash Equilibrium - Optimal quantity produced for both firms:\n",
      "\n",
      "Quantity for firm1: q1= 4.24242424\n",
      "Quantity for firm2: q2= 12.87878788\n",
      "Cournot Nash Equilibrium - Optimal quantity produced for both firms:\n",
      "\n",
      "Quantity for firm1: q1= 4.14141414\n",
      "Quantity for firm2: q2= 12.92929293\n",
      "Cournot Nash Equilibrium - Optimal quantity produced for both firms:\n",
      "\n",
      "Quantity for firm1: q1= 4.04040404\n",
      "Quantity for firm2: q2= 12.97979798\n",
      "Cournot Nash Equilibrium - Optimal quantity produced for both firms:\n",
      "\n",
      "Quantity for firm1: q1= 3.93939394\n",
      "Quantity for firm2: q2= 13.03030303\n",
      "Cournot Nash Equilibrium - Optimal quantity produced for both firms:\n",
      "\n",
      "Quantity for firm1: q1= 3.83838384\n",
      "Quantity for firm2: q2= 13.08080808\n",
      "Cournot Nash Equilibrium - Optimal quantity produced for both firms:\n",
      "\n",
      "Quantity for firm1: q1= 3.73737374\n",
      "Quantity for firm2: q2= 13.13131313\n",
      "Cournot Nash Equilibrium - Optimal quantity produced for both firms:\n",
      "\n",
      "Quantity for firm1: q1= 3.63636364\n",
      "Quantity for firm2: q2= 13.18181818\n",
      "Cournot Nash Equilibrium - Optimal quantity produced for both firms:\n",
      "\n",
      "Quantity for firm1: q1= 3.53535354\n",
      "Quantity for firm2: q2= 13.23232323\n",
      "Cournot Nash Equilibrium - Optimal quantity produced for both firms:\n",
      "\n",
      "Quantity for firm1: q1= 3.43434343\n",
      "Quantity for firm2: q2= 13.28282828\n",
      "Cournot Nash Equilibrium - Optimal quantity produced for both firms:\n",
      "\n",
      "Quantity for firm1: q1= 3.33333333\n",
      "Quantity for firm2: q2= 13.33333333\n"
     ]
    },
    {
     "data": {
      "image/png": "[encoded data removed]",
      "text/plain": [
       "<Figure size 640x480 with 1 Axes>"
      ]
     },
     "metadata": {},
     "output_type": "display_data"
    }
   ],
   "source": [
    "model.plot_cournot_mc_changes_firm1()"
   ]
  },
  {
   "attachments": {},
   "cell_type": "markdown",
   "metadata": {},
   "source": [
    "As before, when the marginal cost increases, the optimal quantity decreases. Here it only happens for firm 1 while the marginal cost for firm 2 stays constant. When the Marginal Cost for the firm 1 increases, the optimal quantity for firm 2 increases, as the other firm is producing less. "
   ]
  },
  {
   "attachments": {},
   "cell_type": "markdown",
   "metadata": {},
   "source": [
    "## Move to Stackelberg Duopoly ## "
   ]
  },
  {
   "attachments": {},
   "cell_type": "markdown",
   "metadata": {},
   "source": [
    "### Symbolical Solution for Stackelberg ### "
   ]
  },
  {
   "attachments": {},
   "cell_type": "markdown",
   "metadata": {},
   "source": [
    "In Stackelberg Duopoly we have two firms that now do not choose quantity simultanously like in the Cournot Model. We assume that firm 1 (\"Leader\") chooses first their quantity = q1. Then firm 2 (\"Follower\") observes the quantity the leader chose (q1) and then sets q2. "
   ]
  },
  {
   "cell_type": "code",
   "execution_count": 10,
   "metadata": {},
   "outputs": [
    {
     "name": "stdout",
     "output_type": "stream",
     "text": [
      "q1*(a - mc - q1 - q2)\n",
      "q2*(a - mc - q1 - q2)\n"
     ]
    }
   ],
   "source": [
    "q1, q2 = symbols('q1 q2')\n",
    "a, mc = symbols('a mc')\n",
    "Q = q1 + q2 \n",
    "P = a - Q\n",
    "\n",
    "\n",
    "profitleader_Stackelberg = q1*(a - Q - mc)\n",
    "profitfollower_Stackelberg = q2*(a- Q - mc)\n",
    "print(profitleader_Stackelberg)\n",
    "print(profitfollower_Stackelberg)"
   ]
  },
  {
   "attachments": {},
   "cell_type": "markdown",
   "metadata": {},
   "source": [
    "We solve the Stackelberg Game with a backward induction - so we start at stage two. q1 is already set, so firm 2 solves: \n",
    "\n",
    "$$\\pi(q1,q2) = q2*(a - Q - mc) $$ \n",
    "\n",
    "and find the Best Response function of firm 2 by taking the first order conditions."
   ]
  },
  {
   "cell_type": "code",
   "execution_count": 11,
   "metadata": {},
   "outputs": [
    {
     "name": "stdout",
     "output_type": "stream",
     "text": [
      "a - mc - q1 - 2*q2\n"
     ]
    }
   ],
   "source": [
    "focfollower = sm.diff(profitfollower_Stackelberg,q2)\n",
    "print(focfollower)"
   ]
  },
  {
   "attachments": {},
   "cell_type": "markdown",
   "metadata": {},
   "source": [
    "And then by solving the first order conditions for q2 we get the Best Response function for firm 2: "
   ]
  },
  {
   "cell_type": "code",
   "execution_count": 12,
   "metadata": {},
   "outputs": [
    {
     "name": "stdout",
     "output_type": "stream",
     "text": [
      "[(a - mc - q1)/2]\n"
     ]
    }
   ],
   "source": [
    "BRfollower = sm.solve(sm.Eq(focfollower,0),q2)\n",
    "print(together(BRfollower))"
   ]
  },
  {
   "attachments": {},
   "cell_type": "markdown",
   "metadata": {},
   "source": [
    "Then by using backward induction we can insert this into the profit function for firm 1: "
   ]
  },
  {
   "cell_type": "code",
   "execution_count": 13,
   "metadata": {},
   "outputs": [
    {
     "name": "stdout",
     "output_type": "stream",
     "text": [
      "q1*(a - mc - q1)/2\n"
     ]
    }
   ],
   "source": [
    "profitleader_Stackelberg_subs = profitleader_Stackelberg.subs(q2, BRfollower[0])\n",
    "print(together(profitleader_Stackelberg_subs))"
   ]
  },
  {
   "attachments": {},
   "cell_type": "markdown",
   "metadata": {},
   "source": [
    "Then to find the Best response function of firm 1, we take the first order conditions of the profit function for the leader, with the Best response function of firm 2 substituted for q2: "
   ]
  },
  {
   "cell_type": "code",
   "execution_count": 14,
   "metadata": {},
   "outputs": [
    {
     "name": "stdout",
     "output_type": "stream",
     "text": [
      "(a - mc - 2*q1)/2\n"
     ]
    }
   ],
   "source": [
    "focleader = diff(profitleader_Stackelberg_subs,q1)\n",
    "print(together(focleader))"
   ]
  },
  {
   "cell_type": "code",
   "execution_count": 15,
   "metadata": {},
   "outputs": [
    {
     "name": "stdout",
     "output_type": "stream",
     "text": [
      "[(a - mc)/2]\n"
     ]
    }
   ],
   "source": [
    "BRleader = solve(focleader,q1)\n",
    "print(together(BRleader))"
   ]
  },
  {
   "attachments": {},
   "cell_type": "markdown",
   "metadata": {},
   "source": [
    "And then the Best response function for the follower becomes: "
   ]
  },
  {
   "cell_type": "code",
   "execution_count": 16,
   "metadata": {},
   "outputs": [
    {
     "name": "stdout",
     "output_type": "stream",
     "text": [
      "[(a - mc)/4]\n"
     ]
    }
   ],
   "source": [
    "BRfollower_subs = [elem.subs(q1, BRleader[0]) for elem in BRfollower]\n",
    "print(together(BRfollower_subs))"
   ]
  },
  {
   "attachments": {},
   "cell_type": "markdown",
   "metadata": {},
   "source": [
    "### Numerical analysis for Stackelberg Duopoly ### "
   ]
  },
  {
   "attachments": {},
   "cell_type": "markdown",
   "metadata": {},
   "source": [
    "Now we want to solve the Stackelberg model numerically. We note that the mc and a parameters are still the same as in the cournot model (mc=10 and a=40). "
   ]
  },
  {
   "cell_type": "code",
   "execution_count": 17,
   "metadata": {},
   "outputs": [
    {
     "name": "stdout",
     "output_type": "stream",
     "text": [
      "Optimal quantity for firm 1: 14.99999999254942\n",
      "Optimal quantity for firm 2: 7.500000003725289\n"
     ]
    }
   ],
   "source": [
    "# Create a StackelbergDuopoly object\n",
    "stackelberg_model = StackelbergDuopoly(10, 10, 40)\n",
    "\n",
    "# Call the method to get optimal values\n",
    "optimal_values = stackelberg_model.get_optimal_values_Stackelberg()\n",
    "\n",
    "# Print the optimal values\n",
    "print(f'Optimal quantity for firm 1: {optimal_values[0]}')\n",
    "print(f'Optimal quantity for firm 2: {optimal_values[1]}')\n"
   ]
  },
  {
   "attachments": {},
   "cell_type": "markdown",
   "metadata": {},
   "source": [
    "We find that in the Stackelberg model, firm 1 produces more compared to the Cournot model, while firm 2 produces less. The results are illustrated below "
   ]
  },
  {
   "cell_type": "code",
   "execution_count": 18,
   "metadata": {},
   "outputs": [
    {
     "data": {
      "image/png": "[encoded data removed]",
      "text/plain": [
       "<Figure size 640x480 with 1 Axes>"
      ]
     },
     "metadata": {},
     "output_type": "display_data"
    }
   ],
   "source": [
    "stackelberg_model.plot_Stackelberg()"
   ]
  },
  {
   "attachments": {},
   "cell_type": "markdown",
   "metadata": {},
   "source": [
    "# Comparison Cournot vs Stackelberg #"
   ]
  },
  {
   "attachments": {},
   "cell_type": "markdown",
   "metadata": {},
   "source": [
    "With our parameters set at \n",
    "\n",
    "$$ mc1 = mc2 = 10$$\n",
    "$$ a = 40 $$ \n",
    "\n",
    "We have found the optimal quantity for both firm 1 and firm 2 in cournot, where they decide on produced quantity simultaniously and in Stackelberg where firm 1 is the leader and firm 2 is the follower. Our results are stated below in a table, given these parameters:"
   ]
  },
  {
   "cell_type": "code",
   "execution_count": 19,
   "metadata": {},
   "outputs": [
    {
     "name": "stdout",
     "output_type": "stream",
     "text": [
      "Cournot Nash Equilibrium - Optimal quantity produced for both firms:\n",
      "\n",
      "Quantity for firm1: q1= 10.00000000\n",
      "Quantity for firm2: q2= 10.00000000\n",
      "                  Parameters  Values\n",
      "0                        mc1   10.00\n",
      "1                        mc2   10.00\n",
      "2                          a   40.00\n",
      "3                 q1_Cournot   10.00\n",
      "4                 q2_Cournot   10.00\n",
      "5            profit1_Cournot  100.00\n",
      "6            profit2_Cournot  100.00\n",
      "7       total_profit_Cournot  200.00\n",
      "8             q1_Stackelberg   14.99\n",
      "9             q2_Stackelberg    7.50\n",
      "10       profit1_Stackelberg  112.50\n",
      "11       profit2_Stackelberg   56.25\n",
      "12  total_profit_Stackelberg  168.75\n"
     ]
    }
   ],
   "source": [
    "# First, create instances of your classes\n",
    "cournot_model = CournotDuopoly(mc1=10, mc2=10, a=40)\n",
    "stackelberg_model = StackelbergDuopoly(mc1=10, mc2=10, a=40)\n",
    "\n",
    "# Then calculate the equilibrium quantities\n",
    "q_cournot = cournot_model.equilibrium_values()\n",
    "q_stackelberg = stackelberg_model.get_optimal_values_Stackelberg()\n",
    "\n",
    "# Calculate the profits for Cournot model\n",
    "profit1_cournot = cournot_model.profit1(q_cournot[0], q_cournot[1], 10)\n",
    "profit2_cournot = cournot_model.profit2(q_cournot[0], q_cournot[1], 10)\n",
    "\n",
    "# Calculate the profits for Stackelberg model\n",
    "profit1_stackelberg = stackelberg_model.profit1(q_stackelberg[0], q_stackelberg[1], 10)\n",
    "profit2_stackelberg = stackelberg_model.profit2(q_stackelberg[0], q_stackelberg[1], 10)\n",
    "\n",
    "# Define the parameters, obtained quantities and profits\n",
    "parameters = ['mc1', 'mc2', 'a']\n",
    "quantities_cournot = ['q1_Cournot', 'q2_Cournot']\n",
    "profits_cournot = ['profit1_Cournot', 'profit2_Cournot']\n",
    "quantities_stackelberg = ['q1_Stackelberg', 'q2_Stackelberg']\n",
    "profits_stackelberg = ['profit1_Stackelberg', 'profit2_Stackelberg']\n",
    "# Calculate the total profits for both models\n",
    "total_profit_cournot = profit1_cournot + profit2_cournot\n",
    "total_profit_stackelberg = profit1_stackelberg + profit2_stackelberg\n",
    "\n",
    "# Update the DataFrame to include these totals\n",
    "data = {\n",
    "    'Parameters': parameters + quantities_cournot + profits_cournot + ['total_profit_Cournot'] + quantities_stackelberg + profits_stackelberg + ['total_profit_Stackelberg'],\n",
    "    'Values': [10, 10, 40, 10, 10, profit1_cournot, profit2_cournot, total_profit_cournot, 14.99, 7.5, profit1_stackelberg, profit2_stackelberg, total_profit_stackelberg]\n",
    "}\n",
    "\n",
    "# Create a DataFrame\n",
    "df = pd.DataFrame(data)\n",
    "\n",
    "# Print the DataFrame\n",
    "print(df)\n"
   ]
  },
  {
   "attachments": {},
   "cell_type": "markdown",
   "metadata": {},
   "source": [
    "We see that given our parameters, firm 1 is better off in Stackelberg Duopoly, while firm 2 is worse off. \n",
    "In cournot, both firms have profit = 100 and q1=q2=10, while in the Stackelberg model firm 1 increases his quantity produced while the follower produces less. Also the profit for firm 1 in Stackelberg gets a little bit higher and amounts to 112.50, while the profit for firm 2 nearly only amounts to a little more than half compared to the Cournot model, going from 100 in the cournot to 56.25 in the Stackelberg model. \n",
    "\n",
    "We can also see that the total profit is lower in the Stackelberg model, given our parameters. The firms should stay in Cournot duopoly as the total profit is better off, as the gain for firm 1 amounts to little against the total loss to make the change worth it. We also conclude that the theory where the leader earns more while the follower earns less than in the Cournot Model fits our solution. "
   ]
  }
 ],
 "metadata": {
  "kernelspec": {
   "display_name": "Python 3",
   "language": "python",
   "name": "python3"
  },
  "language_info": {
   "codemirror_mode": {
    "name": "ipython",
    "version": 3
   },
   "file_extension": ".py",
   "mimetype": "text/x-python",
   "name": "python",
   "nbconvert_exporter": "python",
   "pygments_lexer": "ipython3",
   "version": "3.8.9"
  },
  "orig_nbformat": 4,
  "vscode": {
   "interpreter": {
    "hash": "31f2aee4e71d21fbe5cf8b01ff0e069b9275f58929596ceb00d14d90e3e16cd6"
   }
  }
 },
 "nbformat": 4,
 "nbformat_minor": 2
}
