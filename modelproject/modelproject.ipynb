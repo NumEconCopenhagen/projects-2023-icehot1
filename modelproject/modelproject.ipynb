{
 "cells": [
  {
   "attachments": {},
   "cell_type": "markdown",
   "metadata": {},
   "source": [
    "# Cournot-Stackelberg Model # "
   ]
  },
  {
   "attachments": {},
   "cell_type": "markdown",
   "metadata": {},
   "source": [
    "We start by importing packages and set magics that we will be needing for our project:"
   ]
  },
  {
   "cell_type": "code",
   "execution_count": 1,
   "metadata": {},
   "outputs": [],
   "source": [
    "from types import SimpleNamespace\n",
    "\n",
    "import numpy as np\n",
    "import scipy as sc\n",
    "from scipy import optimize\n",
    "import sympy as sm\n",
    "import pandas as pd\n",
    "from tabulate import tabulate\n",
    "import matplotlib.pyplot as plt\n",
    "from sympy import *\n",
    "from sympy import symbols\n",
    "from sympy import Eq \n",
    "from sympy import solve  \n",
    "import ipywidgets as widgets\n",
    "from ipywidgets import interact\n",
    "\n",
    "\n",
    "# autoreload modules when code is run\n",
    "%load_ext autoreload\n",
    "%autoreload 2\n",
    "\n",
    "# local modules\n",
    "import modelproject\n",
    "from modelproject import CournotDuopoly\n",
    "from modelproject import StackelbergDuopoly"
   ]
  },
  {
   "attachments": {},
   "cell_type": "markdown",
   "metadata": {},
   "source": [
    "# Model Description #"
   ]
  },
  {
   "attachments": {},
   "cell_type": "markdown",
   "metadata": {},
   "source": [
    "In this model project we are going to compare the Cournot Duopoly and Stackelberg Duopoly. Both models are game theoretical models but the effect on the market between the two models is different. In the Cournot model, we have two firms (in our case they are titled \"firm 1\" and \"firm 2\") where they produce a homogeneous goods. They choose simultaniously the quantity to produce (q1 for firm 1 and q2 for firm 2), where the Total Quantity is Q= q1+q2 and the Inverse Demand function is P(Q) = a - Q. Both firms have the same marginal cost (mc) with      0 $ \\leq $ c < a. \n",
    "\n",
    "The SetUp of the Cournot model: \n",
    "\n",
    "Profit functions for firm 1 and 2: \n",
    "\n",
    "$$ \\pi (q1,q2) = (a - (q1 + q2) - mc) * q1  $$ \n",
    "$$ \\pi (q1,q2) = (a - (q1 + q2) - mc) * q2  $$ \n",
    "\n",
    "Nash Equilibrium in the Cournot Model is found within the Best Response functions, where firm 1 is choosing its best response to firm 2 and vice versa. We find the Best Response functions by taking the first order conditions of both profit functions for firm 1 and 2, equal to zero. \n",
    "\n",
    "The Best response functions: \n",
    "\n",
    "$$ FOC1 = \\frac{\\pi(q1,q2)}{q1} = a - 2q1 - q2 -mc = 0 $$ \n",
    "$$ FOC2 = \\frac{\\pi(q1,q2)}{q2} = a - q1 - 2q2 -mc = 0 $$ \n",
    "\n",
    "The Best response functions are explained as: for every quantity of the other firm, the quantity that will maximize own pay off. Then we solve for q1 for firm 1 and q2 for firm 2: \n",
    "\n",
    "$$ q1(q2) = \\frac{a-mc-q2}{2}$$ \n",
    "$$ q2(q1) = \\frac{a-mc-q1}{2}$$ \n",
    "\n",
    "In cournot game, we can assume due to symmetry that $q1^* = q2^*$. We therefor write the Best Response as: \n",
    "\n",
    "$$ q2^* = q1^* = \\frac{a-mc}{3}$$ \n",
    "\n",
    "We then can implement the nash equilibrium quantities $ q1^* = q2^* = qNE$ into the profit functions and find the profit. \n",
    "In our solution for the Cournot model, we set the value for mc=10 and the value for a=40 and solve the model numerically. Then we do the same for Stackelberg. \n"
   ]
  },
  {
   "attachments": {},
   "cell_type": "markdown",
   "metadata": {},
   "source": [
    "## Symbolical Solution Cournot Model ##"
   ]
  },
  {
   "cell_type": "code",
   "execution_count": 2,
   "metadata": {},
   "outputs": [],
   "source": [
    "q1, q2 = symbols('q1 q2')\n",
    "a, mc = symbols('a mc')\n",
    "Q = q1 + q2 \n",
    "P = a - Q\n"
   ]
  },
  {
   "attachments": {},
   "cell_type": "markdown",
   "metadata": {},
   "source": [
    "We start be setting our symbols and then solve for the profit functions for both firm 1 and firm 2"
   ]
  },
  {
   "cell_type": "code",
   "execution_count": 3,
   "metadata": {},
   "outputs": [
    {
     "name": "stdout",
     "output_type": "stream",
     "text": [
      "The profit function for firm 1 is \n"
     ]
    },
    {
     "data": {
      "text/latex": [
       "$\\displaystyle q_{1} \\left(a - mc - q_{1} - q_{2}\\right)$"
      ],
      "text/plain": [
       "q1*(a - mc - q1 - q2)"
      ]
     },
     "execution_count": 3,
     "metadata": {},
     "output_type": "execute_result"
    }
   ],
   "source": [
    "profit1 = (a - Q - mc)*q1\n",
    "\n",
    "\n",
    "print(f'The profit function for firm 1 is ')\n",
    "profit1\n"
   ]
  },
  {
   "cell_type": "code",
   "execution_count": 4,
   "metadata": {},
   "outputs": [
    {
     "name": "stdout",
     "output_type": "stream",
     "text": [
      "The profit function for firm 2 is \n"
     ]
    },
    {
     "data": {
      "text/latex": [
       "$\\displaystyle q_{2} \\left(a - mc - q_{1} - q_{2}\\right)$"
      ],
      "text/plain": [
       "q2*(a - mc - q1 - q2)"
      ]
     },
     "execution_count": 4,
     "metadata": {},
     "output_type": "execute_result"
    }
   ],
   "source": [
    "profit2 = (a - Q - mc)*q2\n",
    "print(f'The profit function for firm 2 is ')\n",
    "profit2"
   ]
  },
  {
   "attachments": {},
   "cell_type": "markdown",
   "metadata": {},
   "source": [
    "Then we take the First Order Conditions for both profit functions"
   ]
  },
  {
   "cell_type": "code",
   "execution_count": 5,
   "metadata": {},
   "outputs": [
    {
     "name": "stdout",
     "output_type": "stream",
     "text": [
      " The First order Condition for Firm 1 on is\n"
     ]
    },
    {
     "data": {
      "text/latex": [
       "$\\displaystyle a - mc - 2 q_{1} - q_{2}$"
      ],
      "text/plain": [
       "a - mc - 2*q1 - q2"
      ]
     },
     "execution_count": 5,
     "metadata": {},
     "output_type": "execute_result"
    }
   ],
   "source": [
    "FOC1 = diff(profit1, q1)\n",
    "print(f' The First order Condition for Firm 1 on is')\n",
    "\n",
    "FOC1"
   ]
  },
  {
   "cell_type": "code",
   "execution_count": 6,
   "metadata": {},
   "outputs": [
    {
     "name": "stdout",
     "output_type": "stream",
     "text": [
      " The First order Condition for Firm 2 on is\n"
     ]
    },
    {
     "data": {
      "text/latex": [
       "$\\displaystyle a - mc - q_{1} - 2 q_{2}$"
      ],
      "text/plain": [
       "a - mc - q1 - 2*q2"
      ]
     },
     "execution_count": 6,
     "metadata": {},
     "output_type": "execute_result"
    }
   ],
   "source": [
    "FOC2 = diff(profit2, q2)\n",
    "print(f' The First order Condition for Firm 2 on is')\n",
    "FOC2"
   ]
  },
  {
   "attachments": {},
   "cell_type": "markdown",
   "metadata": {},
   "source": [
    "By solving for q1 for firm 1 and q2 for firm 2 we find the Best Response Functions, respectfully: "
   ]
  },
  {
   "cell_type": "code",
   "execution_count": 7,
   "metadata": {},
   "outputs": [
    {
     "name": "stdout",
     "output_type": "stream",
     "text": [
      "The Best Response Function for Firm 1 is:\n"
     ]
    },
    {
     "data": {
      "text/latex": [
       "$\\displaystyle \\left\\{ q_{1} : \\frac{a - mc - q_{2}}{2}\\right\\}$"
      ],
      "text/plain": [
       "{q1: (a - mc - q2)/2}"
      ]
     },
     "execution_count": 7,
     "metadata": {},
     "output_type": "execute_result"
    }
   ],
   "source": [
    "BR1 = solve([FOC1], [q1])\n",
    "\n",
    "print(f'The Best Response Function for Firm 1 is:')\n",
    "\n",
    "together(BR1) "
   ]
  },
  {
   "cell_type": "code",
   "execution_count": 8,
   "metadata": {},
   "outputs": [
    {
     "name": "stdout",
     "output_type": "stream",
     "text": [
      "The Best Response Function for Firm 2 is:\n"
     ]
    },
    {
     "data": {
      "text/latex": [
       "$\\displaystyle \\left\\{ q_{2} : \\frac{a - mc - q_{1}}{2}\\right\\}$"
      ],
      "text/plain": [
       "{q2: (a - mc - q1)/2}"
      ]
     },
     "execution_count": 8,
     "metadata": {},
     "output_type": "execute_result"
    }
   ],
   "source": [
    "BR2 = solve([FOC2], [q2])\n",
    "\n",
    "print(f'The Best Response Function for Firm 2 is:')\n",
    "\n",
    "together(BR2) "
   ]
  },
  {
   "attachments": {},
   "cell_type": "markdown",
   "metadata": {},
   "source": [
    "Then we set the q1=q2 and find the q for the Nash Equilibrium by substitution: "
   ]
  },
  {
   "cell_type": "code",
   "execution_count": 9,
   "metadata": {},
   "outputs": [
    {
     "name": "stdout",
     "output_type": "stream",
     "text": [
      "Then the Nash Equilibrium is q1 = q2 = qNE \n"
     ]
    },
    {
     "data": {
      "text/latex": [
       "$\\displaystyle \\left\\{ q_{1} : \\frac{a - mc}{3}\\right\\}$"
      ],
      "text/plain": [
       "{q1: (a - mc)/3}"
      ]
     },
     "execution_count": 9,
     "metadata": {},
     "output_type": "execute_result"
    }
   ],
   "source": [
    "BR1q = (a - mc - q2) / 2\n",
    "\n",
    "BR1_substituted = BR1q.subs(q2, q1)\n",
    "\n",
    "eq = Eq(q1, BR1_substituted)\n",
    "\n",
    "solution = solve([eq], [q1])\n",
    "\n",
    "print(f'Then the Nash Equilibrium is q1 = q2 = qNE ')\n",
    "\n",
    "together(solution)"
   ]
  },
  {
   "attachments": {},
   "cell_type": "markdown",
   "metadata": {},
   "source": [
    "## Numerical Solution ##\n"
   ]
  },
  {
   "attachments": {},
   "cell_type": "markdown",
   "metadata": {},
   "source": [
    "To solve our model numerically we set some values for marginal cost and the total demand when price is zero. \n",
    "In cournot, as stated above, we assume ( to begin with ) that both firms have the same marginal cost. \n",
    "In our case we set our values to: \n",
    "\n",
    "$$ mc1 = mc2 = 10 $$ \n",
    "$$ a = 40 $$\n",
    "\n",
    " By calculating the intersections of the Best Response functions for both firms we find the Cournot Nash Equilibrium and plot the results. We make the plot interactive, so you can change set parameters from our values and find the nash equilibrium given the new values, to see how they affect the nash equilibrium. All the code can be found in the py file. "
   ]
  },
  {
   "cell_type": "code",
   "execution_count": 10,
   "metadata": {},
   "outputs": [
    {
     "name": "stdout",
     "output_type": "stream",
     "text": [
      "Cournot Nash Equilibrium - Optimal quantity produced for both firms:\n",
      "\n",
      "Quantity for firm1: q1= 10.00\n",
      "Quantity for firm2: q2= 10.00\n"
     ]
    },
    {
     "data": {
      "application/vnd.jupyter.widget-view+json": {
       "model_id": "0582ab16343a4fbdb069814155ecb5ae",
       "version_major": 2,
       "version_minor": 0
      },
      "text/plain": [
       "interactive(children=(IntSlider(value=12, description='mc1', max=20, min=5), IntSlider(value=12, description='…"
      ]
     },
     "metadata": {},
     "output_type": "display_data"
    }
   ],
   "source": [
    "model = CournotDuopoly(10,10,40)\n",
    "\n",
    "q1opt, q2opt = model.equilibrium_values()\n",
    "print('Cournot Nash Equilibrium - Optimal quantity produced for both firms:\\n')\n",
    "print(f'Quantity for firm1: q1= {q1opt:.2f}\\nQuantity for firm2: q2= {q2opt:.2f}' )\n",
    "\n",
    "model.plot_cournot_nashequilibrium()\n"
   ]
  },
  {
   "attachments": {},
   "cell_type": "markdown",
   "metadata": {},
   "source": [
    "\n",
    "Now we want to see if the firms do not have the same marginal cost and how the optimal quantity changes for each firm. \n"
   ]
  },
  {
   "cell_type": "code",
   "execution_count": 11,
   "metadata": {},
   "outputs": [
    {
     "data": {
      "application/vnd.jupyter.widget-view+json": {
       "model_id": "f28a4b70ff07490090df2b63392f71c7",
       "version_major": 2,
       "version_minor": 0
      },
      "text/plain": [
       "interactive(children=(IntSlider(value=12, description='mc1', max=20, min=5), IntSlider(value=12, description='…"
      ]
     },
     "metadata": {},
     "output_type": "display_data"
    },
    {
     "data": {
      "text/plain": [
       "<function ipywidgets.widgets.interaction._InteractFactory.__call__.<locals>.<lambda>(*args, **kwargs)>"
      ]
     },
     "execution_count": 11,
     "metadata": {},
     "output_type": "execute_result"
    }
   ],
   "source": [
    "model = CournotDuopoly(10, 10, 40)\n",
    "widgets.interact(model.plot_cournot_mc_changes_firm1, mc1=(5, 20, 1), mc2=(5, 20, 1), a=(20, 60, 5))"
   ]
  },
  {
   "attachments": {},
   "cell_type": "markdown",
   "metadata": {},
   "source": [
    "As before, when the marginal cost increases, the optimal quantity decreases. Here it only happens for firm 1 while the marginal cost for firm 2 stays constant. When the Marginal Cost for the firm 1 increases, the optimal quantity for firm 2 increases, as the other firm is producing less. "
   ]
  },
  {
   "attachments": {},
   "cell_type": "markdown",
   "metadata": {},
   "source": [
    "## Move to Stackelberg Duopoly ## "
   ]
  },
  {
   "attachments": {},
   "cell_type": "markdown",
   "metadata": {},
   "source": [
    "For the Stackelberg model, we have also two firms that are titled firm 1 and firm 2, but now they do not choose their quantity simultaniously. Instead we have the firm 1 as the \"Leader\" and firm 2 as the \"follower\". First, firm 1 chooses their quantity, q1, and then firm 2 observes the quantity chosen by the leader and sets q2. The Total Quantity and the Inverse Demand function or the same as in the Cournot model, and the marginal cost is constant and identical (same for both firms). We use the same values for our marginal cost, mc and a as in the Cournot Model. \n",
    "\n",
    "The first steps to set up the Stackelberg model are identical to the Cournot model as we define our profit functions and take the first order conditions:\n",
    "\n",
    "The profit functions: \n",
    "\n",
    "$$ \\pi (q1,q2) = (a - (q1 + q2) - mc) * q1  $$ \n",
    "$$ \\pi (q1,q2) = (a - (q1 + q2) - mc) * q2  $$ \n",
    "\n",
    "The first order conditions(for the Best Response functions): \n",
    "\n",
    "$$ FOC1 = \\frac{\\pi(q1,q2)}{q1} = a - 2q1 - q2 -mc = 0 $$ \n",
    "$$ FOC2 = \\frac{\\pi(q1,q2)}{q2} = a - q1 - 2q2 -mc = 0 $$ \n",
    "\n",
    "However, we solve Stackelberg model with an backward induction. We therefor start by looking at the First Order Condition for firm 2 (Best Response function of firm 2) and substitute it into the profit function for firm 1: \n",
    "\n",
    "$$ \\pi(q1,BR2(q1) = q1* (a - (q1 + \\frac{a - q1 - mc}{2}) - mc) $$ \n",
    "\n",
    "and take the first order condition in relation to q1, and then solve for q1: \n",
    "$$ q1^* = \\frac{a - mc}{2}$$\n",
    "\n",
    "the next step is then to substitute $ q1^* $ in to the Best Response function for firm 2: \n",
    "\n",
    "$$ q2^* = BR2(q1^*) = \\frac{a - mc}{4}$$\n",
    "\n",
    "According to theory, the \"leader\" earns more then in the cournot game (given set parameters) while the follower earns less. We are going to put this theory up to a test in our model project. First, we start by solving the Cournot model - first symbolically and then numerically. Then, we do the same for the Stackelberg model and finally, compare our solutions."
   ]
  },
  {
   "attachments": {},
   "cell_type": "markdown",
   "metadata": {},
   "source": [
    "### Symbolical Solution for Stackelberg ### "
   ]
  },
  {
   "attachments": {},
   "cell_type": "markdown",
   "metadata": {},
   "source": [
    "In Stackelberg Duopoly we have two firms that now do not choose quantity simultanously like in the Cournot Model. We assume that firm 1 (\"Leader\") chooses first their quantity = q1. Then firm 2 (\"Follower\") observes the quantity the leader chose (q1) and then sets q2. "
   ]
  },
  {
   "cell_type": "code",
   "execution_count": 12,
   "metadata": {},
   "outputs": [],
   "source": [
    "q1, q2 = symbols('q1 q2')\n",
    "a, mc = symbols('a mc')\n",
    "Q = q1 + q2 \n",
    "P = a - Q\n",
    "\n"
   ]
  },
  {
   "cell_type": "code",
   "execution_count": 13,
   "metadata": {},
   "outputs": [
    {
     "data": {
      "text/latex": [
       "$\\displaystyle q_{1} \\left(a - mc - q_{1} - q_{2}\\right)$"
      ],
      "text/plain": [
       "q1*(a - mc - q1 - q2)"
      ]
     },
     "execution_count": 13,
     "metadata": {},
     "output_type": "execute_result"
    }
   ],
   "source": [
    "profitleader_Stackelberg = q1*(a - Q - mc)\n",
    "\n",
    "profitleader_Stackelberg"
   ]
  },
  {
   "cell_type": "code",
   "execution_count": 14,
   "metadata": {},
   "outputs": [
    {
     "data": {
      "text/latex": [
       "$\\displaystyle q_{2} \\left(a - mc - q_{1} - q_{2}\\right)$"
      ],
      "text/plain": [
       "q2*(a - mc - q1 - q2)"
      ]
     },
     "execution_count": 14,
     "metadata": {},
     "output_type": "execute_result"
    }
   ],
   "source": [
    "profitfollower_Stackelberg = q2*(a- Q - mc)\n",
    "\n",
    "profitfollower_Stackelberg"
   ]
  },
  {
   "attachments": {},
   "cell_type": "markdown",
   "metadata": {},
   "source": [
    "We solve the Stackelberg Game with a backward induction - so we start at stage two. q1 is already set, so firm 2 solves: \n",
    "\n",
    "$$\\pi(q1,q2) = q2*(a - Q - mc) $$ \n",
    "\n",
    "and find the Best Response function of firm 2 by taking the first order conditions."
   ]
  },
  {
   "cell_type": "code",
   "execution_count": 15,
   "metadata": {},
   "outputs": [
    {
     "data": {
      "text/latex": [
       "$\\displaystyle a - mc - q_{1} - 2 q_{2}$"
      ],
      "text/plain": [
       "a - mc - q1 - 2*q2"
      ]
     },
     "execution_count": 15,
     "metadata": {},
     "output_type": "execute_result"
    }
   ],
   "source": [
    "focfollower = diff(profitfollower_Stackelberg,q2)\n",
    "focfollower"
   ]
  },
  {
   "attachments": {},
   "cell_type": "markdown",
   "metadata": {},
   "source": [
    "And then by solving the first order conditions for q2 we get the Best Response function for firm 2: "
   ]
  },
  {
   "cell_type": "code",
   "execution_count": 16,
   "metadata": {},
   "outputs": [
    {
     "data": {
      "text/latex": [
       "$\\displaystyle \\left\\{ q_{2} : \\frac{a - mc - q_{1}}{2}\\right\\}$"
      ],
      "text/plain": [
       "{q2: (a - mc - q1)/2}"
      ]
     },
     "execution_count": 16,
     "metadata": {},
     "output_type": "execute_result"
    }
   ],
   "source": [
    "BR2follower = solve([focfollower],[q2])\n",
    "together(BR2follower)"
   ]
  },
  {
   "attachments": {},
   "cell_type": "markdown",
   "metadata": {},
   "source": [
    "Then by using backward induction we can insert this into the profit function for firm 1: "
   ]
  },
  {
   "cell_type": "code",
   "execution_count": 17,
   "metadata": {},
   "outputs": [
    {
     "data": {
      "text/latex": [
       "$\\displaystyle \\frac{q_{1} \\left(a - mc - q_{1}\\right)}{2}$"
      ],
      "text/plain": [
       "q1*(a - mc - q1)/2"
      ]
     },
     "execution_count": 17,
     "metadata": {},
     "output_type": "execute_result"
    }
   ],
   "source": [
    "BRfollower = solve(focfollower,q2)\n",
    "profitleader_Stackelberg_subs = profitleader_Stackelberg.subs(q2, BRfollower[0])\n",
    "together(profitleader_Stackelberg_subs)"
   ]
  },
  {
   "attachments": {},
   "cell_type": "markdown",
   "metadata": {},
   "source": [
    "Then to find the Best response function of firm 1, we take the first order conditions of the profit function for the leader, with the Best response function of firm 2 substituted for q2: "
   ]
  },
  {
   "cell_type": "code",
   "execution_count": 18,
   "metadata": {},
   "outputs": [
    {
     "data": {
      "text/latex": [
       "$\\displaystyle \\frac{a - mc - 2 q_{1}}{2}$"
      ],
      "text/plain": [
       "(a - mc - 2*q1)/2"
      ]
     },
     "execution_count": 18,
     "metadata": {},
     "output_type": "execute_result"
    }
   ],
   "source": [
    "focleader = diff(profitleader_Stackelberg_subs,q1)\n",
    "together(focleader)"
   ]
  },
  {
   "cell_type": "code",
   "execution_count": 19,
   "metadata": {},
   "outputs": [
    {
     "data": {
      "text/latex": [
       "$\\displaystyle \\left\\{ q_{1} : \\frac{a - mc}{2}\\right\\}$"
      ],
      "text/plain": [
       "{q1: (a - mc)/2}"
      ]
     },
     "execution_count": 19,
     "metadata": {},
     "output_type": "execute_result"
    }
   ],
   "source": [
    "BR1leader = solve([focleader],[q1])\n",
    "together(BR1leader)"
   ]
  },
  {
   "attachments": {},
   "cell_type": "markdown",
   "metadata": {},
   "source": [
    "And then the Best response function for the follower becomes: "
   ]
  },
  {
   "cell_type": "code",
   "execution_count": 20,
   "metadata": {},
   "outputs": [
    {
     "data": {
      "text/plain": [
       "[(a - mc)/4]"
      ]
     },
     "execution_count": 20,
     "metadata": {},
     "output_type": "execute_result"
    }
   ],
   "source": [
    "BRleader = solve(focleader,q1)\n",
    "BRfollower_subs = [elem.subs(q1, BRleader[0]) for elem in BRfollower]\n",
    "\n",
    "together(BRfollower_subs)"
   ]
  },
  {
   "attachments": {},
   "cell_type": "markdown",
   "metadata": {},
   "source": [
    "### Numerical analysis for Stackelberg Duopoly ### "
   ]
  },
  {
   "attachments": {},
   "cell_type": "markdown",
   "metadata": {},
   "source": [
    "Now we want to solve the Stackelberg model numerically. We note that the mc and a parameters are still the same as in the cournot model (mc=10 and a=40). "
   ]
  },
  {
   "cell_type": "code",
   "execution_count": 21,
   "metadata": {},
   "outputs": [
    {
     "name": "stdout",
     "output_type": "stream",
     "text": [
      "Optimal quantity for firm 1: 14.99999999254942\n",
      "Optimal quantity for firm 2: 7.500000003725289\n",
      "Profit for firm 1 (Stackelberg leader): 112\n",
      "Profit for firm 2 (Stackelberg follower): 56\n"
     ]
    },
    {
     "data": {
      "image/png": "[encoded data removed]",
      "text/plain": [
       "<Figure size 640x480 with 1 Axes>"
      ]
     },
     "metadata": {},
     "output_type": "display_data"
    }
   ],
   "source": [
    "# Create a StackelbergDuopoly object\n",
    "stackelberg_model = StackelbergDuopoly(10, 10, 40)\n",
    "\n",
    "# Call the method to get optimal values\n",
    "optimal_values = stackelberg_model.get_optimal_values_Stackelberg()\n",
    "stackelberg_model = StackelbergDuopoly(10, 10, 40)\n",
    "profits = stackelberg_model.calculate_profits()\n",
    "\n",
    "# Print the optimal values\n",
    "print(f'Optimal quantity for firm 1: {optimal_values[0]}')\n",
    "print(f'Optimal quantity for firm 2: {optimal_values[1]}')\n",
    "\n",
    "#Print the profits\n",
    "print(\"Profit for firm 1 (Stackelberg leader):\", profits[0])\n",
    "print(\"Profit for firm 2 (Stackelberg follower):\", profits[1])\n",
    "\n",
    "stackelberg_model.plot_Stackelberg()\n"
   ]
  },
  {
   "attachments": {},
   "cell_type": "markdown",
   "metadata": {},
   "source": [
    "# Comparison Cournot vs Stackelberg #"
   ]
  },
  {
   "attachments": {},
   "cell_type": "markdown",
   "metadata": {},
   "source": [
    "With our parameters set at \n",
    "\n",
    "$$ mc1 = mc2 = 10$$\n",
    "$$ a = 40 $$ \n",
    "\n",
    "We have found the optimal quantity for both firm 1 and firm 2 in cournot, where they decide on produced quantity simultaniously and in Stackelberg where firm 1 is the leader and firm 2 is the follower. Our results are stated below in a table, given these parameters:"
   ]
  },
  {
   "cell_type": "code",
   "execution_count": 22,
   "metadata": {},
   "outputs": [
    {
     "name": "stdout",
     "output_type": "stream",
     "text": [
      "               Variables  Values\n",
      "                     mc1   10.00\n",
      "                     mc2   10.00\n",
      "                       a   40.00\n",
      "              q1_Cournot   10.00\n",
      "              q2_Cournot   10.00\n",
      "         profit1_Cournot  100.00\n",
      "         profit2_Cournot  100.00\n",
      "    total_profit_Cournot  200.00\n",
      "          q1_Stackelberg   14.99\n",
      "          q2_Stackelberg    7.50\n",
      "     profit1_Stackelberg  112.50\n",
      "     profit2_Stackelberg   56.25\n",
      "total_profit_Stackelberg  168.75\n"
     ]
    }
   ],
   "source": [
    "# First, create instances of your classes\n",
    "cournot_model = CournotDuopoly(mc1=10, mc2=10, a=40)\n",
    "stackelberg_model = StackelbergDuopoly(mc1=10, mc2=10, a=40)\n",
    "\n",
    "# Then calculate the equilibrium quantities\n",
    "q_cournot = cournot_model.equilibrium_values()\n",
    "q_stackelberg = stackelberg_model.get_optimal_values_Stackelberg()\n",
    "\n",
    "# Calculate the profits for Cournot model\n",
    "profit1_cournot = cournot_model.profit1(q_cournot[0], q_cournot[1], 10)\n",
    "profit2_cournot = cournot_model.profit2(q_cournot[0], q_cournot[1], 10)\n",
    "\n",
    "# Calculate the profits for Stackelberg model\n",
    "profit1_stackelberg = stackelberg_model.profit1(q_stackelberg[0], q_stackelberg[1], 10)\n",
    "profit2_stackelberg = stackelberg_model.profit2(q_stackelberg[0], q_stackelberg[1], 10)\n",
    "\n",
    "# Define the parameters, obtained quantities and profits\n",
    "parameters = ['mc1', 'mc2', 'a']\n",
    "quantities_cournot = ['q1_Cournot', 'q2_Cournot']\n",
    "profits_cournot = ['profit1_Cournot', 'profit2_Cournot']\n",
    "quantities_stackelberg = ['q1_Stackelberg', 'q2_Stackelberg']\n",
    "profits_stackelberg = ['profit1_Stackelberg', 'profit2_Stackelberg']\n",
    "# Calculate the total profits for both models\n",
    "total_profit_cournot = profit1_cournot + profit2_cournot\n",
    "total_profit_stackelberg = profit1_stackelberg + profit2_stackelberg\n",
    "\n",
    "# Update the DataFrame to include these totals\n",
    "data = {\n",
    "    'Variables': parameters + quantities_cournot + profits_cournot + ['total_profit_Cournot'] + quantities_stackelberg + profits_stackelberg + ['total_profit_Stackelberg'],\n",
    "    'Values': [10, 10, 40, 10, 10, profit1_cournot, profit2_cournot, total_profit_cournot, 14.99, 7.5, profit1_stackelberg, profit2_stackelberg, total_profit_stackelberg]\n",
    "}\n",
    "\n",
    "# Create a DataFrame\n",
    "df = pd.DataFrame(data)\n",
    "\n",
    "\n",
    "\n",
    "# Print the DataFrame without index\n",
    "print(df.to_string(index=False))\n"
   ]
  },
  {
   "attachments": {},
   "cell_type": "markdown",
   "metadata": {},
   "source": [
    "We see that given our parameters, firm 1 is better off in Stackelberg Duopoly, while firm 2 is worse off. \n",
    "In cournot, both firms have profit = 100 and q1=q2=10, while in the Stackelberg model firm 1 increases his quantity produced while the follower produces less. Also the profit for firm 1 in Stackelberg gets a little bit higher and amounts to 112.50, while the profit for firm 2 nearly only amounts to a little more than half compared to the Cournot model, going from 100 in the cournot to 56.25 in the Stackelberg model. \n",
    "\n",
    "We can also see that the total profit is lower in the Stackelberg model, given our parameters. The firms should stay in Cournot duopoly as the total profit is better off, as the gain for firm 1 amounts to little against the total loss to make the change worth it. We also conclude that the theory where the leader earns more while the follower earns less than in the Cournot Model fits our solution. "
   ]
  },
  {
   "cell_type": "code",
   "execution_count": 23,
   "metadata": {},
   "outputs": [
    {
     "data": {
      "image/png": "[encoded data removed]",
      "text/plain": [
       "<Figure size 640x480 with 1 Axes>"
      ]
     },
     "metadata": {},
     "output_type": "display_data"
    }
   ],
   "source": [
    "cournot_model = CournotDuopoly(mc1=10, mc2=10, a=40)\n",
    "cournot_model.plot_comparison()"
   ]
  }
 ],
 "metadata": {
  "kernelspec": {
   "display_name": "base",
   "language": "python",
   "name": "python3"
  },
  "language_info": {
   "codemirror_mode": {
    "name": "ipython",
    "version": 3
   },
   "file_extension": ".py",
   "mimetype": "text/x-python",
   "name": "python",
   "nbconvert_exporter": "python",
   "pygments_lexer": "ipython3",
   "version": "3.9.13"
  },
  "toc-autonumbering": true,
  "vscode": {
   "interpreter": {
    "hash": "273cb3dc7decfc635fc785dacab26f4b52290f126a99c38a2710ba424b040f4c"
   }
  }
 },
 "nbformat": 4,
 "nbformat_minor": 4
}
