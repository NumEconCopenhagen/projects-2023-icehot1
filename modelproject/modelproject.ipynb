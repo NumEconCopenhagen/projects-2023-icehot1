{
 "cells": [
  {
   "cell_type": "markdown",
   "metadata": {},
   "source": [
    "# YOUR PROJECT TITLE"
   ]
  },
  {
   "attachments": {},
   "cell_type": "markdown",
   "metadata": {},
   "source": [
    "> **Note the following:** \n",
    "> 1. This is *not* meant to be an example of an actual **model analysis project**, just an example of how to structure such a project.\n",
    "> 1. Remember the general advice on structuring and commenting your code\n",
    "> 1. The `modelproject.py` file includes a function which could be used multiple times in this notebook."
   ]
  },
  {
   "cell_type": "markdown",
   "metadata": {},
   "source": [
    "Imports and set magics:"
   ]
  },
  {
   "cell_type": "code",
   "execution_count": 178,
   "metadata": {},
   "outputs": [
    {
     "name": "stdout",
     "output_type": "stream",
     "text": [
      "The autoreload extension is already loaded. To reload it, use:\n",
      "  %reload_ext autoreload\n"
     ]
    }
   ],
   "source": [
    "import numpy as np\n",
    "from scipy import optimize\n",
    "import sympy as sm\n",
    "\n",
    "# autoreload modules when code is run\n",
    "%load_ext autoreload\n",
    "%autoreload 2\n",
    "\n",
    "# local modules\n",
    "import modelproject"
   ]
  },
  {
   "attachments": {},
   "cell_type": "markdown",
   "metadata": {},
   "source": [
    "# Model description: The Ramsey-Cass-Koopmans model"
   ]
  },
  {
   "attachments": {},
   "cell_type": "markdown",
   "metadata": {},
   "source": [
    "Ramsey's model consists of households and firms where households maximize total present-day utility and firms maximize profits. In Ramsey's model, homes live forever, and this is complete foresight. The Ramsey model is often linked to the Solow model, but is simpler in the sense that it does not have to solve as many equations as is customary in Solow. We solve the Ramsey model by performing utility maximization, and for this we need to have the households' utility functions and their income bands, which we use to find the first-order condition. The utility function explains the aggregate utility of the household, while the income curve explains how capital stock changes between periods. We then set up a Lagrange function and end up with two differential equations – one for consumption (the Euler equation) and the other for the capital stock – that describe equilibrium."
   ]
  },
  {
   "attachments": {},
   "cell_type": "markdown",
   "metadata": {},
   "source": [
    "The general equilibrium of households and firms with a public sector where consumption is financed by tax revenue, G=T are those c(t) and k(t) that satisfy the following conditions in general:\n",
    "$$c(t) = \\frac{f'(k(t))-\\rho-\\theta g}{\\theta} c(t)$$\n",
    "$$ k(t)=f(k(t))-c(t)-G(t)-(n+g)k(t) $$\n",
    "$$ \\lim_{t \\rightarrow \\infty} e^{R(t)}e^{(n+g)t}k_t=0 $$\n",
    "$$ k(0)=k_0$$\n",
    "\n",
    "where\n",
    "$$ R_t = \\int\\limits_{\\tau=0}^t f'(k(\\tau)) d\\tau $$\n",
    "\n"
   ]
  },
  {
   "attachments": {},
   "cell_type": "markdown",
   "metadata": {},
   "source": [
    "We assume that the production function takes on the form of a cobb-douglas\n",
    "$$Y(t) = K(t)^{\\alpha} A(t)L(t)^{1-\\alpha}$$\n",
    "We get the the production per unit:\n",
    "$$ y(t) =  k(t)^\\alpha$$\n",
    "by defining \n",
    "$$k= (K/AL)^\\alpha$$\n",
    "and for the general equilibrium we need to know that: \n",
    "$$f'(k(t))= \\alpha k(t)^{\\alpha -1}$$"
   ]
  },
  {
   "attachments": {},
   "cell_type": "markdown",
   "metadata": {},
   "source": [
    "The Ramsey-Cass-Koopmans (RCK) model, also known as the neoclassical growth model, is a dynamic optimization model that describes the behavior of an economy over time. It is an extension of the Solow-Swan growth model, incorporating optimizing behavior by households and firms. The RCK model is used to study the optimal allocation of resources between consumption and investment, the dynamics of capital accumulation, and the implications of various economic policies on long-run growth. The model's main components include the utility function, production function, and the consumer's optimization problem."
   ]
  },
  {
   "attachments": {},
   "cell_type": "markdown",
   "metadata": {},
   "source": [
    "1. Utility function: The representative household in the RCK model aims to maximize its lifetime utility, which is a function of consumption over time. The utility function is typically assumed to be time-separable, with a constant relative risk aversion (CRRA) form:\n",
    "$$U(C) = \\int \\frac{C_t^{1-\\sigma} - 1}{1-\\sigma} e^{-\\rho t} dt$$\n",
    "2. Production function: The RCK model assumes a neoclassical production function, typically a Cobb-Douglas production function, which exhibits constant returns to scale:\n",
    "$$Y(t) = K_t^{\\alpha} L_t^{1-\\alpha}$$\n",
    "3. Consumer's optimization problem: The representative household in the RCK model seeks to maximize its lifetime utility subject to a budget constraint and the law of motion for capital. The budget constraint states that consumption plus investment must equal output:\n",
    "$$C_t + I_t = Y_t$$\n",
    "The law of motion for capital describes how the capital stock evolves over time:\n",
    "$$ K'_t = I_t - \\delta K_t $$\n",
    "\n",
    "where $K'_t$ is the change in the capital stock, $I_t$ is investment at time t, and $\\delta$ is the depreciation rate of capital.\n",
    "\n",
    "The consumer's optimization problem consists of choosing the optimal consumption and investment paths that maximize lifetime utility, subject to the budget constraint and the law of motion for capital. The solution to this problem yields the Euler equation, which characterizes the optimal consumption and capital accumulation paths in the RCK model."
   ]
  },
  {
   "cell_type": "code",
   "execution_count": 184,
   "metadata": {},
   "outputs": [
    {
     "name": "stdout",
     "output_type": "stream",
     "text": [
      "1.5215548351171728e-48\n"
     ]
    }
   ],
   "source": [
    "k_initial = k[0]\n",
    "y_initial = y[0]\n",
    "c_initial = c[0]\n",
    "r_initial = r[0]\n",
    "w_initial = w[0]\n",
    "\n",
    "print(c_initial)"
   ]
  },
  {
   "cell_type": "markdown",
   "metadata": {},
   "source": [
    "**Write out the model in equations here.** \n",
    "\n",
    "Make sure you explain well the purpose of the model and comment so that other students who may not have seen it before can follow.  "
   ]
  },
  {
   "cell_type": "markdown",
   "metadata": {},
   "source": [
    "## Analytical solution"
   ]
  },
  {
   "cell_type": "markdown",
   "metadata": {},
   "source": [
    "If your model allows for an analytical solution, you should provide here.\n",
    "\n",
    "You may use Sympy for this. Then you can characterize the solution as a function of a parameter of the model.\n",
    "\n",
    "To characterize the solution, first derive a steady state equation as a function of a parameter using Sympy.solve and then turn it into a python function by Sympy.lambdify. See the lecture notes for details. "
   ]
  },
  {
   "cell_type": "markdown",
   "metadata": {},
   "source": [
    "## Numerical solution"
   ]
  },
  {
   "cell_type": "markdown",
   "metadata": {},
   "source": [
    "You can always solve a model numerically. \n",
    "\n",
    "Define first the set of parameters you need. \n",
    "\n",
    "Then choose one of the optimization algorithms that we have gone through in the lectures based on what you think is most fitting for your model.\n",
    "\n",
    "Are there any problems with convergence? Does the model converge for all starting values? Make a lot of testing to figure these things out. "
   ]
  },
  {
   "cell_type": "markdown",
   "metadata": {},
   "source": [
    "# Further analysis"
   ]
  },
  {
   "cell_type": "markdown",
   "metadata": {},
   "source": [
    "Make detailed vizualizations of how your model changes with parameter values. \n",
    "\n",
    "Try to make an extension of the model. "
   ]
  },
  {
   "cell_type": "markdown",
   "metadata": {},
   "source": [
    "# Conclusion"
   ]
  },
  {
   "cell_type": "markdown",
   "metadata": {},
   "source": [
    "Add concise conclusion. "
   ]
  }
 ],
 "metadata": {
  "kernelspec": {
   "display_name": "base",
   "language": "python",
   "name": "python3"
  },
  "language_info": {
   "codemirror_mode": {
    "name": "ipython",
    "version": 3
   },
   "file_extension": ".py",
   "mimetype": "text/x-python",
   "name": "python",
   "nbconvert_exporter": "python",
   "pygments_lexer": "ipython3",
   "version": "3.9.13"
  },
  "toc-autonumbering": true,
  "vscode": {
   "interpreter": {
    "hash": "273cb3dc7decfc635fc785dacab26f4b52290f126a99c38a2710ba424b040f4c"
   }
  }
 },
 "nbformat": 4,
 "nbformat_minor": 4
}
