{
 "cells": [
  {
   "cell_type": "markdown",
   "metadata": {},
   "source": [
    "# Inaugural Project"
   ]
  },
  {
   "attachments": {},
   "cell_type": "markdown",
   "metadata": {},
   "source": [
    "> **Note the following:** \n",
    "> 1. This is an example of how to structure your **inaugural project**.\n",
    "> 1. Remember the general advice on structuring and commenting your code\n",
    "> 1. The `inauguralproject.py` file includes a function which can be used multiple times in this notebook."
   ]
  },
  {
   "cell_type": "markdown",
   "metadata": {},
   "source": [
    "Imports and set magics:"
   ]
  },
  {
   "cell_type": "code",
   "execution_count": 1,
   "metadata": {},
   "outputs": [],
   "source": [
    "import numpy as np\n",
    "\n",
    "# autoreload modules when code is run. Otherwise, python will not see recent changes. \n",
    "%load_ext autoreload\n",
    "%autoreload 2\n",
    "\n",
    "# Import your own code\n",
    "import inauguralproject"
   ]
  },
  {
   "cell_type": "markdown",
   "metadata": {},
   "source": [
    "# Question 1"
   ]
  },
  {
   "cell_type": "markdown",
   "metadata": {},
   "source": [
    "**Explain how you solve the model**"
   ]
  },
  {
   "cell_type": "code",
   "execution_count": 19,
   "metadata": {},
   "outputs": [
    {
     "name": "stdout",
     "output_type": "stream",
     "text": [
      "Alpha = 0.25\n",
      "Sigma = 0.5\n",
      "HF = 2.0\n",
      "HM = 6.5\n",
      "HF / HM = 0.3076923076923077\n",
      "Alpha = 0.25\n",
      "Sigma = 1.0\n",
      "HF = 2.0\n",
      "HM = 6.5\n",
      "HF / HM = 0.3076923076923077\n",
      "Alpha = 0.25\n",
      "Sigma = 1.5\n",
      "HF = 2.0\n",
      "HM = 6.5\n",
      "HF / HM = 0.3076923076923077\n",
      "Alpha = 0.5\n",
      "Sigma = 0.5\n",
      "HF = 4.5\n",
      "HM = 4.5\n",
      "HF / HM = 1.0\n",
      "Alpha = 0.5\n",
      "Sigma = 1.0\n",
      "HF = 4.5\n",
      "HM = 4.5\n",
      "HF / HM = 1.0\n",
      "Alpha = 0.5\n",
      "Sigma = 1.5\n",
      "HF = 4.5\n",
      "HM = 4.5\n",
      "HF / HM = 1.0\n",
      "Alpha = 0.75\n",
      "Sigma = 0.5\n",
      "HF = 6.5\n",
      "HM = 2.0\n",
      "HF / HM = 3.25\n",
      "Alpha = 0.75\n",
      "Sigma = 1.0\n",
      "HF = 6.5\n",
      "HM = 2.0\n",
      "HF / HM = 3.25\n",
      "Alpha = 0.75\n",
      "Sigma = 1.5\n",
      "HF = 6.5\n",
      "HM = 2.0\n",
      "HF / HM = 3.25\n"
     ]
    }
   ],
   "source": [
    "# code for solving the model (remember documentation and comments)\n",
    "\n",
    "model = inauguralproject.HouseholdSpecializationModelClass()\n",
    "\n",
    "alpha = 0\n",
    "sigma = 0\n",
    "\n",
    "for x in range(3):\n",
    "  sigma = 0\n",
    "  alpha += 0.25\n",
    "  model.par.alpha = alpha\n",
    "  for x in range(3):\n",
    "    sigma += 0.5\n",
    "    print(\"Alpha = \" + str(alpha))\n",
    "    print(\"Sigma = \" + str(sigma))\n",
    "    model.par.sigma = sigma\n",
    "    result = model.solve_discrete()\n",
    "    H_m = result.__getattribute__(\"HM\")\n",
    "    H_f = result.__getattribute__(\"HF\")\n",
    "\n",
    "    d = H_f / H_m\n",
    "    print(\"HF = \" + str(H_f))\n",
    "    print(\"HM = \" + str(H_m))\n",
    "    print(\"HF / HM = \" + str(d)) \n",
    "\n",
    "\n",
    "# print(model.solve_discrete().__getattribute__(\"LM\"))\n"
   ]
  },
  {
   "cell_type": "markdown",
   "metadata": {},
   "source": [
    "# Question 2"
   ]
  },
  {
   "cell_type": "markdown",
   "metadata": {},
   "source": [
    "Explain your code and procedure"
   ]
  },
  {
   "cell_type": "code",
   "execution_count": null,
   "metadata": {},
   "outputs": [],
   "source": [
    "# code"
   ]
  },
  {
   "cell_type": "markdown",
   "metadata": {},
   "source": [
    "# Question 3"
   ]
  },
  {
   "cell_type": "markdown",
   "metadata": {},
   "source": [
    "Explain your code and procedure"
   ]
  },
  {
   "cell_type": "code",
   "execution_count": null,
   "metadata": {},
   "outputs": [],
   "source": [
    "# code"
   ]
  },
  {
   "cell_type": "markdown",
   "metadata": {},
   "source": [
    "ADD CONCISE CONLUSION."
   ]
  }
 ],
 "metadata": {
  "kernelspec": {
   "display_name": "base",
   "language": "python",
   "name": "python3"
  },
  "language_info": {
   "codemirror_mode": {
    "name": "ipython",
    "version": 3
   },
   "file_extension": ".py",
   "mimetype": "text/x-python",
   "name": "python",
   "nbconvert_exporter": "python",
   "pygments_lexer": "ipython3",
   "version": "3.9.16"
  },
  "toc-autonumbering": true,
  "vscode": {
   "interpreter": {
    "hash": "f9e5b549d0c1eb4fcc9422f82f9dadc160ab9977fb3c32ea2ca9b49e2ec8595f"
   }
  }
 },
 "nbformat": 4,
 "nbformat_minor": 4
}
